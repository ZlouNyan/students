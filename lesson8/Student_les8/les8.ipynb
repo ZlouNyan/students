{
 "cells": [
  {
   "cell_type": "code",
   "execution_count": 1,
   "metadata": {},
   "outputs": [
    {
     "data": {
      "text/markdown": [
       "### 💠 Проверка устойчивости к механическому воздействию"
      ],
      "text/plain": [
       "<IPython.core.display.Markdown object>"
      ]
     },
     "metadata": {},
     "output_type": "display_data"
    }
   ],
   "source": [
    "import os,sys,inspect\n",
    "from ipywidgets import interact, interactive, fixed, interact_manual, Button\n",
    "from IPython.display import display, Markdown, Latex, Javascript, clear_output\n",
    "import emoji\n",
    "import time\n",
    "from datetime import date\n",
    "import ipywidgets as widgets\n",
    "import ipython_blocking\n",
    "import numpy as np\n",
    "from tqdm import tqdm_notebook\n",
    "import functools\n",
    "import configparser\n",
    "import webbrowser\n",
    "import shutil\n",
    "\n",
    "parentdir = os.path.abspath('../../../pymodules')\n",
    "\n",
    "sys.path.insert(0,parentdir)\n",
    "#from connect_device import connect\n",
    "from connect_device_v2.vizualizate import vizulizated_finds_devices, advanced_search_device,DeviceBundle\n",
    "from connect_device_v2.save_file import SaveFilesButton\n",
    "from connect_device_v2.connect import connect_to_device\n",
    "from connect_device_v2.find_device import FindDevice\n",
    "from connect_device_v2.auxiliary_commands import check_error,disable_all_correctors,enable_ifbf_for_all_segment\n",
    "import pandas as pd\n",
    "from datetime import datetime\n",
    "button = widgets.Button(\n",
    "                description='Continue',\n",
    "                disabled=False,\n",
    "                button_style='success',  # 'success', 'info', 'warning', 'danger' or ''\n",
    "                tooltip='Click me',\n",
    "                icon='play'        \n",
    "                )\n",
    "\n",
    "testname=\"Проверка устойчивости к механическому воздействию\"\n",
    "display(Markdown('### 💠 {}'.format(testname)))"
   ]
  },
  {
   "cell_type": "code",
   "execution_count": 2,
   "metadata": {},
   "outputs": [
    {
     "name": "stdout",
     "output_type": "stream",
     "text": [
      "Выбранная конфигурация\n",
      "filter_if:10 kHz\n",
      "point_value:200\n",
      "athenuator_value:10\n",
      "cap_value:6554\n"
     ]
    },
    {
     "data": {
      "application/vnd.jupyter.widget-view+json": {
       "model_id": "398d6f040b594c498827fefb357dd36c",
       "version_major": 2,
       "version_minor": 0
      },
      "text/plain": [
       "VBox(children=(Button(button_style='info', description='редактировать конфиг', layout=Layout(width='max-conten…"
      ]
     },
     "metadata": {},
     "output_type": "display_data"
    },
    {
     "data": {
      "application/javascript": [
       "Jupyter.notebook.select_next().execute_cells_below()"
      ],
      "text/plain": [
       "<IPython.core.display.Javascript object>"
      ]
     },
     "metadata": {},
     "output_type": "display_data"
    }
   ],
   "source": [
    "from connect_device_v2.find_device import FindDevice\n",
    "box = FindDevice()\n",
    "display(box)"
   ]
  },
  {
   "cell_type": "code",
   "execution_count": 11,
   "metadata": {},
   "outputs": [],
   "source": [
    "button = box.select_device_continue_button"
   ]
  },
  {
   "cell_type": "code",
   "execution_count": 12,
   "metadata": {},
   "outputs": [],
   "source": [
    "%blockrun button"
   ]
  },
  {
   "cell_type": "code",
   "execution_count": 13,
   "metadata": {},
   "outputs": [],
   "source": [
    "button1 = box.select_config_continue_button"
   ]
  },
  {
   "cell_type": "code",
   "execution_count": 14,
   "metadata": {},
   "outputs": [],
   "source": [
    "%blockrun button1"
   ]
  },
  {
   "cell_type": "code",
   "execution_count": 15,
   "metadata": {},
   "outputs": [],
   "source": [
    "inst = box.selected_device"
   ]
  },
  {
   "cell_type": "code",
   "execution_count": 16,
   "metadata": {},
   "outputs": [
    {
     "data": {
      "text/plain": [
       "10"
      ]
     },
     "execution_count": 16,
     "metadata": {},
     "output_type": "execute_result"
    }
   ],
   "source": [
    "inst.write(\"SYST:PRES\")"
   ]
  },
  {
   "cell_type": "code",
   "execution_count": 17,
   "metadata": {},
   "outputs": [],
   "source": [
    "result_config =  box.config"
   ]
  },
  {
   "cell_type": "code",
   "execution_count": 18,
   "metadata": {},
   "outputs": [],
   "source": [
    "# -*- coding: utf-8 -*-\n",
    "\"\"\"\n",
    "Created on Mon Jun 21 09:28:15 2021\n",
    "\n",
    "@author: kuzma.m\n",
    "\"\"\"\n",
    "\n",
    "import pyvisa as visa\n",
    "\n",
    "#функция декоратор\n",
    "def command_wrapper(f):\n",
    "    def wrapped(inst, command):\n",
    "        # print('До функции')\n",
    "        try:\n",
    "            if key == \"debug\":\n",
    "                print(command)\n",
    "        except:\n",
    "            pass\n",
    "        response = f(inst, command)\n",
    "        # print('После функции')\n",
    "        error = inst.query('SYST:ERR?')\n",
    "        if error != '0, No error':\n",
    "            print(error)\n",
    "        return response\n",
    "\n",
    "    # print('декорируем', f)\n",
    "    return wrapped\n",
    "\n",
    "#запрос данных\n",
    "@command_wrapper\n",
    "def query(inst, command):\n",
    "    result = inst.query(command)\n",
    "    return result\n",
    "\n",
    "@command_wrapper\n",
    "def query_ascii_values(inst, command):\n",
    "    result = inst.query_ascii_values(command)\n",
    "    return result\n",
    "\n",
    "#запрос данных\n",
    "@command_wrapper\n",
    "def write(inst, command):\n",
    "    inst.write(command)\n",
    "\n",
    "#Функция конвертации множителей kGz,MGh,GHz в герцы\n",
    "def HzConvertor(n,k):\n",
    "    if k == \"kHz\" or k == \"кГц\":\n",
    "        return int(n*1e+3)\n",
    "    elif k == \"MHz\" or k == \"МГц\":\n",
    "        return int(n*1e+6)\n",
    "    elif k == \"GHz\" or k == \"ГГц\":\n",
    "        return int(n*1e+9)\n",
    "    else: return -1\n",
    "\n",
    "#Функция однократного росчерка\n",
    "def singlescan(inst):\n",
    "    write(inst, f'TRIG:SOUR BUS')\n",
    "    write(inst, f'INIT:CONT OFF')\n",
    "    write(inst, f'INIT')\n",
    "    write(inst, f'TRIG:SING')\n",
    "    query(inst, f'*OPC?')"
   ]
  },
  {
   "cell_type": "code",
   "execution_count": 19,
   "metadata": {},
   "outputs": [],
   "source": [
    "value_dict = {}"
   ]
  },
  {
   "cell_type": "code",
   "execution_count": 20,
   "metadata": {},
   "outputs": [],
   "source": [
    "def tablesort():\n",
    "    global value_dict\n",
    "    temp_dict = {}\n",
    "    for i in range(1,int(query(inst,f'SERV:PORT:COUN?'))+1):\n",
    "        try:\n",
    "            temp_dict[f'S{i}{i}'] = value_dict[f'S{i}{i}'] \n",
    "        except KeyError:\n",
    "            pass    \n",
    "    value_dict = {}\n",
    "    value_dict = temp_dict"
   ]
  },
  {
   "cell_type": "code",
   "execution_count": 21,
   "metadata": {},
   "outputs": [],
   "source": [
    "out = widgets.HTML()\n"
   ]
  },
  {
   "cell_type": "code",
   "execution_count": 22,
   "metadata": {},
   "outputs": [],
   "source": [
    "def parse_config(config: dict):\n",
    "    new_config = config.copy()\n",
    "    \n",
    "    if_split = config['DEVICE']['filter_if'].split(\" \")\n",
    "    if_value = f'{HzConvertor(int(if_split[0]),if_split[1])}'\n",
    "    \n",
    "    \n",
    "    at_value = config['DEVICE']['athenuator_value']\n",
    "    poin_value = config['DEVICE']['point_value']\n",
    "    cap_value = config['DEVICE']['cap_value']\n",
    "    \n",
    "    \n",
    "    new_config['DEVICE']['if_value']=if_value\n",
    "    new_config['DEVICE']['athenuator_value']=at_value\n",
    "    new_config['DEVICE']['point_value'] = poin_value\n",
    "    new_config['DEVICE']['cap_value'] = cap_value\n",
    "    return new_config\n",
    "    "
   ]
  },
  {
   "cell_type": "code",
   "execution_count": 23,
   "metadata": {},
   "outputs": [],
   "source": [
    "new_config=parse_config(dict(result_config))"
   ]
  },
  {
   "cell_type": "code",
   "execution_count": 24,
   "metadata": {},
   "outputs": [],
   "source": [
    "def param(new_config):\n",
    "    #Пресет\n",
    "    write(inst, f'SYST:PRES')\n",
    "    \n",
    "    #Устанавливаем линейное сканирование\n",
    "    write(inst, f'SENS:SWE:TYPE LIN')\n",
    "    \n",
    "    #Запрашиваем полный диапазон частот прибора и устанавливаем\n",
    "    #freq_max = query(CMT, f'SERV:SWE:FREQ:MAX?')\n",
    "    #freq_min = query(CMT, f'SERV:SWE:FREQ:MAX?')\n",
    "    \n",
    "    \n",
    "    #Attenuator control – вкл. \n",
    "    write(inst, f'SERV:RFCTL:POW:STAT 1')\n",
    "    write(inst, f'SERV:RFCTL:POW:ATT {new_config[\"DEVICE\"][\"athenuator_value\"]}')\n",
    "\n",
    "    #Установить фильтр ПЧ\n",
    "    write(inst, f'SENS:BWID {new_config[\"DEVICE\"][\"if_value\"]}')\n",
    "    time.sleep(1) \n",
    "\n",
    "    #установить Код ЦАП.\n",
    "    write(inst, f'SERV:RFCTL:POW:DAC {new_config[\"DEVICE\"][\"cap_value\"]}')\n",
    "    \n",
    "    #установить кол-во точек.\n",
    "    write(inst, f'SENS:SWE:POIN {new_config[\"DEVICE\"][\"point_value\"]}')\n"
   ]
  },
  {
   "cell_type": "code",
   "execution_count": 25,
   "metadata": {},
   "outputs": [],
   "source": [
    "def setport(port):\n",
    "    \n",
    "    write(inst, f'CALC1:PAR:COUN 1')\n",
    "    write(inst, f'CALC1:PAR1:DEF S{port}{port}')"
   ]
  },
  {
   "cell_type": "code",
   "execution_count": 26,
   "metadata": {},
   "outputs": [],
   "source": [
    "def normalize():\n",
    "    write(inst,f'CALC:PAR:SEL')\n",
    "    write(inst,f'CALC:MATH:MEM')\n",
    "    write(inst,f'CALC:MATH:FUNC DIV')\n",
    "    "
   ]
  },
  {
   "cell_type": "code",
   "execution_count": 27,
   "metadata": {},
   "outputs": [],
   "source": [
    "def gridbutton(count):\n",
    "    row = 0\n",
    "    port_count = 0\n",
    "    \n",
    "    if count%6 == 0:\n",
    "        row_1 = count//6\n",
    "    else:\n",
    "        row_1 = count//6+1\n",
    "    c = 6\n",
    "    grid = widgets.GridspecLayout(row_1 * 3, 6)\n",
    "    for i in range(row_1):\n",
    "        if i == row_1 - 1:\n",
    "            c = count - c * i\n",
    "        for j in range(c):\n",
    "            port_count += 1\n",
    "            g1 = widgets.Button(description=f'До воздействия')\n",
    "            g1.on_click(functools.partial(before_on_button_clicked, rs_=f'{port_count}'))\n",
    "\n",
    "            g2 =  widgets.Button(description=f'После воздействия')\n",
    "            g2.on_click(functools.partial(after_on_button_clicked, rs_=f'{port_count}'))\n",
    "            grid[row + 0, j] = widgets.Label(value=f'port {port_count}')\n",
    "            grid[row + 1, j] = g1\n",
    "            grid[row + 2, j] = g2\n",
    "        row += 3\n",
    "    display(grid)\n"
   ]
  },
  {
   "cell_type": "code",
   "execution_count": 28,
   "metadata": {},
   "outputs": [],
   "source": [
    "#Устанавливаем параметры и выставляем порты\n",
    "param(new_config)\n",
    "\n",
    "date_inf = f'{date.today()}'\n",
    "time_inf = query(inst,f'SYST:TIME?')"
   ]
  },
  {
   "cell_type": "code",
   "execution_count": 29,
   "metadata": {},
   "outputs": [],
   "source": [
    "def marksearch():\n",
    "        \n",
    "    trace = query(inst, f'CALC1:PAR1:DEF?')\n",
    "    write(inst, f'CALC1:TRAC1:MARK1:STAT ON')\n",
    "    write(inst, f'CALC1:TRAC1:MARK2:STAT ON')\n",
    "    write(inst, f'CALC:MARK1:FUNC:TYPE MAX')\n",
    "    write(inst, f'CALC:MARK2:FUNC:TYPE MIN')\n",
    "\n",
    "    write(inst, f'CALC:MARK1:FUNC:EXEC')\n",
    "    write(inst, f'CALC:MARK2:FUNC:EXEC')\n",
    "\n",
    "    max_value = abs(query_ascii_values(inst, f'CALC:MARK1:Y?')[0])\n",
    "    min_value = abs(query_ascii_values(inst, f'CALC:MARK2:Y?')[0])\n",
    "    if max_value > min_value:\n",
    "        value_dict.update({f'{trace}': max_value})\n",
    "    else:\n",
    "        value_dict.update({f'{trace}': min_value})"
   ]
  },
  {
   "cell_type": "code",
   "execution_count": 30,
   "metadata": {},
   "outputs": [],
   "source": [
    "from IPython.display import HTML, display\n",
    "\n",
    "def tablehtml(): \n",
    "    #создаем строку для ввода в html страницу\n",
    "    htmlstr = \"<table border='1' ><tr><td>Порт</td><td>Отклонение</td><td>Максимум, дБ</td></tr><tr>\"\n",
    "    count = 0\n",
    "    MAX = -1\n",
    "    for trace in value_dict.keys():\n",
    "        if value_dict[f'{trace}'] > MAX:\n",
    "            MAX = value_dict[f'{trace}']\n",
    "    for trace in value_dict.keys():\n",
    "        trace_value = value_dict[f'{trace}']\n",
    "        cut = (len(trace)-1)//2 + 1\n",
    "        port_data = trace[cut:]\n",
    "        if trace_value == MAX:\n",
    "            htmlstr += f'<td>{port_data}</td><td class = bg-warning>{trace_value}</td>'\n",
    "        else:\n",
    "            htmlstr += f'<td>{port_data}</td><td>{trace_value}</td>'\n",
    "        if count == 0:\n",
    "            htmlstr += f'<td rowspan={len(value_dict.keys())+1}>{MAX}</td>'\n",
    "            count += 1\n",
    "        htmlstr += \"</tr><tr>\"\n",
    "    \n",
    "    return htmlstr\n",
    "\n"
   ]
  },
  {
   "cell_type": "code",
   "execution_count": 31,
   "metadata": {},
   "outputs": [],
   "source": [
    "def teblehader():\n",
    "    \n",
    "    idn_inf = query(inst,f'*IDN?').split(', ')\n",
    "    #idn_inf = \"\".join(idn_inf).split(\", \")\n",
    "    htmlstr = \"<table border='1' ><tr><td> Дата запуска </td><td> Время запуска </td><td>  device </td><td> model </td><td> serial </td><td>  version </td></tr><tr>\"\n",
    "    htmlstr += f'<td>{date_inf}</td><td>{time_inf}</td><td>{idn_inf[0]}</td><td>{idn_inf[1]}</td><td>{idn_inf[2]}</td><td>{idn_inf[3]}</td>'\n",
    "    return htmlstr"
   ]
  },
  {
   "cell_type": "code",
   "execution_count": 32,
   "metadata": {},
   "outputs": [],
   "source": [
    "def before_on_button_clicked(b, rs_=\"some_default_string\"):\n",
    "    setport(rs_)\n",
    "    singlescan(inst)\n",
    "    normalize()\n",
    "    b.button_style = 'success'"
   ]
  },
  {
   "cell_type": "code",
   "execution_count": 33,
   "metadata": {},
   "outputs": [],
   "source": [
    "def after_on_button_clicked(b, rs_=\"some_default_string\"):\n",
    "    setport(rs_)\n",
    "    singlescan(inst)\n",
    "    marksearch()\n",
    "    out.value = teblehader() + tablehtml()\n",
    "    b.button_style = 'success'\n",
    "    global save_button\n",
    "    save_button.file_data = teblehader() + tablehtml()\n"
   ]
  },
  {
   "cell_type": "code",
   "execution_count": 34,
   "metadata": {},
   "outputs": [],
   "source": [
    "def sort_on_button_clicked(b):\n",
    "    tablesort()\n",
    "    out.value = teblehader() + tablehtml()\n",
    "    global save_button\n",
    "    save_button.file_data = teblehader() + tablehtml()"
   ]
  },
  {
   "cell_type": "code",
   "execution_count": 35,
   "metadata": {
    "scrolled": false
   },
   "outputs": [
    {
     "data": {
      "application/vnd.jupyter.widget-view+json": {
       "model_id": "fd938a712e7242a588f716a45fb6ff70",
       "version_major": 2,
       "version_minor": 0
      },
      "text/plain": [
       "GridspecLayout(children=(Label(value='port 1', layout=Layout(grid_area='widget001')), Button(description='До в…"
      ]
     },
     "metadata": {},
     "output_type": "display_data"
    },
    {
     "data": {
      "application/vnd.jupyter.widget-view+json": {
       "model_id": "c8f0b1fd4dd14d3e98473a0219be54ba",
       "version_major": 2,
       "version_minor": 0
      },
      "text/plain": [
       "HTML(value='')"
      ]
     },
     "metadata": {},
     "output_type": "display_data"
    },
    {
     "data": {
      "application/vnd.jupyter.widget-view+json": {
       "model_id": "fd8c5d2f1a924579b0dd10653bdfaf2b",
       "version_major": 2,
       "version_minor": 0
      },
      "text/plain": [
       "Button(description='Сортировать таблицу', style=ButtonStyle())"
      ]
     },
     "metadata": {},
     "output_type": "display_data"
    },
    {
     "data": {
      "application/vnd.jupyter.widget-view+json": {
       "model_id": "582c76e731d54a4399b1557ba10b70ad",
       "version_major": 2,
       "version_minor": 0
      },
      "text/plain": [
       "SaveFilesButton(description='SaveFiles', icon='square-o', style=ButtonStyle(button_color='orange'))"
      ]
     },
     "metadata": {},
     "output_type": "display_data"
    }
   ],
   "source": [
    "\n",
    "gridbutton(int(query(inst,f'SERV:PORT:COUN?')))\n",
    "display(out)\n",
    "save_button = SaveFilesButton(out.value)\n",
    "sort_button =  widgets.Button(description=f'Сортировать таблицу')\n",
    "sort_button.on_click(sort_on_button_clicked)\n",
    "display(sort_button)\n",
    "display(save_button)\n"
   ]
  },
  {
   "cell_type": "code",
   "execution_count": 36,
   "metadata": {},
   "outputs": [],
   "source": [
    "#cont_button = widgets.Button(description=f'Сохранить')\n",
    "#display(cont_button)"
   ]
  },
  {
   "cell_type": "code",
   "execution_count": 37,
   "metadata": {},
   "outputs": [],
   "source": [
    "#%blockrun cont_button"
   ]
  },
  {
   "cell_type": "code",
   "execution_count": null,
   "metadata": {},
   "outputs": [],
   "source": []
  },
  {
   "cell_type": "code",
   "execution_count": null,
   "metadata": {},
   "outputs": [],
   "source": []
  },
  {
   "cell_type": "code",
   "execution_count": null,
   "metadata": {},
   "outputs": [],
   "source": []
  }
 ],
 "metadata": {
  "kernelspec": {
   "display_name": "Python 3 (ipykernel)",
   "language": "python",
   "name": "python3"
  },
  "language_info": {
   "codemirror_mode": {
    "name": "ipython",
    "version": 3
   },
   "file_extension": ".py",
   "mimetype": "text/x-python",
   "name": "python",
   "nbconvert_exporter": "python",
   "pygments_lexer": "ipython3",
   "version": "3.10.5"
  }
 },
 "nbformat": 4,
 "nbformat_minor": 2
}
