{
 "cells": [
  {
   "cell_type": "code",
   "execution_count": 1,
   "metadata": {},
   "outputs": [
    {
     "data": {
      "text/markdown": [
       "### 💠 Проверка устойчивости к механическому воздействию"
      ],
      "text/plain": [
       "<IPython.core.display.Markdown object>"
      ]
     },
     "metadata": {},
     "output_type": "display_data"
    }
   ],
   "source": [
    "import os,sys,inspect\n",
    "from IPython.display import display, Markdown, Latex, Javascript, clear_output\n",
    "import emoji\n",
    "import time\n",
    "import ipywidgets as widgets\n",
    "import ipython_blocking\n",
    "import numpy as np\n",
    "import time\n",
    "from tqdm import tqdm_notebook\n",
    "import functools\n",
    "import configparser\n",
    "import webbrowser\n",
    "import shutil\n",
    "\n",
    "parentdir = os.path.abspath('../../../pymodules')\n",
    "\n",
    "sys.path.insert(0,parentdir)\n",
    "#from connect_device import connect\n",
    "from connect_device_v2.vizualizate import vizulizated_finds_devices, advanced_search_device,DeviceBundle\n",
    "from connect_device_v2.save_file import SaveFilesButton\n",
    "from connect_device_v2.connect import connect_to_device\n",
    "from connect_device_v2.find_device import FindDevice\n",
    "from connect_device_v2.auxiliary_commands import check_error,disable_all_correctors,enable_ifbf_for_all_segment\n",
    "import pandas as pd\n",
    "from datetime import datetime\n",
    "button = widgets.Button(\n",
    "                description='Continue',\n",
    "                disabled=False,\n",
    "                button_style='success',  # 'success', 'info', 'warning', 'danger' or ''\n",
    "                tooltip='Click me',\n",
    "                icon='play'        \n",
    "                )\n",
    "\n",
    "testname=\"Проверка устойчивости к механическому воздействию\"\n",
    "display(Markdown('### 💠 {}'.format(testname)))"
   ]
  },
  {
   "cell_type": "code",
   "execution_count": 33,
   "metadata": {},
   "outputs": [
    {
     "data": {
      "application/javascript": [
       "Jupyter.notebook.select_next().execute_cells_below()"
      ],
      "text/plain": [
       "<IPython.core.display.Javascript object>"
      ]
     },
     "metadata": {},
     "output_type": "display_data"
    },
    {
     "data": {
      "application/vnd.jupyter.widget-view+json": {
       "model_id": "62b9b6f708dd465f9de6f332fb2ff938",
       "version_major": 2,
       "version_minor": 0
      },
      "text/plain": [
       "FindDevice(children=(Dropdown(description='Выберите устройство:', layout=Layout(width='max-content'), options=…"
      ]
     },
     "metadata": {},
     "output_type": "display_data"
    }
   ],
   "source": [
    "from connect_device_v2.find_device import FindDevice\n",
    "box = FindDevice()\n",
    "display(box)"
   ]
  },
  {
   "cell_type": "code",
   "execution_count": 34,
   "metadata": {},
   "outputs": [],
   "source": [
    "button = box.select_device_continue_button"
   ]
  },
  {
   "cell_type": "code",
   "execution_count": null,
   "metadata": {},
   "outputs": [],
   "source": [
    "%blockrun button"
   ]
  },
  {
   "cell_type": "code",
   "execution_count": null,
   "metadata": {},
   "outputs": [],
   "source": [
    "button1 = box.select_config_continue_button"
   ]
  },
  {
   "cell_type": "code",
   "execution_count": null,
   "metadata": {},
   "outputs": [],
   "source": [
    "%blockrun button1"
   ]
  },
  {
   "cell_type": "code",
   "execution_count": null,
   "metadata": {},
   "outputs": [],
   "source": [
    "inst = box.selected_device"
   ]
  },
  {
   "cell_type": "code",
   "execution_count": null,
   "metadata": {},
   "outputs": [],
   "source": [
    "inst.write(\"SYST:PRES\")"
   ]
  },
  {
   "cell_type": "code",
   "execution_count": null,
   "metadata": {},
   "outputs": [],
   "source": [
    "result_config =  box.config"
   ]
  },
  {
   "cell_type": "code",
   "execution_count": null,
   "metadata": {},
   "outputs": [],
   "source": [
    "# -*- coding: utf-8 -*-\n",
    "\"\"\"\n",
    "Created on Mon Jun 21 09:28:15 2021\n",
    "\n",
    "@author: kuzma.m\n",
    "\"\"\"\n",
    "\n",
    "import pyvisa as visa\n",
    "\n",
    "#функция декоратор\n",
    "def command_wrapper(f):\n",
    "    def wrapped(inst, command):\n",
    "        # print('До функции')\n",
    "        try:\n",
    "            if key == \"debug\":\n",
    "                print(command)\n",
    "        except:\n",
    "            pass\n",
    "        response = f(inst, command)\n",
    "        # print('После функции')\n",
    "        error = inst.query('SYST:ERR?')\n",
    "        if error != '0, No error':\n",
    "            print(error)\n",
    "        return response\n",
    "\n",
    "    # print('декорируем', f)\n",
    "    return wrapped\n",
    "\n",
    "#запрос данных\n",
    "@command_wrapper\n",
    "def query(inst, command):\n",
    "    result = inst.query(command)\n",
    "    return result\n",
    "\n",
    "@command_wrapper\n",
    "def query_ascii_values(inst, command):\n",
    "    result = inst.query_ascii_values(command)\n",
    "    return result\n",
    "\n",
    "#запрос данных\n",
    "@command_wrapper\n",
    "def write(inst, command):\n",
    "    inst.write(command)\n",
    "\n",
    "#Функция конвертации множителей kGz,MGh,GHz в герцы\n",
    "def HzConvertor(n,k):\n",
    "    if k == \"kHz\" or k == \"кГц\":\n",
    "        return int(n*1e+3)\n",
    "    elif k == \"MHz\" or k == \"МГц\":\n",
    "        return int(n*1e+6)\n",
    "    elif k == \"GHz\" or k == \"ГГц\":\n",
    "        return int(n*1e+9)\n",
    "    else: return -1\n",
    "\n",
    "#Функция однократного росчерка\n",
    "def singlescan(inst):\n",
    "    write(inst, f'TRIG:SOUR BUS')\n",
    "    write(inst, f'INIT:CONT OFF')\n",
    "    write(inst, f'INIT')\n",
    "    write(inst, f'TRIG:SING')\n",
    "    query(inst, f'*OPC?')"
   ]
  },
  {
   "cell_type": "code",
   "execution_count": null,
   "metadata": {},
   "outputs": [],
   "source": [
    "value_dict = {}"
   ]
  },
  {
   "cell_type": "code",
   "execution_count": null,
   "metadata": {},
   "outputs": [],
   "source": [
    "def parse_config(config: dict):\n",
    "    new_config = config.copy()\n",
    "    \n",
    "    if_split = config['DEVICE']['filter_if'].split(\" \")\n",
    "    if_value = f'{HzConvertor(int(if_split[0]),if_split[1])}'\n",
    "    \n",
    "    \n",
    "    at_value = config['DEVICE']['athenuator_value']\n",
    "    poin_value = config['DEVICE']['point_value']\n",
    "    cap_value = config['DEVICE']['cap_value']\n",
    "    \n",
    "    \n",
    "    new_config['DEVICE']['if_value']=if_value\n",
    "    new_config['DEVICE']['athenuator_value']=at_value\n",
    "    new_config['DEVICE']['point_value'] = poin_value\n",
    "    new_config['DEVICE']['cap_value'] = cap_value\n",
    "    return new_config\n",
    "    "
   ]
  },
  {
   "cell_type": "code",
   "execution_count": null,
   "metadata": {},
   "outputs": [],
   "source": [
    "new_config=parse_config(dict(result_config))"
   ]
  },
  {
   "cell_type": "code",
   "execution_count": null,
   "metadata": {},
   "outputs": [],
   "source": [
    "def param(new_config):\n",
    "    #Пресет\n",
    "    write(inst, f'SYST:PRES')\n",
    "    \n",
    "    #Устанавливаем линейное сканирование\n",
    "    write(inst, f'SENS:SWE:TYPE LIN')\n",
    "    \n",
    "    #Запрашиваем полный диапазон частот прибора и устанавливаем\n",
    "    #freq_max = query(CMT, f'SERV:SWE:FREQ:MAX?')\n",
    "    #freq_min = query(CMT, f'SERV:SWE:FREQ:MAX?')\n",
    "    \n",
    "    \n",
    "    #Attenuator control – вкл. \n",
    "    write(inst, f'SERV:RFCTL:POW:STAT 1')\n",
    "    write(inst, f'SERV:RFCTL:POW:ATT {new_config[\"DEVICE\"][\"athenuator_value\"]}')\n",
    "\n",
    "    #Установить фильтр ПЧ\n",
    "    write(inst, f'SENS:BWID {new_config[\"DEVICE\"][\"if_value\"]}')\n",
    "    time.sleep(1) \n",
    "\n",
    "    #установить Код ЦАП.\n",
    "    write(inst, f'SERV:RFCTL:POW:DAC {new_config[\"DEVICE\"][\"cap_value\"]}')\n",
    "    \n",
    "    #установить кол-во точек.\n",
    "    write(inst, f'SENS:SWE:POIN {new_config[\"DEVICE\"][\"point_value\"]}')\n"
   ]
  },
  {
   "cell_type": "code",
   "execution_count": null,
   "metadata": {},
   "outputs": [],
   "source": [
    "def setport():\n",
    "    ports = query(inst,f'SERV:PORT:COUN?')\n",
    "    write(inst, f'CALC1:PAR:COUN {ports}')\n",
    "    for port in range(1,int(ports) + 1):\n",
    "        write(inst, f'CALC1:PAR{port}:DEF S{port}{port}')"
   ]
  },
  {
   "cell_type": "code",
   "execution_count": null,
   "metadata": {},
   "outputs": [],
   "source": [
    "def normalize():\n",
    "    coun = query(inst,f'CALC1:PAR:COUN?')\n",
    "    for trace in range(1,int(coun) + 1):\n",
    "        write(inst,f'CALC:PAR{trace}:SEL')\n",
    "        write(inst,f'CALC:MATH:MEM')\n",
    "        write(inst,f'CALC:MATH:FUNC DIV')\n",
    "    "
   ]
  },
  {
   "cell_type": "code",
   "execution_count": null,
   "metadata": {},
   "outputs": [],
   "source": [
    "#Устанавливаем параметры и выставляем порты\n",
    "param(new_config)\n",
    "setport()"
   ]
  },
  {
   "cell_type": "code",
   "execution_count": null,
   "metadata": {},
   "outputs": [],
   "source": [
    "#кнопка для выполнения нормализации\n",
    "button_normalize = widgets.Button(description='Нормализировать', \n",
    "                        button_style='success' # 'success', 'info', 'warning', 'danger', ''\n",
    "                        )\n",
    "display(button_normalize)"
   ]
  },
  {
   "cell_type": "code",
   "execution_count": null,
   "metadata": {},
   "outputs": [],
   "source": [
    "%blockrun button_normalize"
   ]
  },
  {
   "cell_type": "code",
   "execution_count": null,
   "metadata": {},
   "outputs": [],
   "source": [
    "#нормализация\n",
    "normalize()"
   ]
  },
  {
   "cell_type": "code",
   "execution_count": null,
   "metadata": {},
   "outputs": [],
   "source": [
    "def marksearch(sost):\n",
    "    value_dict.update({f'{sost}': {}})\n",
    "    coun = query(inst,f'CALC1:PAR:COUN?')\n",
    "    for trace in range(1,int(coun)+1):\n",
    "        \n",
    "        write(inst,f'CALC:PAR{trace}:SEL')\n",
    "        write(inst, f'CALC1:TRAC{trace}:MARK1:STAT ON')\n",
    "        write(inst, f'CALC1:TRAC{trace}:MARK2:STAT ON')\n",
    "        write(inst, f'CALC:MARK1:FUNC:TYPE MAX')\n",
    "        write(inst, f'CALC:MARK2:FUNC:TYPE MIN')\n",
    "        \n",
    "        write(inst, f'CALC:MARK1:FUNC:EXEC')\n",
    "        write(inst, f'CALC:MARK2:FUNC:EXEC')\n",
    "        \n",
    "        max_value = abs(query_ascii_values(inst, f'CALC:MARK1:Y?')[0])\n",
    "        min_value = abs(query_ascii_values(inst, f'CALC:MARK2:Y?')[0])\n",
    "        if max_value > min_value:\n",
    "            print(f'{trace} = {max_value}')\n",
    "            value_dict[f'{sost}'].update({f'S{trace}{trace}': max_value})\n",
    "        else:\n",
    "            print(f'{trace} = {min_value}')\n",
    "            value_dict[f'{sost}'].update({f'S{trace}{trace}': min_value})"
   ]
  },
  {
   "cell_type": "code",
   "execution_count": null,
   "metadata": {},
   "outputs": [],
   "source": [
    "marksearch(\"before\")\n",
    "DSADSAD\n",
    "marksearch(\"AFTER\")"
   ]
  }
 ],
 "metadata": {
  "kernelspec": {
   "display_name": "Python 3",
   "language": "python",
   "name": "python3"
  },
  "language_info": {
   "codemirror_mode": {
    "name": "ipython",
    "version": 3
   },
   "file_extension": ".py",
   "mimetype": "text/x-python",
   "name": "python",
   "nbconvert_exporter": "python",
   "pygments_lexer": "ipython3",
   "version": "3.7.3"
  }
 },
 "nbformat": 4,
 "nbformat_minor": 2
}
