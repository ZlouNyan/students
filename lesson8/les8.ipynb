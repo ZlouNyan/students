{
 "cells": [
  {
   "cell_type": "code",
   "execution_count": 1,
   "metadata": {},
   "outputs": [
    {
     "data": {
      "text/markdown": [
       "### 💠 Проверка устойчивости к механическому воздействию"
      ],
      "text/plain": [
       "<IPython.core.display.Markdown object>"
      ]
     },
     "metadata": {},
     "output_type": "display_data"
    }
   ],
   "source": [
    "import os,sys,inspect\n",
    "from ipywidgets import interact, interactive, fixed, interact_manual, Button\n",
    "from IPython.display import display, Markdown, Latex, Javascript, clear_output\n",
    "import emoji\n",
    "import time\n",
    "import ipywidgets as widgets\n",
    "import ipython_blocking\n",
    "import numpy as np\n",
    "import time\n",
    "from tqdm import tqdm_notebook\n",
    "import functools\n",
    "import configparser\n",
    "import webbrowser\n",
    "import shutil\n",
    "\n",
    "parentdir = os.path.abspath('../../../pymodules')\n",
    "\n",
    "sys.path.insert(0,parentdir)\n",
    "#from connect_device import connect\n",
    "from connect_device_v2.vizualizate import vizulizated_finds_devices, advanced_search_device,DeviceBundle\n",
    "from connect_device_v2.save_file import SaveFilesButton\n",
    "from connect_device_v2.connect import connect_to_device\n",
    "from connect_device_v2.find_device import FindDevice\n",
    "from connect_device_v2.auxiliary_commands import check_error,disable_all_correctors,enable_ifbf_for_all_segment\n",
    "import pandas as pd\n",
    "from datetime import datetime\n",
    "button = widgets.Button(\n",
    "                description='Continue',\n",
    "                disabled=False,\n",
    "                button_style='success',  # 'success', 'info', 'warning', 'danger' or ''\n",
    "                tooltip='Click me',\n",
    "                icon='play'        \n",
    "                )\n",
    "\n",
    "testname=\"Проверка устойчивости к механическому воздействию\"\n",
    "display(Markdown('### 💠 {}'.format(testname)))"
   ]
  },
  {
   "cell_type": "code",
   "execution_count": 2,
   "metadata": {},
   "outputs": [
    {
     "name": "stdout",
     "output_type": "stream",
     "text": [
      "Выбранная конфигурация\n",
      "filter_if:10 kHz\n",
      "point_value:200\n",
      "athenuator_value:10\n",
      "cap_value:6554\n"
     ]
    },
    {
     "data": {
      "application/vnd.jupyter.widget-view+json": {
       "model_id": "e075da5bfcf945f28112922a46ba4052",
       "version_major": 2,
       "version_minor": 0
      },
      "text/plain": [
       "VBox(children=(Button(button_style='info', description='редактировать конфиг', layout=Layout(width='max-conten…"
      ]
     },
     "metadata": {},
     "output_type": "display_data"
    },
    {
     "data": {
      "application/javascript": [
       "Jupyter.notebook.select_next().execute_cells_below()"
      ],
      "text/plain": [
       "<IPython.core.display.Javascript object>"
      ]
     },
     "metadata": {},
     "output_type": "display_data"
    }
   ],
   "source": [
    "from connect_device_v2.find_device import FindDevice\n",
    "box = FindDevice()\n",
    "display(box)"
   ]
  },
  {
   "cell_type": "code",
   "execution_count": 11,
   "metadata": {},
   "outputs": [],
   "source": [
    "button = box.select_device_continue_button"
   ]
  },
  {
   "cell_type": "code",
   "execution_count": 12,
   "metadata": {},
   "outputs": [],
   "source": [
    "%blockrun button"
   ]
  },
  {
   "cell_type": "code",
   "execution_count": 13,
   "metadata": {},
   "outputs": [],
   "source": [
    "button1 = box.select_config_continue_button"
   ]
  },
  {
   "cell_type": "code",
   "execution_count": 14,
   "metadata": {},
   "outputs": [],
   "source": [
    "%blockrun button1"
   ]
  },
  {
   "cell_type": "code",
   "execution_count": 15,
   "metadata": {},
   "outputs": [],
   "source": [
    "inst = box.selected_device"
   ]
  },
  {
   "cell_type": "code",
   "execution_count": 16,
   "metadata": {},
   "outputs": [
    {
     "data": {
      "text/plain": [
       "(10, <StatusCode.success: 0>)"
      ]
     },
     "execution_count": 16,
     "metadata": {},
     "output_type": "execute_result"
    }
   ],
   "source": [
    "inst.write(\"SYST:PRES\")"
   ]
  },
  {
   "cell_type": "code",
   "execution_count": 17,
   "metadata": {},
   "outputs": [],
   "source": [
    "result_config =  box.config"
   ]
  },
  {
   "cell_type": "code",
   "execution_count": 18,
   "metadata": {},
   "outputs": [],
   "source": [
    "# -*- coding: utf-8 -*-\n",
    "\"\"\"\n",
    "Created on Mon Jun 21 09:28:15 2021\n",
    "\n",
    "@author: kuzma.m\n",
    "\"\"\"\n",
    "\n",
    "import pyvisa as visa\n",
    "\n",
    "#функция декоратор\n",
    "def command_wrapper(f):\n",
    "    def wrapped(inst, command):\n",
    "        # print('До функции')\n",
    "        try:\n",
    "            if key == \"debug\":\n",
    "                print(command)\n",
    "        except:\n",
    "            pass\n",
    "        response = f(inst, command)\n",
    "        # print('После функции')\n",
    "        error = inst.query('SYST:ERR?')\n",
    "        if error != '0, No error':\n",
    "            print(error)\n",
    "        return response\n",
    "\n",
    "    # print('декорируем', f)\n",
    "    return wrapped\n",
    "\n",
    "#запрос данных\n",
    "@command_wrapper\n",
    "def query(inst, command):\n",
    "    result = inst.query(command)\n",
    "    return result\n",
    "\n",
    "@command_wrapper\n",
    "def query_ascii_values(inst, command):\n",
    "    result = inst.query_ascii_values(command)\n",
    "    return result\n",
    "\n",
    "#запрос данных\n",
    "@command_wrapper\n",
    "def write(inst, command):\n",
    "    inst.write(command)\n",
    "\n",
    "#Функция конвертации множителей kGz,MGh,GHz в герцы\n",
    "def HzConvertor(n,k):\n",
    "    if k == \"kHz\" or k == \"кГц\":\n",
    "        return int(n*1e+3)\n",
    "    elif k == \"MHz\" or k == \"МГц\":\n",
    "        return int(n*1e+6)\n",
    "    elif k == \"GHz\" or k == \"ГГц\":\n",
    "        return int(n*1e+9)\n",
    "    else: return -1\n",
    "\n",
    "#Функция однократного росчерка\n",
    "def singlescan(inst):\n",
    "    write(inst, f'TRIG:SOUR BUS')\n",
    "    write(inst, f'INIT:CONT OFF')\n",
    "    write(inst, f'INIT')\n",
    "    write(inst, f'TRIG:SING')\n",
    "    query(inst, f'*OPC?')"
   ]
  },
  {
   "cell_type": "code",
   "execution_count": 19,
   "metadata": {},
   "outputs": [],
   "source": [
    "value_dict = {'table':{}}"
   ]
  },
  {
   "cell_type": "code",
   "execution_count": 20,
   "metadata": {},
   "outputs": [],
   "source": [
    "out = widgets.HTML()"
   ]
  },
  {
   "cell_type": "code",
   "execution_count": 21,
   "metadata": {},
   "outputs": [],
   "source": [
    "def parse_config(config: dict):\n",
    "    new_config = config.copy()\n",
    "    \n",
    "    if_split = config['DEVICE']['filter_if'].split(\" \")\n",
    "    if_value = f'{HzConvertor(int(if_split[0]),if_split[1])}'\n",
    "    \n",
    "    \n",
    "    at_value = config['DEVICE']['athenuator_value']\n",
    "    poin_value = config['DEVICE']['point_value']\n",
    "    cap_value = config['DEVICE']['cap_value']\n",
    "    \n",
    "    \n",
    "    new_config['DEVICE']['if_value']=if_value\n",
    "    new_config['DEVICE']['athenuator_value']=at_value\n",
    "    new_config['DEVICE']['point_value'] = poin_value\n",
    "    new_config['DEVICE']['cap_value'] = cap_value\n",
    "    return new_config\n",
    "    "
   ]
  },
  {
   "cell_type": "code",
   "execution_count": 22,
   "metadata": {},
   "outputs": [],
   "source": [
    "new_config=parse_config(dict(result_config))"
   ]
  },
  {
   "cell_type": "code",
   "execution_count": 23,
   "metadata": {},
   "outputs": [],
   "source": [
    "def param(new_config):\n",
    "    #Пресет\n",
    "    write(inst, f'SYST:PRES')\n",
    "    \n",
    "    #Устанавливаем линейное сканирование\n",
    "    write(inst, f'SENS:SWE:TYPE LIN')\n",
    "    \n",
    "    #Запрашиваем полный диапазон частот прибора и устанавливаем\n",
    "    #freq_max = query(CMT, f'SERV:SWE:FREQ:MAX?')\n",
    "    #freq_min = query(CMT, f'SERV:SWE:FREQ:MAX?')\n",
    "    \n",
    "    \n",
    "    #Attenuator control – вкл. \n",
    "    write(inst, f'SERV:RFCTL:POW:STAT 1')\n",
    "    write(inst, f'SERV:RFCTL:POW:ATT {new_config[\"DEVICE\"][\"athenuator_value\"]}')\n",
    "\n",
    "    #Установить фильтр ПЧ\n",
    "    write(inst, f'SENS:BWID {new_config[\"DEVICE\"][\"if_value\"]}')\n",
    "    time.sleep(1) \n",
    "\n",
    "    #установить Код ЦАП.\n",
    "    write(inst, f'SERV:RFCTL:POW:DAC {new_config[\"DEVICE\"][\"cap_value\"]}')\n",
    "    \n",
    "    #установить кол-во точек.\n",
    "    write(inst, f'SENS:SWE:POIN {new_config[\"DEVICE\"][\"point_value\"]}')\n"
   ]
  },
  {
   "cell_type": "code",
   "execution_count": 24,
   "metadata": {},
   "outputs": [],
   "source": [
    "def setport():\n",
    "    ports = query(inst,f'SERV:PORT:COUN?')\n",
    "    write(inst, f'CALC1:PAR:COUN {ports}')\n",
    "    for port in range(1,int(ports) + 1):\n",
    "        write(inst, f'CALC1:PAR{port}:DEF S{port}{port}')"
   ]
  },
  {
   "cell_type": "code",
   "execution_count": 25,
   "metadata": {},
   "outputs": [],
   "source": [
    "def normalize():\n",
    "    coun = query(inst,f'CALC1:PAR:COUN?')\n",
    "    for trace in range(1,int(coun) + 1):\n",
    "        write(inst,f'CALC:PAR{trace}:SEL')\n",
    "        write(inst,f'CALC:MATH:MEM')\n",
    "        write(inst,f'CALC:MATH:FUNC DIV')\n",
    "    "
   ]
  },
  {
   "cell_type": "code",
   "execution_count": 26,
   "metadata": {},
   "outputs": [],
   "source": [
    "def gridbutton(count):\n",
    "    row = 0\n",
    "    port_count = 0\n",
    "    \n",
    "    if count%6 == 0:\n",
    "        row_1 = count//6\n",
    "    else:\n",
    "        row_1 = count//6+1\n",
    "    c = 6\n",
    "    grid = widgets.GridspecLayout(row_1 * 3, 6)\n",
    "    for i in range(row_1):\n",
    "        if i == row_1 - 1:\n",
    "            c = count - c * i\n",
    "        for j in range(c):\n",
    "            port_count += 1\n",
    "            g1 = widgets.Button(description=f'До воздействия {port_count}')\n",
    "            g1.on_click(functools.partial(on_button_clicked, rs_=f'До  {port_count}'))\n",
    "\n",
    "            g2 =  widgets.Button(description=f'После воздействия {port_count}')\n",
    "            g2.on_click(functools.partial(on_button_clicked, rs_=f'После {port_count}'))\n",
    "            grid[row + 0, j] = widgets.Button(description=f'порт {port_count}')\n",
    "            grid[row + 1, j] = g1\n",
    "            grid[row + 2, j] = g2\n",
    "        row += 3\n",
    "    display(grid)\n"
   ]
  },
  {
   "cell_type": "code",
   "execution_count": 27,
   "metadata": {},
   "outputs": [],
   "source": [
    "#Устанавливаем параметры и выставляем порты\n",
    "param(new_config)\n",
    "setport()"
   ]
  },
  {
   "cell_type": "code",
   "execution_count": 28,
   "metadata": {},
   "outputs": [
    {
     "data": {
      "application/vnd.jupyter.widget-view+json": {
       "model_id": "1da209f93d9343039660276b88317304",
       "version_major": 2,
       "version_minor": 0
      },
      "text/plain": [
       "Button(button_style='success', description='Нормализировать', style=ButtonStyle())"
      ]
     },
     "metadata": {},
     "output_type": "display_data"
    },
    {
     "data": {
      "application/javascript": [
       "Jupyter.notebook.select_next().execute_cells_below()"
      ],
      "text/plain": [
       "<IPython.core.display.Javascript object>"
      ]
     },
     "metadata": {},
     "output_type": "display_data"
    }
   ],
   "source": [
    "#кнопка для выполнения нормализации\n",
    "button_normalize = widgets.Button(description='Нормализировать', \n",
    "                        button_style='success' # 'success', 'info', 'warning', 'danger', ''\n",
    "                        )\n",
    "display(button_normalize)"
   ]
  },
  {
   "cell_type": "code",
   "execution_count": 31,
   "metadata": {},
   "outputs": [],
   "source": [
    "%blockrun button_normalize"
   ]
  },
  {
   "cell_type": "code",
   "execution_count": 32,
   "metadata": {},
   "outputs": [],
   "source": [
    "#нормализация\n",
    "normalize()"
   ]
  },
  {
   "cell_type": "code",
   "execution_count": 33,
   "metadata": {},
   "outputs": [],
   "source": [
    "def marksearch(sost):\n",
    "    value_dict.update({f'{sost}': {}})\n",
    "    coun = query(inst,f'CALC1:PAR:COUN?')\n",
    "    for trace in range(1,int(coun)+1):\n",
    "        \n",
    "        write(inst,f'CALC:PAR{trace}:SEL')\n",
    "        write(inst, f'CALC1:TRAC{trace}:MARK1:STAT ON')\n",
    "        write(inst, f'CALC1:TRAC{trace}:MARK2:STAT ON')\n",
    "        write(inst, f'CALC:MARK1:FUNC:TYPE MAX')\n",
    "        write(inst, f'CALC:MARK2:FUNC:TYPE MIN')\n",
    "        \n",
    "        write(inst, f'CALC:MARK1:FUNC:EXEC')\n",
    "        write(inst, f'CALC:MARK2:FUNC:EXEC')\n",
    "        \n",
    "        max_value = abs(query_ascii_values(inst, f'CALC:MARK1:Y?')[0])\n",
    "        min_value = abs(query_ascii_values(inst, f'CALC:MARK2:Y?')[0])\n",
    "        if max_value > min_value:\n",
    "            value_dict[f'{sost}'].update({f'{trace}': max_value})\n",
    "            if(sost == 'before'):\n",
    "                value_dict[f'table'].update({f'{trace}': max_value})\n",
    "        else:\n",
    "            value_dict[f'{sost}'].update({f'{trace}': min_value})\n",
    "            if(sost == 'before'):\n",
    "                value_dict[f'table'].update({f'{trace}': min_value})"
   ]
  },
  {
   "cell_type": "code",
   "execution_count": 34,
   "metadata": {},
   "outputs": [],
   "source": [
    "from IPython.display import HTML, display\n",
    "\n",
    "def tablehtml(): \n",
    "    #создаем строку для ввода в html страницу\n",
    "    htmlstr = \"<table border='1' ><tr><td>Порт</td><td>Отклонение</td><td>Максимум, дБ</td></tr><tr>\"\n",
    "    value_dict.update()\n",
    "    MAX = -1\n",
    "    for trace in value_dict[\"table\"].keys():\n",
    "        if value_dict[\"table\"][f'{trace}'] > MAX:\n",
    "            MAX = value_dict[\"table\"][f'{trace}']\n",
    "    for trace in range(1,len(value_dict[\"table\"].keys())+1):\n",
    "        trace_value = value_dict[\"table\"][f'{trace}']\n",
    "        htmlstr += f'<td>{trace}</td><td>{trace_value}</td>'\n",
    "        if trace == 1:\n",
    "            htmlstr += f'<td rowspan={len(value_dict[\"table\"].keys())+1}>{MAX}</td>'\n",
    "        htmlstr += \"</tr><tr>\"\n",
    "    \n",
    "    with open('html_table.html', 'w', encoding='utf-8') as fh1: \n",
    "         fh1.write(htmlstr)\n",
    "    out.value = htmlstr\n",
    "\n"
   ]
  },
  {
   "cell_type": "code",
   "execution_count": 35,
   "metadata": {},
   "outputs": [],
   "source": [
    "def on_button_clicked(b, rs_=\"some_default_string\"):\n",
    "    port_data = rs_.split(' ')\n",
    "    value_dict['table'][f'{port_data[1]}'] = value_dict[f'{port_data[0]}'][f'{port_data[1]}']\n",
    "    tablehtml()"
   ]
  },
  {
   "cell_type": "code",
   "execution_count": null,
   "metadata": {},
   "outputs": [],
   "source": []
  },
  {
   "cell_type": "code",
   "execution_count": 36,
   "metadata": {
    "scrolled": true
   },
   "outputs": [
    {
     "data": {
      "application/vnd.jupyter.widget-view+json": {
       "model_id": "f7fbdb7b8d5749449f08d5ea38a602d5",
       "version_major": 2,
       "version_minor": 0
      },
      "text/plain": [
       "Button(description='После 1', layout=Layout(display='flex', height='auto', width='auto'), style=ButtonStyle())"
      ]
     },
     "metadata": {},
     "output_type": "display_data"
    },
    {
     "data": {
      "application/vnd.jupyter.widget-view+json": {
       "model_id": "69ac19b4c8be41c9ad5e379b8f0dc150",
       "version_major": 2,
       "version_minor": 0
      },
      "text/plain": [
       "Button(description='После 2', layout=Layout(display='flex', height='auto', width='auto'), style=ButtonStyle())"
      ]
     },
     "metadata": {},
     "output_type": "display_data"
    },
    {
     "data": {
      "application/vnd.jupyter.widget-view+json": {
       "model_id": "5bc18d7d052047bcaa190ac056c79d2c",
       "version_major": 2,
       "version_minor": 0
      },
      "text/plain": [
       "Button(description='После 3', layout=Layout(display='flex', height='auto', width='auto'), style=ButtonStyle())"
      ]
     },
     "metadata": {},
     "output_type": "display_data"
    },
    {
     "data": {
      "application/vnd.jupyter.widget-view+json": {
       "model_id": "d8d6018b7ca74c2b8ea86ac316f79d62",
       "version_major": 2,
       "version_minor": 0
      },
      "text/plain": [
       "Button(description='После 4', layout=Layout(display='flex', height='auto', width='auto'), style=ButtonStyle())"
      ]
     },
     "metadata": {},
     "output_type": "display_data"
    },
    {
     "data": {
      "application/vnd.jupyter.widget-view+json": {
       "model_id": "95d59296ee3a474e9330096ffd38afb0",
       "version_major": 2,
       "version_minor": 0
      },
      "text/plain": [
       "HTML(value=\"<table border='1' ><tr><td>Порт</td><td>Отклонение</td><td>Максимум, дБ</td></tr><tr><td>1</td><td…"
      ]
     },
     "metadata": {},
     "output_type": "display_data"
    }
   ],
   "source": [
    "marksearch(\"before\")\n",
    "#change\n",
    "marksearch(\"after\")\n",
    "\n",
    "tablehtml()\n",
    "#gridbutton(int(query(inst,f'CALC1:PAR:COUN?')))\n",
    "b1 = widgets.Button(description=\"После 1\", layout=widgets.Layout(display='flex',width='auto', height='auto'))\n",
    "b1.on_click(functools.partial(on_button_clicked, rs_=f'after 1'))\n",
    "b2 = widgets.Button(description=\"После 2\", layout=widgets.Layout(display='flex',width='auto', height='auto'))\n",
    "b2.on_click(functools.partial(on_button_clicked, rs_=f'after 2'))\n",
    "b3 = widgets.Button(description=\"После 3\", layout=widgets.Layout(display='flex',width='auto', height='auto'))\n",
    "b3.on_click(functools.partial(on_button_clicked, rs_=f'after 3'))\n",
    "b4 = widgets.Button(description=\"После 4\", layout=widgets.Layout(display='flex',width='auto', height='auto'))\n",
    "b4.on_click(functools.partial(on_button_clicked, rs_=f'after 4'))\n",
    "display(b1)\n",
    "display(b2)\n",
    "display(b3)\n",
    "display(b4)\n",
    "display(out)"
   ]
  }
 ],
 "metadata": {
  "kernelspec": {
   "display_name": "Python 3",
   "language": "python",
   "name": "python3"
  },
  "language_info": {
   "codemirror_mode": {
    "name": "ipython",
    "version": 3
   },
   "file_extension": ".py",
   "mimetype": "text/x-python",
   "name": "python",
   "nbconvert_exporter": "python",
   "pygments_lexer": "ipython3",
   "version": "3.7.3"
  }
 },
 "nbformat": 4,
 "nbformat_minor": 2
}
