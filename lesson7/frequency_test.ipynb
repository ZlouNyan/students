{
 "cells": [
  {
   "cell_type": "code",
   "execution_count": 1,
   "metadata": {},
   "outputs": [
    {
     "data": {
      "text/markdown": [
       "### 💠 ฅ^•ﻌ•^ฅ Тест неравномерности АЧХ ฅ^•ﻌ•^ฅ"
      ],
      "text/plain": [
       "<IPython.core.display.Markdown object>"
      ]
     },
     "metadata": {},
     "output_type": "display_data"
    }
   ],
   "source": [
    "import os,sys,inspect\n",
    "from IPython.display import display, Markdown, Latex, Javascript, clear_output\n",
    "import emoji\n",
    "import time\n",
    "import ipywidgets as widgets\n",
    "import ipython_blocking\n",
    "import numpy as np\n",
    "import time\n",
    "from tqdm import tqdm_notebook\n",
    "import functools\n",
    "import configparser\n",
    "import webbrowser\n",
    "import shutil\n",
    "import pyvisa\n",
    "import json\n",
    "from connect import SNVNAopen, write, query, query_ascii_values, HzConvertor, singlescan\n",
    "#from connect import SNVNAopen, write, query, query_ascii_values, HzConvertor, singlescan\n",
    "\n",
    "parentdir = os.path.abspath('../../../pymodules')\n",
    "\n",
    "sys.path.insert(0,parentdir)\n",
    "#from connect_device import connect\n",
    "from connect_device_v2.vizualizate import vizulizated_finds_devices, advanced_search_device,DeviceBundle\n",
    "from connect_device_v2.save_file import SaveFilesButton\n",
    "from connect_device_v2.connect import connect_to_device\n",
    "from connect_device_v2.find_device import FindDevice\n",
    "from connect_device_v2.auxiliary_commands import check_error,disable_all_correctors,enable_ifbf_for_all_segment\n",
    "import pandas as pd\n",
    "from datetime import datetime\n",
    "button = widgets.Button(\n",
    "                description='Continue',\n",
    "                disabled=False,\n",
    "                button_style='success',  # 'success', 'info', 'warning', 'danger' or ''\n",
    "                tooltip='Click me',\n",
    "                icon='play'        \n",
    "                )\n",
    "testname=\"ฅ^•ﻌ•^ฅ Тест неравномерности АЧХ ฅ^•ﻌ•^ฅ\"\n",
    "display(Markdown('### 💠 {}'.format(testname)))"
   ]
  },
  {
   "cell_type": "code",
   "execution_count": 2,
   "metadata": {},
   "outputs": [
    {
     "name": "stdout",
     "output_type": "stream",
     "text": [
      "Выбранная конфигурация\n",
      "ifbw:10\n",
      "v:300 kHz-3 GHz, 3 GHz-4 GHz, 5 GHz-6 GHz, 6 GHz-7 GHz, 7 GHz-8 GHz, 8 GHz-9 GHz\n",
      "dop_abs:0.0036514321658435213\n",
      "dop_otn:0.0000845313546251354\n"
     ]
    },
    {
     "data": {
      "application/vnd.jupyter.widget-view+json": {
       "model_id": "8cd49b8100e64d0582d3991746a6cadc",
       "version_major": 2,
       "version_minor": 0
      },
      "text/plain": [
       "VBox(children=(Button(button_style='info', description='редактировать конфиг', layout=Layout(width='max-conten…"
      ]
     },
     "metadata": {},
     "output_type": "display_data"
    },
    {
     "data": {
      "application/javascript": [
       "Jupyter.notebook.select_next().execute_cells_below()"
      ],
      "text/plain": [
       "<IPython.core.display.Javascript object>"
      ]
     },
     "metadata": {},
     "output_type": "display_data"
    }
   ],
   "source": [
    "from connect_device_v2.find_device import FindDevice\n",
    "box = FindDevice()\n",
    "display(box)"
   ]
  },
  {
   "cell_type": "code",
   "execution_count": 11,
   "metadata": {},
   "outputs": [],
   "source": [
    "button = box.select_device_continue_button"
   ]
  },
  {
   "cell_type": "code",
   "execution_count": 12,
   "metadata": {},
   "outputs": [],
   "source": [
    "%blockrun button"
   ]
  },
  {
   "cell_type": "code",
   "execution_count": 13,
   "metadata": {},
   "outputs": [],
   "source": [
    "button1 = box.select_config_continue_button"
   ]
  },
  {
   "cell_type": "code",
   "execution_count": 14,
   "metadata": {},
   "outputs": [],
   "source": [
    "%blockrun button1"
   ]
  },
  {
   "cell_type": "code",
   "execution_count": 15,
   "metadata": {},
   "outputs": [],
   "source": [
    "inst = box.selected_device"
   ]
  },
  {
   "cell_type": "code",
   "execution_count": 16,
   "metadata": {},
   "outputs": [
    {
     "data": {
      "text/plain": [
       "(10, <StatusCode.success: 0>)"
      ]
     },
     "execution_count": 16,
     "metadata": {},
     "output_type": "execute_result"
    }
   ],
   "source": [
    "inst.write(\"SYST:PRES\")"
   ]
  },
  {
   "cell_type": "code",
   "execution_count": 17,
   "metadata": {},
   "outputs": [],
   "source": [
    "result_config =  box.config"
   ]
  },
  {
   "cell_type": "code",
   "execution_count": 18,
   "metadata": {},
   "outputs": [],
   "source": [
    "#словарь для хранения входных данных\n",
    "conf_data = {\n",
    "\t'IFBW':None,\n",
    "\t'range':{\n",
    "\t}\n",
    "}\n",
    "#словарь для записи в json\n",
    "jsondict = {}"
   ]
  },
  {
   "cell_type": "code",
   "execution_count": 19,
   "metadata": {},
   "outputs": [],
   "source": [
    "CMT = inst"
   ]
  },
  {
   "cell_type": "code",
   "execution_count": null,
   "metadata": {},
   "outputs": [],
   "source": []
  },
  {
   "cell_type": "code",
   "execution_count": 20,
   "metadata": {},
   "outputs": [],
   "source": [
    "def parse_config(config: dict):\n",
    "\n",
    "    conf_data = config.copy()\n",
    "    \n",
    "        \n",
    "    return conf_data"
   ]
  },
  {
   "cell_type": "code",
   "execution_count": 21,
   "metadata": {},
   "outputs": [],
   "source": [
    "config=parse_config(dict(result_config))"
   ]
  },
  {
   "cell_type": "code",
   "execution_count": 22,
   "metadata": {},
   "outputs": [],
   "source": [
    "def param(conf_data):\n",
    "\t#Пресет\n",
    "\twrite(CMT, f'SYST:PRES')\n",
    "\t\n",
    "\t#Attenuator control – вкл. \n",
    "\twrite(CMT, f'SERV:RFCTL:POW:STAT 1')\n",
    "\twrite(CMT, f'SERV:RFCTL:POW:ATT 10')\t\n",
    "\t\n",
    "\t#Установить фильтр ПЧ из conf_data\n",
    "\twrite(CMT, f'SENS:BWID {conf_data[\"IFBW\"]}')\n",
    "\ttime.sleep(1) \n",
    "\t\n",
    "\t#установить Код ЦАП.\n",
    "\twrite(CMT, f'SERV:RFCTL:POW:DAC 6554')\n",
    "\t\n",
    "\t#Устанавливаем определенный сегментный план и считываем данные\n",
    "\twrite(CMT, f'SERV:SWE:FREQ:FACT')"
   ]
  },
  {
   "cell_type": "code",
   "execution_count": 23,
   "metadata": {},
   "outputs": [],
   "source": [
    "def double_point():\n",
    "\tsegm_data = query_ascii_values(CMT,f'SENS:SEGM:DATA?')\n",
    "\tstr = 'SENS:SEGM:DATA '\n",
    "\tk = 9\n",
    "\tfor i in range(len(segm_data)):\n",
    "\t\tif i == k:\n",
    "\t\t\tsegm_data[i] = int(segm_data[i]) * 2\n",
    "\t\t\tk += 6\n",
    "\t\tif i != len(segm_data)-1:\n",
    "\t\t\tstr += f'{segm_data[i]},'\n",
    "\t\telse:\n",
    "\t\t\tstr += f'{segm_data[i]}'\n",
    "\twrite(CMT, str)"
   ]
  },
  {
   "cell_type": "code",
   "execution_count": 24,
   "metadata": {},
   "outputs": [],
   "source": [
    "def start_frequency_test(conf_data):\n",
    "    #date_inf = query(CMT,f'SYST:DATE?') эта команда не работает\n",
    "    time_inf = query(CMT,f'SYST:TIME?')\n",
    "    idn_inf = list(query(CMT,f'*IDN?'))\n",
    "    idn_inf = \"\".join(idn_inf).split(\", \")\n",
    "    jsondict.update({\"inf\":{}})\n",
    "    jsondict[\"inf\"].update({\"time\":f'{time_inf}'})\n",
    "    jsondict[\"inf\"].update({\"device\":f'{idn_inf[0]}'})\n",
    "    jsondict[\"inf\"].update({\"model\":f'{idn_inf[1]}'})\n",
    "    jsondict[\"inf\"].update({\"serial\":f'{idn_inf[2]}'})\n",
    "    jsondict[\"inf\"].update({\"version\":f'{idn_inf[3]}'})\n",
    "\n",
    "    #Подключаемся к SNVNA\n",
    "    k = 1\n",
    "    \"\"\" ввод колличества потоков \"\"\"\n",
    "    \n",
    "    tracc_count = int(query(CMT,f'SERV:PORT:COUN?'))\n",
    "    param(conf_data)\n",
    "    double_point()\n",
    "    config = configparser.ConfigParser()\n",
    "    config.read_file(open(r'config.txt'))\n",
    "    #цикл вывода otn\n",
    "\n",
    "    general_range1 = config[\"range\"]['v'].split(\", \")\n",
    "    for keys in range(0, len(general_range1)):\n",
    "            range1 = general_range1[int(f'{keys}')].split(\"-\")\n",
    "            start_data = range1[0]\n",
    "            stop_data = range1[1]\n",
    "            jsondict.update({f'{start_data} - {stop_data}': {}})\n",
    "            jsondict[f'{start_data} - {stop_data}'].update({'max_abs': 0.0, 'max_otn': 0.0})\n",
    "\n",
    "\n",
    "    for canal in range(1,tracc_count+1):\n",
    "            #создание 3 трасс\n",
    "            write(CMT, f'CALC1:PAR:COUN 1')\n",
    "            write(CMT, f'CALC1:PAR1:DEF S{canal}{canal}')\n",
    "            singlescan(CMT)\n",
    "            #--------------------\n",
    "\n",
    "            general_range1 = config[\"range\"]['v'].split(\", \")\n",
    "            for keys in range(0, len(general_range1)):\n",
    "                    range1 = general_range1[int(f'{keys}')].split(\"-\")\n",
    "                    range_start = range1[0].split(\" \")\n",
    "                    range_stop = range1[1].split(\" \")\n",
    "                    start = HzConvertor(int(range_start[0]), range_start[1])\n",
    "                    stop = HzConvertor(int(range_stop[0]), range_stop[1])\n",
    "                    start_data = range1[0]\n",
    "                    stop_data = range1[1]\n",
    "\n",
    "                    write(CMT, f'CALC1:TRAC:MARK1:STAT ON')\n",
    "                    write(CMT, f'CALC1:TRAC:MARK2:STAT ON')\n",
    "                    write(CMT, f'CALC1:MARK2:X {stop}')\n",
    "                    write(CMT, f'CALC1:MARK1:X {start}')\n",
    "                    write(CMT, f'CALC1:MST ON')\n",
    "                    write(CMT, f'CALC1:MST:DOM ON')\n",
    "\n",
    "                    mst_data = query_ascii_values(CMT,f'CALC:MST:DATA?')\n",
    "                    trace = query(CMT, f'CALC1:PAR:DEF?')\n",
    "                    if k < 2 :\n",
    "                            jsondict.update({f'{trace}': {}})\n",
    "                            k += 1\n",
    "                    jsondict[f'{trace}'].update({f'{start_data} - {stop_data}':{}})\n",
    "\n",
    "                    if mst_data[2] > jsondict[f'{start_data} - {stop_data}'][\"max_otn\"] or jsondict[f'{start_data} - {stop_data}'][\"max_otn\"] == 0.0 :\n",
    "                            jsondict[f'{start_data} - {stop_data}'].update({\"max_otn\" : mst_data[2]})\n",
    "                    jsondict[f'{trace}'][f'{start_data} - {stop_data}'].update({'Value':mst_data[2]})\n",
    "\n",
    "\n",
    "            k = 1\n",
    "    #цикл вывода abs\n",
    "\n",
    "    for canal in range(1,tracc_count+1):\n",
    "            #создание 3 трасс\n",
    "            write(CMT, f'CALC1:PAR:COUN 2')\n",
    "            write(CMT, f'CALC1:PAR1:DEF R{canal}')\n",
    "            write(CMT, f'CALC1:PAR1:SPOR {canal}')\n",
    "            write(CMT, f'CALC1:PAR2:DEF T{canal}')\n",
    "            write(CMT, f'CALC1:PAR2:SPOR {canal}')\n",
    "            singlescan(CMT)\n",
    "            #--------------------\n",
    "\n",
    "            general_range1 = config[\"range\"]['v'].split(\", \")\n",
    "            for keys in range(0,len(general_range1)):\n",
    "\n",
    "                    range1 = general_range1[int(f'{keys}')].split(\"-\")\n",
    "                    range_start = range1[0].split(\" \")\n",
    "                    range_stop = range1[1].split(\" \")\n",
    "                    start = HzConvertor(int (range_start[0]),range_start[1])\n",
    "                    stop = HzConvertor(int (range_stop[0]),range_stop[1])\n",
    "                    start_data = range1[0]\n",
    "                    stop_data = range1 [1]\n",
    "                    for n_trace in range(1,3):\n",
    "                            write(CMT, f'CALC:PAR{n_trace}:SEL')\n",
    "                            write(CMT, f'CALC1:TRAC{n_trace}:MARK1:STAT ON')\n",
    "                            write(CMT, f'CALC1:TRAC{n_trace}:MARK2:STAT ON')\n",
    "                            write(CMT, f'CALC1:MARK2:X {stop}')\n",
    "                            write(CMT, f'CALC1:MARK1:X {start}')\n",
    "                            write(CMT, f'CALC1:MST ON')\n",
    "                            write(CMT, f'CALC1:MST:DOM ON')\n",
    "\n",
    "                            mst_data = query_ascii_values(CMT,f'CALC:MST:DATA?')\n",
    "                            trace = query(CMT, f'CALC1:PAR{n_trace}:DEF?')\n",
    "                            if k < 3 :\n",
    "                                    jsondict.update({f'{trace}': {}})\n",
    "                                    k += 1\n",
    "                            jsondict[f'{trace}'].update({f'{start_data} - {stop_data}':{}})\n",
    "                            if mst_data[2] > jsondict[f'{start_data} - {stop_data}'][\"max_abs\"] or jsondict[f'{start_data} - {stop_data}'][\"max_abs\"] == 0.0 :\n",
    "                                    jsondict[f'{start_data} - {stop_data}'].update({\"max_abs\" : mst_data[2]})\n",
    "                            jsondict[f'{trace}'][f'{start_data} - {stop_data}'].update({'Value':mst_data[2]})\n",
    "\n",
    "            k = 1\n"
   ]
  },
  {
   "cell_type": "code",
   "execution_count": 25,
   "metadata": {},
   "outputs": [],
   "source": [
    "from IPython.core.display import display, HTML\n",
    "\n",
    "def table_generator():\n",
    "    # создаем словарь для записи с json\n",
    "    data = {}\n",
    "\n",
    "    # открываем файл и загружаем данные\n",
    "    with open('freq_test.json', 'r', encoding='utf-8') as fh:\n",
    "        data.update(json.load(fh))\n",
    "\n",
    "    # ввод допуска\n",
    "    config = configparser.ConfigParser()\n",
    "    config.read_file(open(r'config.txt'))\n",
    "    dop_otn = float(config['DOP']['dop_otn'])\n",
    "    dop_abs = float(config['DOP']['dop_abs'])\n",
    "\n",
    "    # создаем строку для ввода в html страницу\n",
    "    htmlstr = \"<!-- Bootstrap CSS -->\\\n",
    "        <link rel='stylesheet' href='https://stackpath.bootstrapcdn.com/bootstrap/4.3.1/css/bootstrap.min.css' integrity='sha384-ggOyR0iXCbMQv3Xipma34MD+dH/1fQ784/j6cY/iJTQUOhcWr7x9JvoRxT2MZw1T' crossorigin='anonymous'>\\\n",
    "    <style>\\\n",
    "    table, th, td {\\\n",
    "        border: 2px solid black;\\\n",
    "    \tborder-collapse: collapse;\\\n",
    "    }\\\n",
    "    th, td {\\\n",
    "        padding: 1px;;\\\n",
    "    }\\\n",
    "        </style>\\\n",
    "    \"\n",
    "\n",
    "    htmlstr += \"<table border='1' ><tr><td> Время запуска </td><td>  device </td><td> model </td><td> serial </td><td>  version </td></tr><tr>\"\n",
    "    for i in data[\"inf\"].keys():\n",
    "        htmlstr += f'<td>{data[\"inf\"][i]}</td>'\n",
    "\n",
    "    htmlstr += \"<table border='1' ><tr><td> Диапазон </td>\"\n",
    "    # Цикл для заолнения html страницы\n",
    "\n",
    "    for i in list(data.keys()):\n",
    "        if i == \"S11\":\n",
    "            break\n",
    "        if i != \"inf\":\n",
    "            htmlstr += f'<td colspan=\"3\">{i}</td>'\n",
    "\n",
    "    htmlstr += \"</tr> <tr><td>Трассы</td>\"\n",
    "    for i in list(data.keys()):\n",
    "        if i == \"S11\":\n",
    "            break\n",
    "        if i != \"inf\":\n",
    "            htmlstr += \" <td>Нер-ть,дБ</td>  <td>Макс.дБ</td>    <td>Допуск,дБ</td>\"\n",
    "    htmlstr += \"<tr>\"\n",
    "    k = 0\n",
    "    for trace in data.keys():\n",
    "        if trace == \"S11\" or k == 3:\n",
    "            k = 3\n",
    "            htmlstr += f'<td>{trace}</td> '\n",
    "            for Range in data[f'{trace}'].keys():\n",
    "                value = data[f'{trace}'][f'{Range}'][\"Value\"]\n",
    "                if \"S\" in f'{trace}':\n",
    "                    \"\"\" otnositelnie \"\"\"\n",
    "                    if value == data[f'{Range}'][\"max_otn\"]:\n",
    "                        htmlstr += f'<td>{value}</td> '\n",
    "\n",
    "                        if value > dop_otn:\n",
    "                            htmlstr += f'<td class = bg-warning> {\"{:0.9f}\".format(value)} </td> <td class = bg-warning> {\"{:0.9f}\".format(dop_otn)} </td> '\n",
    "                        else:\n",
    "                            htmlstr += f'<td> {\"{:0.6f}\".format(value)} </td> <td> {\"{:0.6f}\".format(dop_otn)} </td>'\n",
    "                    else:\n",
    "                        htmlstr += f'<td> {\"{:0.6f}\".format(value)} </td> <td> - </td><td>{\"{:0.6f}\".format(dop_otn)}</td>'\n",
    "                    \"\"\" absolute \"\"\"\n",
    "                else:\n",
    "                    if value == data[f'{Range}'][\"max_abs\"]:\n",
    "                        htmlstr += f'<td>{value}</td> '\n",
    "\n",
    "                        if value > dop_abs:\n",
    "                            htmlstr += f'<td class = bg-warning> {\"{:0.6f}\".format(value)} </td> <td class = bg-warning> {\"{:0.6f}\".format(dop_abs)} </td> '\n",
    "                        else:\n",
    "                            htmlstr += f'<td> {\"{:0.6f}\".format(value)} </td> <td> {\"{:0.6f}\".format(dop_abs)} </td>'\n",
    "                    else:\n",
    "                        htmlstr += f'<td> {\"{:0.6f}\".format(value)} </td> <td> - </td> <td>{\"{:0.6f}\".format(dop_abs)}</td>'\n",
    "            htmlstr += \"</tr><tr>\"\n",
    "            \n",
    "    display(HTML(htmlstr))\n",
    "    with open('html_table.html', 'w', encoding='utf-8') as fh1:\n",
    "        fh1.write(htmlstr)\n"
   ]
  },
  {
   "cell_type": "code",
   "execution_count": 26,
   "metadata": {},
   "outputs": [
    {
     "name": "stdout",
     "output_type": "stream",
     "text": [
      "-104, Data type error\n"
     ]
    },
    {
     "data": {
      "text/html": [
       "<!-- Bootstrap CSS -->        <link rel='stylesheet' href='https://stackpath.bootstrapcdn.com/bootstrap/4.3.1/css/bootstrap.min.css' integrity='sha384-ggOyR0iXCbMQv3Xipma34MD+dH/1fQ784/j6cY/iJTQUOhcWr7x9JvoRxT2MZw1T' crossorigin='anonymous'>    <style>    table, th, td {        border: 2px solid black;    \tborder-collapse: collapse;    }    th, td {        padding: 1px;;    }        </style>    <table border='1' ><tr><td> Время запуска </td><td>  device </td><td> model </td><td> serial </td><td>  version </td></tr><tr><td>13:07:07.599</td><td>COPPER MOUNTAIN TECHNOLOGIES</td><td>SN5090-4 Demo</td><td>2226ff53</td><td>22.6.0-beta1/0</td><table border='1' ><tr><td> Диапазон </td><td colspan=\"3\">300 kHz - 3 GHz</td><td colspan=\"3\">3 GHz - 4 GHz</td><td colspan=\"3\">5 GHz - 6 GHz</td><td colspan=\"3\">6 GHz - 7 GHz</td><td colspan=\"3\">7 GHz - 8 GHz</td><td colspan=\"3\">8 GHz - 9 GHz</td></tr> <tr><td>Трассы</td> <td>Нер-ть,дБ</td>  <td>Макс.дБ</td>    <td>Допуск,дБ</td> <td>Нер-ть,дБ</td>  <td>Макс.дБ</td>    <td>Допуск,дБ</td> <td>Нер-ть,дБ</td>  <td>Макс.дБ</td>    <td>Допуск,дБ</td> <td>Нер-ть,дБ</td>  <td>Макс.дБ</td>    <td>Допуск,дБ</td> <td>Нер-ть,дБ</td>  <td>Макс.дБ</td>    <td>Допуск,дБ</td> <td>Нер-ть,дБ</td>  <td>Макс.дБ</td>    <td>Допуск,дБ</td><tr><td>S11</td> <td> 0.207954 </td> <td> - </td><td>0.000085</td><td> 28.143200 </td> <td> - </td><td>0.000085</td><td> 0.129989 </td> <td> - </td><td>0.000085</td><td> 0.067279 </td> <td> - </td><td>0.000085</td><td> 0.021198 </td> <td> - </td><td>0.000085</td><td> 0.223386 </td> <td> - </td><td>0.000085</td></tr><tr><td>S22</td> <td> 0.185249 </td> <td> - </td><td>0.000085</td><td>30.3529</td> <td class = bg-warning> 30.352900000 </td> <td class = bg-warning> 0.000084531 </td> <td> 25.802800 </td> <td> - </td><td>0.000085</td><td> 0.227052 </td> <td> - </td><td>0.000085</td><td> 0.107224 </td> <td> - </td><td>0.000085</td><td> 0.066685 </td> <td> - </td><td>0.000085</td></tr><tr><td>S33</td> <td>0.447956</td> <td class = bg-warning> 0.447956000 </td> <td class = bg-warning> 0.000084531 </td> <td> 0.308508 </td> <td> - </td><td>0.000085</td><td> 0.365080 </td> <td> - </td><td>0.000085</td><td>0.345234</td> <td class = bg-warning> 0.345234000 </td> <td class = bg-warning> 0.000084531 </td> <td>0.34561</td> <td class = bg-warning> 0.345610000 </td> <td class = bg-warning> 0.000084531 </td> <td>0.487372</td> <td class = bg-warning> 0.487372000 </td> <td class = bg-warning> 0.000084531 </td> </tr><tr><td>S44</td> <td> 0.129679 </td> <td> - </td><td>0.000085</td><td> 0.128289 </td> <td> - </td><td>0.000085</td><td>26.7196</td> <td class = bg-warning> 26.719600000 </td> <td class = bg-warning> 0.000084531 </td> <td> 0.025663 </td> <td> - </td><td>0.000085</td><td> 0.103737 </td> <td> - </td><td>0.000085</td><td> 0.110399 </td> <td> - </td><td>0.000085</td></tr><tr><td>R11</td> <td> 0.000026 </td> <td> - </td> <td>0.003651</td><td> 0.000025 </td> <td> - </td> <td>0.003651</td><td> 0.000025 </td> <td> - </td> <td>0.003651</td><td> 0.000026 </td> <td> - </td> <td>0.003651</td><td> 0.000025 </td> <td> - </td> <td>0.003651</td><td> 0.000026 </td> <td> - </td> <td>0.003651</td></tr><tr><td>T11</td> <td> 0.207966 </td> <td> - </td> <td>0.003651</td><td> 28.143400 </td> <td> - </td> <td>0.003651</td><td> 0.129992 </td> <td> - </td> <td>0.003651</td><td> 0.067289 </td> <td> - </td> <td>0.003651</td><td> 0.021210 </td> <td> - </td> <td>0.003651</td><td> 0.223391 </td> <td> - </td> <td>0.003651</td></tr><tr><td>R22</td> <td> 0.000026 </td> <td> - </td> <td>0.003651</td><td> 0.000026 </td> <td> - </td> <td>0.003651</td><td> 0.000026 </td> <td> - </td> <td>0.003651</td><td> 0.000025 </td> <td> - </td> <td>0.003651</td><td> 0.000025 </td> <td> - </td> <td>0.003651</td><td> 0.000025 </td> <td> - </td> <td>0.003651</td></tr><tr><td>T22</td> <td> 0.185231 </td> <td> - </td> <td>0.003651</td><td>30.3524</td> <td class = bg-warning> 30.352400 </td> <td class = bg-warning> 0.003651 </td> <td> 25.802700 </td> <td> - </td> <td>0.003651</td><td> 0.227073 </td> <td> - </td> <td>0.003651</td><td> 0.107243 </td> <td> - </td> <td>0.003651</td><td> 0.066684 </td> <td> - </td> <td>0.003651</td></tr><tr><td>R33</td> <td> 0.000026 </td> <td> - </td> <td>0.003651</td><td> 0.000026 </td> <td> - </td> <td>0.003651</td><td> 0.000025 </td> <td> - </td> <td>0.003651</td><td> 0.000026 </td> <td> - </td> <td>0.003651</td><td> 0.000025 </td> <td> - </td> <td>0.003651</td><td> 0.000026 </td> <td> - </td> <td>0.003651</td></tr><tr><td>T33</td> <td>0.447956</td> <td class = bg-warning> 0.447956 </td> <td class = bg-warning> 0.003651 </td> <td> 0.308512 </td> <td> - </td> <td>0.003651</td><td> 0.365105 </td> <td> - </td> <td>0.003651</td><td>0.345227</td> <td class = bg-warning> 0.345227 </td> <td class = bg-warning> 0.003651 </td> <td>0.345598</td> <td class = bg-warning> 0.345598 </td> <td class = bg-warning> 0.003651 </td> <td>0.48735</td> <td class = bg-warning> 0.487350 </td> <td class = bg-warning> 0.003651 </td> </tr><tr><td>R44</td> <td> 0.000026 </td> <td> - </td> <td>0.003651</td><td> 0.000026 </td> <td> - </td> <td>0.003651</td><td> 0.000025 </td> <td> - </td> <td>0.003651</td><td> 0.000025 </td> <td> - </td> <td>0.003651</td><td> 0.000025 </td> <td> - </td> <td>0.003651</td><td> 0.000025 </td> <td> - </td> <td>0.003651</td></tr><tr><td>T44</td> <td> 0.129672 </td> <td> - </td> <td>0.003651</td><td> 0.128306 </td> <td> - </td> <td>0.003651</td><td>26.7196</td> <td class = bg-warning> 26.719600 </td> <td class = bg-warning> 0.003651 </td> <td> 0.025690 </td> <td> - </td> <td>0.003651</td><td> 0.103741 </td> <td> - </td> <td>0.003651</td><td> 0.110403 </td> <td> - </td> <td>0.003651</td></tr><tr>"
      ],
      "text/plain": [
       "<IPython.core.display.HTML object>"
      ]
     },
     "metadata": {},
     "output_type": "display_data"
    }
   ],
   "source": [
    "#readconfig()\n",
    "start_frequency_test(conf_data)\n",
    "with open(\"freq_test.json\", \"w\") as write_file:\n",
    "    json.dump(jsondict, write_file, indent=2)\n",
    "table_generator()"
   ]
  },
  {
   "cell_type": "code",
   "execution_count": null,
   "metadata": {},
   "outputs": [],
   "source": []
  },
  {
   "cell_type": "code",
   "execution_count": null,
   "metadata": {},
   "outputs": [],
   "source": []
  }
 ],
 "metadata": {
  "kernelspec": {
   "display_name": "Python 3",
   "language": "python",
   "name": "python3"
  },
  "language_info": {
   "codemirror_mode": {
    "name": "ipython",
    "version": 3
   },
   "file_extension": ".py",
   "mimetype": "text/x-python",
   "name": "python",
   "nbconvert_exporter": "python",
   "pygments_lexer": "ipython3",
   "version": "3.7.3"
  }
 },
 "nbformat": 4,
 "nbformat_minor": 2
}
