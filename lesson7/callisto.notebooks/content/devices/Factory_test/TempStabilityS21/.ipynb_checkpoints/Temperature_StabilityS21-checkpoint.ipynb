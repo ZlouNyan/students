{
 "cells": [
  {
   "cell_type": "code",
   "execution_count": null,
   "metadata": {
    "code_folding": [
     14
    ]
   },
   "outputs": [],
   "source": [
    "import os,sys,inspect\n",
    "from IPython.display import display, Markdown, Latex, Javascript, clear_output\n",
    "import emoji\n",
    "import time\n",
    "import ipywidgets as widgets\n",
    "import ipython_blocking\n",
    "import numpy as np\n",
    "import time\n",
    "from tqdm import tqdm_notebook\n",
    "import functools\n",
    "import configparser\n",
    "import webbrowser\n",
    "import shutil\n",
    "import time\n",
    "\n",
    "\n",
    "parentdir = os.path.abspath('../../../pymodules')\n",
    "\n",
    "sys.path.insert(0,parentdir)\n",
    "#from connect_device import connect\n",
    "from connect_device_v2.vizualizate import vizulizated_finds_devices, advanced_search_device,DeviceBundle\n",
    "from connect_device_v2.save_file import SaveFilesButton\n",
    "from connect_device_v2.connect import connect_to_device\n",
    "from connect_device_v2.find_device import FindDevice\n",
    "from connect_device_v2.auxiliary_commands import check_error,disable_all_correctors,enable_ifbf_for_all_segment\n",
    "\n",
    "\n",
    "import pandas as pd\n",
    "from datetime import datetime\n",
    "button = widgets.Button(\n",
    "                description='Continue',\n",
    "                disabled=False,\n",
    "                button_style='success',  # 'success', 'info', 'warning', 'danger' or ''\n",
    "                tooltip='Click me',\n",
    "                icon='play'        \n",
    "                )\n",
    "testname=\"Температурная стабильность S21\"\n",
    "display(Markdown('### 💠 {}'.format(testname)))\n",
    "\n"
   ]
  },
  {
   "cell_type": "code",
   "execution_count": null,
   "metadata": {},
   "outputs": [],
   "source": [
    "from connect_device_v2.find_device import FindDevice,parse_config\n",
    "box = FindDevice()\n",
    "display(box)"
   ]
  },
  {
   "cell_type": "code",
   "execution_count": null,
   "metadata": {
    "code_folding": [
     8
    ]
   },
   "outputs": [],
   "source": [
    "button = box.select_device_continue_button"
   ]
  },
  {
   "cell_type": "code",
   "execution_count": null,
   "metadata": {},
   "outputs": [],
   "source": [
    "%blockrun button"
   ]
  },
  {
   "cell_type": "code",
   "execution_count": null,
   "metadata": {},
   "outputs": [],
   "source": [
    "button1 = box.select_config_continue_button"
   ]
  },
  {
   "cell_type": "code",
   "execution_count": null,
   "metadata": {},
   "outputs": [],
   "source": [
    "%blockrun button1"
   ]
  },
  {
   "cell_type": "code",
   "execution_count": null,
   "metadata": {},
   "outputs": [],
   "source": [
    "inst = box.selected_device"
   ]
  },
  {
   "cell_type": "code",
   "execution_count": null,
   "metadata": {},
   "outputs": [],
   "source": [
    "date=datetime.now()\n",
    "date=date.strftime('%Y-%m-%d %H:%M:%S')\n",
    "device = inst.query(\"*IDN?\")\n",
    "device = device.replace(' ','')\n",
    "device = device.split(',')\n",
    "device_info = {'Время запуска':date,\n",
    "              'device':device[0],\n",
    "              'model':device[1],\n",
    "              'serial':device[2],\n",
    "              'version':device[3]}\n",
    "portCount=int(inst.query(\"SERV:PORT:COUN?\"))\n",
    "traces=[\"T\",\"R\",\"S\"]\n",
    "trace_count = portCount* len(traces)"
   ]
  },
  {
   "cell_type": "code",
   "execution_count": null,
   "metadata": {},
   "outputs": [],
   "source": [
    "def parse_config(config: dict):\n",
    "    factor_value = {\n",
    "        'k': 10 ** 3,\n",
    "        'm': 10 ** 6,\n",
    "        'g': 10 ** 9\n",
    "    }\n",
    "    new_config = config.copy()\n",
    "    for i in config['RANGE']:\n",
    "        value = config['RANGE'][i]\n",
    "        try:\n",
    "            numeric, factor = value.split(' ')\n",
    "            new_value = float(numeric) * factor_value[factor.lower()]\n",
    "            #print(new_value)\n",
    "            new_config['RANGE'][i] = str(int(new_value))\n",
    "        except:\n",
    "            pass\n",
    "    return new_config"
   ]
  },
  {
   "cell_type": "code",
   "execution_count": null,
   "metadata": {},
   "outputs": [],
   "source": [
    "read_start_freq = box.config['RANGE']['start']\n",
    "read_stop_freq= box.config['RANGE']['stop']\n",
    "config =  parse_config(dict(box.config))\n",
    "device = config['DEVICE']\n",
    "test_time = float(device['time'])\n",
    "step_time = float(device['step_time'])\n",
    "start = int(config['RANGE']['start'])\n",
    "stop=int(config['RANGE']['stop'])"
   ]
  },
  {
   "cell_type": "code",
   "execution_count": null,
   "metadata": {},
   "outputs": [],
   "source": [
    "# def check_error():\n",
    "#     responce = inst.query('SYST:ERR?')    \n",
    "#     if \"No error\" not in responce:        \n",
    "#         print(responce)\n",
    "#         #pass\n",
    "#     else:        \n",
    "#         pass\n",
    "#         #print('succes')"
   ]
  },
  {
   "cell_type": "code",
   "execution_count": null,
   "metadata": {},
   "outputs": [],
   "source": [
    "port_count = int(inst.query(\"SERV:PORT:COUN?\"))\n",
    "trace = [\"S\"]\n",
    "trace_count = len(trace) * port_count*2-2"
   ]
  },
  {
   "cell_type": "code",
   "execution_count": null,
   "metadata": {},
   "outputs": [],
   "source": [
    "def trace_setting(trace_count):\n",
    "    inst.write(f\"CALC:PAR:COUN {trace_count}\")\n",
    "    for i in range(1,trace_count+1):\n",
    "        #print(i)\n",
    "        if (i>=port_count):\n",
    "            trace_name=f'{trace[0]}{i-port_count+2}.{i-port_count+1}'\n",
    "            #print(trace_name)\n",
    "            #print(f\"CALC:PAR{i}:DEF {trace_name}\")\n",
    "            inst.write(f\"CALC:PAR{i}:DEF {trace_name}\") \n",
    "            check_error(inst)\n",
    "        else:            \n",
    "            trace_name=f'{trace[0]}{i}.{i+1}'\n",
    "            #print(trace_name)\n",
    "            #print(f\"CALC:PAR{i}:DEF {trace_name}\")\n",
    "            inst.write(f\"CALC:PAR{i}:DEF {trace_name}\") \n",
    "            check_error(inst)"
   ]
  },
  {
   "cell_type": "code",
   "execution_count": null,
   "metadata": {},
   "outputs": [],
   "source": [
    "#Сброс по умолчанию и остановка сканирования\n",
    "#inst.write(\"*RST\")\n",
    "inst.write(\"SYST:PRES\")\n",
    "inst.write(\"TRIG:SOUR BUS\")\n",
    "check_error(inst)\n",
    "inst.write(\"INIT:CONT OFF\")\n",
    "check_error(inst)\n",
    "trace_setting(trace_count)\n",
    "# Фильтр ПЧ 100 Гц \n",
    "\n",
    "inst.write(\"SENS:BAND 100\")\n",
    "#print(\"SENS:BAND 100\")\n",
    "check_error(inst)\n",
    "enable_ifbf_for_all_segment(inst)\n",
    "#путь к файлу с сегментами\n",
    "inst.write(\"SERVice:SWEep:FREQuency:FACTory\")\n",
    "#print(\"SERVice:SWEep:FREQuency:FACTory\")\n",
    "check_error(inst)\n",
    "# атенюатор SERVice:RFCTL:POWer:STATe 1\n",
    "inst.write(f\"SERVice:RFCTL:POWer:STATe 1\")\n",
    "inst.write(f\"SERVice:RFCTL:POWer:ATT 10\")\n",
    "inst.write(f\"SERV:RFCTL:POW:DAC 6554\")\n",
    "check_error(inst)\n",
    "inst.timeout=30000\n",
    "\n"
   ]
  },
  {
   "cell_type": "code",
   "execution_count": null,
   "metadata": {},
   "outputs": [],
   "source": [
    "def normalizeited_graf(trace_number):\n",
    "    inst.write(f\"CALC:PAR{trace_number}:SEL\")\n",
    "    check_error(inst)\n",
    "    inst.write(\"CALC:MATH:MEM\")\n",
    "    check_error(inst)\n",
    "    inst.write(\"CALC:MATH:FUNC DIVide\")\n",
    "    #inst.write(\"DISP:WIND:TRAC{}:MEM 0\".format(n_graf))"
   ]
  },
  {
   "cell_type": "code",
   "execution_count": null,
   "metadata": {},
   "outputs": [],
   "source": [
    "def start_scan():    \n",
    "    inst.write(\"INIT\")\n",
    "    check_error(inst)\n",
    "    inst.write(\"TRIG:SING\")\n",
    "    # Читаем ошибки и ждём окончания для считывания данных, затем всё то же самое для порта 2\n",
    "    #print('OPC',inst.query(\"*OPC?\"))   \n",
    "    inst.query(\"*OPC?\")\n",
    "    check_error(inst)"
   ]
  },
  {
   "cell_type": "code",
   "execution_count": null,
   "metadata": {},
   "outputs": [],
   "source": [
    "def setup_markers(trace_number):    \n",
    "    inst.write(f\"CALC1:PAR{trace_number}:SEL\") #выбрать активный график \n",
    "    check_error(inst)   \n",
    "    inst.write(f\"CALC:MARK:COUN 2\")   \n",
    "    check_error(inst)    \n",
    "    inst.write(\"CALC1:MARK1:FUNC:TYPE MAXimum\")\n",
    "    check_error(inst)   \n",
    "    inst.write(\"CALC:MARK:FUNC:TRAC 1\")\n",
    "    check_error(inst)       \n",
    "    inst.write(\"CALC1:MARK2:FUNC:TYPE MINimum\")\n",
    "    check_error(inst)   \n",
    "    inst.write(\"CALC:MARK2:FUNC:TRAC 1\")\n",
    "    check_error(inst)\n",
    "    inst.write(f'CALC:MARK:FUNC:DOM 1')\n",
    "    inst.write(f'CALC:MARK:FUNC:DOM:START {start}')\n",
    "    inst.write(f'CALC:MARK:FUNC:DOM:STOP {stop}')"
   ]
  },
  {
   "cell_type": "code",
   "execution_count": null,
   "metadata": {},
   "outputs": [],
   "source": []
  },
  {
   "cell_type": "code",
   "execution_count": null,
   "metadata": {},
   "outputs": [],
   "source": [
    "def get_markers_values(port):\n",
    "    #print(f\"CALC1:PAR{port}:SEL\")\n",
    "    inst.write(f\"CALC1:PAR{port}:SEL\")\n",
    "    check_error(inst)\n",
    "    trace_1_max = inst.query_ascii_values(\"CALC:MARK1:Y?\")\n",
    "    trace_1_min = inst.query_ascii_values(\"CALC:MARK2:Y?\")\n",
    "    #print(f'max{trace_1_max} min {trace_1_min}')\n",
    "    return(abs(round(trace_1_max[0],4)),abs(round(trace_1_min[0],4)))"
   ]
  },
  {
   "cell_type": "code",
   "execution_count": null,
   "metadata": {},
   "outputs": [],
   "source": [
    "def get_max_dreif(data):\n",
    "    #print(data)\n",
    "    for key in data:        \n",
    "        data[key]=max(data[key])\n",
    "    return(data)"
   ]
  },
  {
   "cell_type": "code",
   "execution_count": null,
   "metadata": {},
   "outputs": [],
   "source": [
    "def custom_sort(trace):\n",
    "    if (len(trace)==3):\n",
    "        result=str(trace[:1]+'0'+trace[1:2]+'0'+trace[2:])\n",
    "        return(result)\n",
    "    if (len(trace)==4):\n",
    "        result=str(trace[:1]+'a'+trace[1:4])\n",
    "        return(result)\n",
    "    else:\n",
    "        result=str(trace[:1]+'z'+trace[1:5])\n",
    "        return(result)"
   ]
  },
  {
   "cell_type": "code",
   "execution_count": null,
   "metadata": {},
   "outputs": [],
   "source": [
    "def test_step(step_time):\n",
    "    start_time = time.time()\n",
    "    temp_start = float(inst.query(\"SYST:TEMP:SENSor?\").split('/')[0])\n",
    "    result = {}\n",
    "    start_scan()\n",
    "    for i in range (1,trace_count+1):\n",
    "        normalizeited_graf(i)\n",
    "        setup_markers(i)\n",
    "        current_trace=inst.query(f'CALC:PAR{i}:DEF?')\n",
    "        \n",
    "        result[current_trace]=[]\n",
    "    while(time.time() - start_time < step_time*60):        \n",
    "    #for i in range (1,3):\n",
    "        start_scan()\n",
    "        for port in range(1,trace_count+1):\n",
    "            current_trace=inst.query(f'CALC:PAR{port}:DEF?')\n",
    "            result[current_trace].append(max(get_markers_values(port)))\n",
    "    #print('####result')\n",
    "    #print(result)\n",
    "    temp_stop = float(inst.query(\"SYST:TEMP:SENSor?\").split('/')[0])\n",
    "    max_dreif_dict=get_max_dreif(result)\n",
    "    temp_difference = temp_stop-temp_start\n",
    "    action_time=round((time.time() - start_time)/60 ,2)    \n",
    "    #сортировка\n",
    "    sorted_dict = {}\n",
    "    sorted_keys = sorted(max_dreif_dict,key=custom_sort)\n",
    "    for w in sorted_keys:\n",
    "        sorted_dict[w] = max_dreif_dict[w]\n",
    "    return(action_time,temp_stop,sorted_dict,temp_difference)\n",
    "    "
   ]
  },
  {
   "cell_type": "code",
   "execution_count": null,
   "metadata": {},
   "outputs": [],
   "source": [
    "start_time = time.time()\n",
    "result_table = []\n",
    "pbar = tqdm_notebook(total=test_time*60)\n",
    "oldprogress=(time.time()-start_time)\n",
    "\n",
    "while(time.time() - start_time < test_time*60):\n",
    "    result_table.append(test_step(step_time))\n",
    "    progress=(time.time()-start_time)    \n",
    "    pbar.update(progress-oldprogress)\n",
    "    oldprogress=progress\n",
    "    for port in range (1,port_count+1):\n",
    "        normalizeited_graf(port)"
   ]
  },
  {
   "cell_type": "code",
   "execution_count": null,
   "metadata": {},
   "outputs": [],
   "source": [
    "def table_generator(table):\n",
    "    colums_name=['Время','Температура']\n",
    "    for i in table[0][2].keys():\n",
    "        colums_name.append(f\"{i} Дрейф, дБ\")\n",
    "        colums_name.append(f\"{i} Температурная стабильность, дБ/град\")\n",
    "    html_table='<table border=\"1\">'\n",
    "    html_table+= f'<tr><td>Диапазон {read_start_freq}-{read_stop_freq}<td></tr>'\n",
    "    html_table+=\"<tr>\"\n",
    "    for i in colums_name:\n",
    "        html_table+=f\"\\\n",
    "        <td>{i}</td>\"           \n",
    "    html_table+=\"</tr>\"    \n",
    "    time=0\n",
    "    for i in range(len(result_table)):\n",
    "        time+=table[i][0]\n",
    "        html_table+=f\"<tr>\\\n",
    "        <td>{round(time,2)}</td>\\\n",
    "        <td>{table[i][1]}</td>\"\n",
    "        #print(i)\n",
    "        \n",
    "        for r in result_table[0][2].keys():\n",
    "            #print(r)\n",
    "            dreif=table[i][2][f\"{r}\"]\n",
    "            try:\n",
    "                temp_stab=dreif/table[i][3]\n",
    "            except:\n",
    "                temp_stab=0\n",
    "            html_table+=\"<td>{}</td>\".format(dreif)\n",
    "            html_table+=\"<td>{}</td>\".format(temp_stab)            \n",
    "        html_table+=\"</tr>\"\n",
    "    html_table+=\"</table>\"\n",
    "        \n",
    "        \n",
    "    \n",
    "    return(html_table)"
   ]
  },
  {
   "cell_type": "code",
   "execution_count": null,
   "metadata": {},
   "outputs": [],
   "source": [
    "from IPython.core.display import display, HTML\n",
    "\n",
    "display(HTML(table_generator(result_table)))\n"
   ]
  },
  {
   "cell_type": "code",
   "execution_count": null,
   "metadata": {},
   "outputs": [],
   "source": [
    "file_data = table_generator(result_table)\n",
    "my_button = SaveFilesButton(file_data)\n",
    "my_button # This will display the button in the context of Jupyter Notebook"
   ]
  }
 ],
 "metadata": {
  "hide_input": false,
  "kernelspec": {
   "display_name": "Python 3",
   "language": "python",
   "name": "python3"
  },
  "language_info": {
   "codemirror_mode": {
    "name": "ipython",
    "version": 3
   },
   "file_extension": ".py",
   "mimetype": "text/x-python",
   "name": "python",
   "nbconvert_exporter": "python",
   "pygments_lexer": "ipython3",
   "version": "3.6.12"
  },
  "toc": {
   "base_numbering": 1,
   "nav_menu": {
    "height": "129px",
    "width": "225px"
   },
   "number_sections": true,
   "sideBar": true,
   "skip_h1_title": false,
   "title_cell": "Table of Contents",
   "title_sidebar": "Содержимое",
   "toc_cell": false,
   "toc_position": {},
   "toc_section_display": true,
   "toc_window_display": true
  },
  "varInspector": {
   "cols": {
    "lenName": 16,
    "lenType": 16,
    "lenVar": 40
   },
   "kernels_config": {
    "python": {
     "delete_cmd_postfix": "",
     "delete_cmd_prefix": "del ",
     "library": "var_list.py",
     "varRefreshCmd": "print(var_dic_list())"
    },
    "r": {
     "delete_cmd_postfix": ") ",
     "delete_cmd_prefix": "rm(",
     "library": "var_list.r",
     "varRefreshCmd": "cat(var_dic_list()) "
    }
   },
   "position": {
    "height": "577.2px",
    "left": "1678px",
    "right": "20px",
    "top": "120px",
    "width": "350px"
   },
   "types_to_exclude": [
    "module",
    "function",
    "builtin_function_or_method",
    "instance",
    "_Feature"
   ],
   "window_display": false
  }
 },
 "nbformat": 4,
 "nbformat_minor": 2
}
