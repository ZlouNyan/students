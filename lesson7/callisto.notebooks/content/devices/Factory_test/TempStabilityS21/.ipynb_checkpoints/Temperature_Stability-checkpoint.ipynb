{
 "cells": [
  {
   "cell_type": "code",
   "execution_count": 1,
   "metadata": {
    "code_folding": [
     14
    ]
   },
   "outputs": [
    {
     "data": {
      "text/markdown": [
       "### 💠 Температурная стабильность"
      ],
      "text/plain": [
       "<IPython.core.display.Markdown object>"
      ]
     },
     "metadata": {},
     "output_type": "display_data"
    },
    {
     "data": {
      "application/vnd.jupyter.widget-view+json": {
       "model_id": "705b95be82624331be71995a1c2dd678",
       "version_major": 2,
       "version_minor": 0
      },
      "text/plain": [
       "Button(button_style='success', description='Run', icon='play', style=ButtonStyle(), tooltip='Click me')"
      ]
     },
     "metadata": {},
     "output_type": "display_data"
    }
   ],
   "source": [
    "import os,sys,inspect\n",
    "parentdir = os.path.abspath('../../../pymodules')\n",
    "sys.path.insert(0,parentdir) \n",
    "from connect_device import connect\n",
    "testname=\"Температурная стабильность\"\n",
    "button=connect.test_name(testname)\n",
    "button"
   ]
  },
  {
   "cell_type": "code",
   "execution_count": null,
   "metadata": {},
   "outputs": [],
   "source": [
    "%blockrun button"
   ]
  },
  {
   "cell_type": "code",
   "execution_count": 2,
   "metadata": {
    "code_folding": [
     8
    ]
   },
   "outputs": [
    {
     "data": {
      "text/markdown": [
       "### Инструкция:                         \n",
       " * Убедитесь, что запущено приложение в сервисном режиме                         \n",
       " * Включите сокет сервер                         \n",
       " * Убедитесь, что порт в поле \"IP Address\" совпадает с портом в программе                         \n",
       " * Нажмите кнопку \"connect\", пустые поля должны автоматически заполниться                         \n",
       " * После того, как все поля заполнились нажмите кнопку \"continue\""
      ],
      "text/plain": [
       "<IPython.core.display.Markdown object>"
      ]
     },
     "metadata": {},
     "output_type": "display_data"
    },
    {
     "data": {
      "application/vnd.jupyter.widget-view+json": {
       "model_id": "f8ed70406ca144aa9e51e14e53a28508",
       "version_major": 2,
       "version_minor": 0
      },
      "text/plain": [
       "HBox(children=(VBox(children=(Label(value='Legacy device', layout=Layout(width='auto')), Text(value='127.0.0.1…"
      ]
     },
     "metadata": {},
     "output_type": "display_data"
    }
   ],
   "source": [
    "box,legacy,ng = connect.connect_wizard(button)\n",
    "box"
   ]
  },
  {
   "cell_type": "code",
   "execution_count": null,
   "metadata": {},
   "outputs": [],
   "source": [
    "wait_button=connect.wait_button()\n",
    "wait_button"
   ]
  },
  {
   "cell_type": "code",
   "execution_count": null,
   "metadata": {},
   "outputs": [],
   "source": [
    "%blockrun wait_button"
   ]
  },
  {
   "cell_type": "code",
   "execution_count": null,
   "metadata": {},
   "outputs": [],
   "source": [
    "import numpy as np\n",
    "import time\n",
    "from tqdm import tqdm_notebook\n",
    "\n",
    "inst = legacy.instance()\n",
    "inst2 = ng.instance()\n",
    "\n"
   ]
  },
  {
   "cell_type": "code",
   "execution_count": null,
   "metadata": {},
   "outputs": [],
   "source": [
    "#путь к файлу с сегментами\n",
    "currentDir=%pwd\n",
    "resultPath= currentDir +'\\\\frequency_plan.seg'"
   ]
  },
  {
   "cell_type": "code",
   "execution_count": null,
   "metadata": {},
   "outputs": [],
   "source": [
    "portCount=int(inst.query(\"SERV:PORT:COUN?\"))\n",
    "trace=[\"S\"]\n",
    "traceCount=len(trace)*portCount"
   ]
  },
  {
   "cell_type": "code",
   "execution_count": null,
   "metadata": {},
   "outputs": [],
   "source": [
    "def trace_setting(portCount):\n",
    "    inst.write(\"CALC:PAR:COUN {}\".format(portCount))\n",
    "    for i in range(1,portCount+1):\n",
    "        \n",
    "        inst.write(\"CALC:PAR{}:DEF {}{}{}\".format(i,trace[0],i,i))"
   ]
  },
  {
   "cell_type": "code",
   "execution_count": null,
   "metadata": {},
   "outputs": [],
   "source": [
    "#Сброс по умолчанию и остановка сканирования\n",
    "inst.write(\"*RST\")\n",
    "trace_setting(portCount)\n",
    "# Фильтр ПЧ 100 Гц \n",
    "inst.write(\"SENS:BAND 100\")\n",
    "#Частотный план\n",
    "inst.write(\"SENS:SWE:TYPE SEGMent\")\n",
    "inst.write(\"MMEMory:LOAD:SEGM {}\".format(resultPath))\n",
    "# атенюатор SERVice:RFCTL:POWer:STATe 1\n",
    "inst.write(\"SERVice:RFCTL:POWer:STATe 1\")\n",
    "\n",
    "\n"
   ]
  },
  {
   "cell_type": "code",
   "execution_count": null,
   "metadata": {},
   "outputs": [],
   "source": [
    "def normalizeited_graf(n_graf):\n",
    "    inst.write(\"CALC:PAR{}:SEL\".format(n_graf))\n",
    "    inst.write(\"CALC:MATH:MEM\")\n",
    "    inst.write(\"CALC:MATH:FUNC DIVide\")\n",
    "    inst.write(\"DISP:WIND:TRAC{}:MEM 0\".format(n_graf))"
   ]
  },
  {
   "cell_type": "code",
   "execution_count": null,
   "metadata": {},
   "outputs": [],
   "source": [
    "# запуск однократного сканирования\n",
    "#legacy.timeout = 5000\n",
    "inst.write(\"INIT\")\n",
    "while(True):\n",
    "    status=inst.query(\"TRIG:STAT?\")\n",
    "    if (status!=\"HOLD\"):\n",
    "        time.sleep(3)\n",
    "    else :        \n",
    "        break\n",
    "#inst.query(\"*OPC?\")\n",
    "# нормализация 1 графиика\n",
    "for i in range(1,portCount+1):\n",
    "    normalizeited_graf(i)\n",
    "    \n",
    "\n",
    "print(\"configuration successful\")\n"
   ]
  },
  {
   "cell_type": "code",
   "execution_count": null,
   "metadata": {},
   "outputs": [],
   "source": [
    "display(Markdown('### 💠 Конфигурация загружена, нажмите continue'))\n",
    "button3 = widgets.Button(\n",
    "    description='Continue',\n",
    "    disabled=False,\n",
    "    button_style='success',  # 'success', 'info', 'warning', 'danger' or ''\n",
    "    tooltip='Click me',\n",
    "    icon='gear'\n",
    ")\n",
    "button3"
   ]
  },
  {
   "cell_type": "code",
   "execution_count": null,
   "metadata": {},
   "outputs": [],
   "source": [
    "%blockrun button3"
   ]
  },
  {
   "cell_type": "code",
   "execution_count": null,
   "metadata": {},
   "outputs": [],
   "source": [
    "def setup_markers(n_graf):\n",
    "    inst.write(\"CALC1:PAR{}:SEL\".format(n_graf)) #выбрать активный график \n",
    "    inst.write(\"CALC:MARK1 1\")\n",
    "    inst.write(\"CALC1:MARK1:FUNC:TYPE MAXimum \")\n",
    "    inst.write(\"CALC:MARK:FUNC:TRAC 1\")\n",
    "    inst.write(\"CALC:MARK2 1\")\n",
    "    inst.write(\"CALC1:MARK2:FUNC:TYPE MINimum \")\n",
    "    inst.write(\"CALC:MARK2:FUNC:TRAC 1\")"
   ]
  },
  {
   "cell_type": "code",
   "execution_count": null,
   "metadata": {},
   "outputs": [],
   "source": [
    "inst.write(\"CALC:MARK:COUP 0\") # выключить свзяность\n",
    "for i in range (1,portCount+1):\n",
    "    setup_markers(i)\n",
    "\n"
   ]
  },
  {
   "cell_type": "code",
   "execution_count": null,
   "metadata": {},
   "outputs": [],
   "source": [
    "def get_markers_values(n_graf):\n",
    "    inst.write(\"CALC1:PAR{}:SEL\".format(n_graf))\n",
    "    graf_1_max=inst.query_ascii_values(\"CALC:MARK1:Y?\")\n",
    "    graf_1_min=inst.query_ascii_values(\"CALC:MARK2:Y?\")\n",
    "    return(round(graf_1_max[0],4),round(graf_1_min[0],4))"
   ]
  },
  {
   "cell_type": "code",
   "execution_count": null,
   "metadata": {},
   "outputs": [],
   "source": [
    "def get_dreif(param):\n",
    "    p1=abs(param[0])\n",
    "    p2=abs(param[1])\n",
    "    return(max(p1,p2))    "
   ]
  },
  {
   "cell_type": "code",
   "execution_count": null,
   "metadata": {},
   "outputs": [],
   "source": [
    "def get_max_dreif(dreif):\n",
    "    for i in range(1,len(dreif)+1):\n",
    "        #print(i)\n",
    "        #print(dreif['dreif_s{}'.format(str(i)*2)])\n",
    "        dreif['dreif_s{}'.format(str(i)*2)]=max(dreif['dreif_s{}'.format(str(i)*2)])\n",
    "    return(dreif)"
   ]
  },
  {
   "cell_type": "code",
   "execution_count": null,
   "metadata": {},
   "outputs": [],
   "source": [
    "from tqdm import tqdm_notebook\n",
    "import time \n",
    "\n",
    "def miniTest(stepTime,testTime):\n",
    "    start_time = time.time()\n",
    "    temp0=inst.query_ascii_values(\"SYST:TEMP:SENS?\")[0]\n",
    "    variable=\"dreif_s\"\n",
    "    variableList={}\n",
    "    for i in range(1,portCount+1):\n",
    "        #print(i)\n",
    "        variableList[variable+str(i)*2]=[]\n",
    "    \n",
    "    \n",
    "    while(time.time()-start_time<stepTime*60):        \n",
    "        inst.write(\"INIT\")         \n",
    "        while(True):            \n",
    "            status=inst.query(\"TRIG:STAT?\")\n",
    "            if (status!=\"HOLD\"):                \n",
    "                time.sleep(3)\n",
    "            else :\n",
    "                for i in range(1,portCount+1):\n",
    "                    variableList['dreif_s{}'.format(str(i)*2)].append(get_dreif(get_markers_values(i)))\n",
    "                #dreif_s11.append(get_dreif(get_markers_values(1)))\n",
    "                #dreif_s22.append(get_dreif(get_markers_values(2)))                \n",
    "                break   \n",
    "   \n",
    "    \n",
    "         \n",
    "    temp1=inst.query_ascii_values(\"SYST:TEMP:SENS?\")[0]\n",
    "    max_dreif_dict=get_max_dreif(variableList)\n",
    "    #maxdreif_s11=max(dreif_s11)\n",
    "    #maxdreif_s22=max(dreif_s22)\n",
    "    temp_difference=(temp1-temp0)\n",
    "    #temp_stability_s11=maxdreif_s11/(temp1-temp0)    \n",
    "    #temp_stability_s22=maxdreif_s22/(temp1-temp0)\n",
    "    action_time=round((time.time() - start_time)/60 ,2)\n",
    "    normalizeited_graf(1)\n",
    "    normalizeited_graf(2)\n",
    "    return(action_time,temp1,max_dreif_dict,temp_difference)"
   ]
  },
  {
   "cell_type": "code",
   "execution_count": null,
   "metadata": {},
   "outputs": [],
   "source": [
    "data_table=[]\n",
    "testTime=40 #общее время теста мин\n",
    "stepTime=5 # время 1 цикла мин\n",
    "step=testTime/stepTime\n",
    "start_time = time.time()\n",
    "print(\"Общее время теста =\",testTime,\" мин\")\n",
    "print(\"Колличество шагов =\",step)\n",
    "print(\"Время шага =\",stepTime,\" мин\")\n",
    "pbar = tqdm_notebook(total=testTime*60)\n",
    "oldprogress=(time.time()-start_time)\n",
    "for i in range(int(step)):\n",
    "    \n",
    "    \n",
    "    #print('step ',i+1,\"\\\\\",int(step))\n",
    "    data_table.append(miniTest(stepTime,testTime))\n",
    "    progress=(time.time()-start_time)    \n",
    "    pbar.update(progress-oldprogress)\n",
    "    oldprogress=progress\n",
    "pbar.close()    \n"
   ]
  },
  {
   "cell_type": "code",
   "execution_count": null,
   "metadata": {},
   "outputs": [],
   "source": [
    "def table_generator(table):\n",
    "    colums_name=['Время','Температура']\n",
    "    for i in table[0][2].keys():\n",
    "        colums_name.append(\"{} Дрейф, дБ\".format(i[-3::]))\n",
    "        colums_name.append(\"{} Температурная стабильность, дБ/град\".format(i[-3::]))\n",
    "    html_table='<table style=\"display:inline;\"><tr>'\n",
    "    for i in colums_name:\n",
    "        html_table+=f\"\\\n",
    "        <td>{i}</td>\"           \n",
    "    html_table+=\"</tr>\"    \n",
    "    time=0\n",
    "    for i in range(len(data_table)):\n",
    "        time+=table[i][0]\n",
    "        html_table+=f\"<tr>\\\n",
    "        <td>{round(time,2)}</td>\\\n",
    "        <td>{table[i][1]}</td>\"\n",
    "        #print(i)\n",
    "        for r in range (1,len(table[i][2])+1):\n",
    "            #print(r)\n",
    "            dreif=table[i][2][\"dreif_s{}\".format(str(r)*2)]\n",
    "            temp_stab=dreif/table[i][3]\n",
    "            html_table+=\"<td>{}</td>\".format(dreif)\n",
    "            html_table+=\"<td>{}</td>\".format(temp_stab)            \n",
    "        html_table+=\"</tr>\"\n",
    "    html_table+=\"</table>\"\n",
    "        \n",
    "        \n",
    "    \n",
    "    return(html_table)"
   ]
  },
  {
   "cell_type": "code",
   "execution_count": null,
   "metadata": {},
   "outputs": [],
   "source": [
    "from IPython.core.display import display, HTML\n",
    "\n",
    "display(HTML(table_generator(data_table)))\n"
   ]
  }
 ],
 "metadata": {
  "hide_input": false,
  "kernelspec": {
   "display_name": "Python 3",
   "language": "python",
   "name": "python3"
  },
  "language_info": {
   "codemirror_mode": {
    "name": "ipython",
    "version": 3
   },
   "file_extension": ".py",
   "mimetype": "text/x-python",
   "name": "python",
   "nbconvert_exporter": "python",
   "pygments_lexer": "ipython3",
   "version": "3.6.12"
  },
  "toc": {
   "base_numbering": 1,
   "nav_menu": {
    "height": "129px",
    "width": "225px"
   },
   "number_sections": true,
   "sideBar": true,
   "skip_h1_title": false,
   "title_cell": "Table of Contents",
   "title_sidebar": "Содержимое",
   "toc_cell": false,
   "toc_position": {},
   "toc_section_display": true,
   "toc_window_display": true
  },
  "varInspector": {
   "cols": {
    "lenName": 16,
    "lenType": 16,
    "lenVar": 40
   },
   "kernels_config": {
    "python": {
     "delete_cmd_postfix": "",
     "delete_cmd_prefix": "del ",
     "library": "var_list.py",
     "varRefreshCmd": "print(var_dic_list())"
    },
    "r": {
     "delete_cmd_postfix": ") ",
     "delete_cmd_prefix": "rm(",
     "library": "var_list.r",
     "varRefreshCmd": "cat(var_dic_list()) "
    }
   },
   "position": {
    "height": "577.2px",
    "left": "1678px",
    "right": "20px",
    "top": "120px",
    "width": "350px"
   },
   "types_to_exclude": [
    "module",
    "function",
    "builtin_function_or_method",
    "instance",
    "_Feature"
   ],
   "window_display": false
  }
 },
 "nbformat": 4,
 "nbformat_minor": 2
}
