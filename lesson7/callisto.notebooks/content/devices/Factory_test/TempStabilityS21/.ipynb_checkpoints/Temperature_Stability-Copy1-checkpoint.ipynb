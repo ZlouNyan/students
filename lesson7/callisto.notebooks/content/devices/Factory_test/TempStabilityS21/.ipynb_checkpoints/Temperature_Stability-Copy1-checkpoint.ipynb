{
 "cells": [
  {
   "cell_type": "code",
   "execution_count": 1,
   "metadata": {
    "code_folding": [
     14
    ]
   },
   "outputs": [
    {
     "data": {
      "text/markdown": [
       "### 💠 Температурная стабильность"
      ],
      "text/plain": [
       "<IPython.core.display.Markdown object>"
      ]
     },
     "metadata": {},
     "output_type": "display_data"
    }
   ],
   "source": [
    "import os,sys,inspect\n",
    "from IPython.display import display, Markdown, Latex, Javascript, clear_output\n",
    "import emoji\n",
    "import time\n",
    "import ipywidgets as widgets\n",
    "import ipython_blocking\n",
    "import numpy as np\n",
    "import time\n",
    "from tqdm import tqdm_notebook\n",
    "import functools\n",
    "import configparser\n",
    "import webbrowser\n",
    "import shutil\n",
    "import time\n",
    "\n",
    "\n",
    "parentdir = os.path.abspath('../../../pymodules')\n",
    "\n",
    "sys.path.insert(0,parentdir)\n",
    "#from connect_device import connect\n",
    "from connect_device_v2.vizualizate import vizulizated_finds_devices, advanced_search_device,DeviceBundle\n",
    "from connect_device_v2.save_file import SaveFilesButton\n",
    "from connect_device_v2.connect import connect_to_device\n",
    "from connect_device_v2.find_device import FindDevice\n",
    "\n",
    "import pandas as pd\n",
    "from datetime import datetime\n",
    "button = widgets.Button(\n",
    "                description='Continue',\n",
    "                disabled=False,\n",
    "                button_style='success',  # 'success', 'info', 'warning', 'danger' or ''\n",
    "                tooltip='Click me',\n",
    "                icon='play'        \n",
    "                )\n",
    "testname=\"Температурная стабильность\"\n",
    "display(Markdown('### 💠 {}'.format(testname)))\n",
    "\n"
   ]
  },
  {
   "cell_type": "code",
   "execution_count": 2,
   "metadata": {},
   "outputs": [
    {
     "name": "stdout",
     "output_type": "stream",
     "text": [
      "Выбранная конфигурация\n",
      "time:2\n",
      "step_time:1\n"
     ]
    },
    {
     "data": {
      "application/vnd.jupyter.widget-view+json": {
       "model_id": "5c52344e0d244be28da392bbb3f90c4d",
       "version_major": 2,
       "version_minor": 0
      },
      "text/plain": [
       "VBox(children=(Button(button_style='info', description='редактировать конфиг', layout=Layout(width='max-conten…"
      ]
     },
     "metadata": {},
     "output_type": "display_data"
    }
   ],
   "source": [
    "from connect_device_v2.find_device import FindDevice,parse_config\n",
    "box = FindDevice()\n",
    "display(box)"
   ]
  },
  {
   "cell_type": "code",
   "execution_count": null,
   "metadata": {
    "code_folding": [
     8
    ]
   },
   "outputs": [],
   "source": [
    "button = box.select_device_continue_button"
   ]
  },
  {
   "cell_type": "code",
   "execution_count": null,
   "metadata": {},
   "outputs": [],
   "source": [
    "%blockrun button"
   ]
  },
  {
   "cell_type": "code",
   "execution_count": null,
   "metadata": {},
   "outputs": [],
   "source": [
    "button1 = box.select_config_continue_button"
   ]
  },
  {
   "cell_type": "code",
   "execution_count": null,
   "metadata": {},
   "outputs": [],
   "source": [
    "%blockrun button1"
   ]
  },
  {
   "cell_type": "code",
   "execution_count": 3,
   "metadata": {},
   "outputs": [],
   "source": [
    "inst = box.selected_device"
   ]
  },
  {
   "cell_type": "code",
   "execution_count": 4,
   "metadata": {},
   "outputs": [],
   "source": [
    "date=datetime.now()\n",
    "date=date.strftime('%Y-%m-%d %H:%M:%S')\n",
    "device = inst.query(\"*IDN?\")\n",
    "device = device.replace(' ','')\n",
    "device = device.split(',')\n",
    "device_info = {'Время запуска':date,\n",
    "              'device':device[0],\n",
    "              'model':device[1],\n",
    "              'serial':device[2],\n",
    "              'version':device[3]}\n",
    "portCount=int(inst.query(\"SERV:PORT:COUN?\"))\n",
    "traces=[\"T\",\"R\",\"S\"]\n",
    "trace_count = portCount* len(traces)"
   ]
  },
  {
   "cell_type": "code",
   "execution_count": 5,
   "metadata": {},
   "outputs": [],
   "source": [
    "config =  box.config\n",
    "device = config['DEVICE']\n",
    "test_time = float(device['time'])\n",
    "step_time = float(device['step_time'])\n"
   ]
  },
  {
   "cell_type": "code",
   "execution_count": 6,
   "metadata": {},
   "outputs": [],
   "source": [
    "def check_error():\n",
    "    responce = inst.query('SYST:ERR?')    \n",
    "    if \"No error\" not in responce:        \n",
    "        print(responce)\n",
    "        #pass\n",
    "    else:        \n",
    "        pass\n",
    "        #print('succes')"
   ]
  },
  {
   "cell_type": "code",
   "execution_count": null,
   "metadata": {},
   "outputs": [],
   "source": []
  },
  {
   "cell_type": "code",
   "execution_count": null,
   "metadata": {},
   "outputs": [],
   "source": [
    "\n"
   ]
  },
  {
   "cell_type": "code",
   "execution_count": null,
   "metadata": {},
   "outputs": [],
   "source": []
  },
  {
   "cell_type": "code",
   "execution_count": 7,
   "metadata": {},
   "outputs": [],
   "source": [
    "port_count = int(inst.query(\"SERV:PORT:COUN?\"))\n",
    "trace = [\"S\"]\n",
    "trace_count = len(trace) * port_count"
   ]
  },
  {
   "cell_type": "code",
   "execution_count": 8,
   "metadata": {},
   "outputs": [],
   "source": [
    "def trace_setting(port_count):\n",
    "    inst.write(\"CALC:PAR:COUN {}\".format(port_count))\n",
    "    for i in range(1,port_count+1):        \n",
    "        inst.write(f\"CALC:PAR{i}:DEF {trace[0]}{i}{i}\")"
   ]
  },
  {
   "cell_type": "code",
   "execution_count": 9,
   "metadata": {},
   "outputs": [],
   "source": [
    "#Сброс по умолчанию и остановка сканирования\n",
    "#inst.write(\"*RST\")\n",
    "inst.write(\"SYST:PRES\")\n",
    "inst.write(\"TRIG:SOUR BUS\")\n",
    "check_error()\n",
    "inst.write(\"INIT:CONT OFF\")\n",
    "check_error()\n",
    "trace_setting(port_count)\n",
    "# Фильтр ПЧ 100 Гц \n",
    "inst.write(\"SENS:BAND 100\")\n",
    "check_error()\n",
    "#путь к файлу с сегментами\n",
    "inst.write(\"SERVice:SWEep:FREQuency:FACTory\")\n",
    "check_error()\n",
    "# атенюатор SERVice:RFCTL:POWer:STATe 1\n",
    "inst.write(\"SERVice:RFCTL:POWer:STATe 1\")\n",
    "check_error()\n",
    "inst.timeout=30000\n",
    "\n"
   ]
  },
  {
   "cell_type": "code",
   "execution_count": 12,
   "metadata": {},
   "outputs": [],
   "source": [
    "def normalizeited_graf(trace_number):\n",
    "    inst.write(f\"CALC:PAR{trace_number}:SEL\")\n",
    "    check_error()\n",
    "    inst.write(\"CALC:MATH:MEM\")\n",
    "    check_error()\n",
    "    inst.write(\"CALC:MATH:FUNC DIVide\")\n",
    "    #inst.write(\"DISP:WIND:TRAC{}:MEM 0\".format(n_graf))"
   ]
  },
  {
   "cell_type": "code",
   "execution_count": 13,
   "metadata": {},
   "outputs": [],
   "source": [
    "def start_scan():    \n",
    "    inst.write(\"INIT\")\n",
    "    check_error()\n",
    "    inst.write(\"TRIG:SING\")\n",
    "    # Читаем ошибки и ждём окончания для считывания данных, затем всё то же самое для порта 2\n",
    "    #print('OPC',inst.query(\"*OPC?\"))   \n",
    "    inst.query(\"*OPC?\")\n",
    "    check_error()"
   ]
  },
  {
   "cell_type": "code",
   "execution_count": 14,
   "metadata": {},
   "outputs": [],
   "source": [
    "def setup_markers(trace_number):    \n",
    "    inst.write(f\"CALC1:PAR{trace_number}:SEL\") #выбрать активный график \n",
    "    check_error()   \n",
    "    inst.write(f\"CALC:MARK:COUN 2\")   \n",
    "    check_error()    \n",
    "    inst.write(\"CALC1:MARK1:FUNC:TYPE MAXimum\")\n",
    "    check_error()   \n",
    "    inst.write(\"CALC:MARK:FUNC:TRAC 1\")\n",
    "    check_error()       \n",
    "    inst.write(\"CALC1:MARK2:FUNC:TYPE MINimum\")\n",
    "    check_error()   \n",
    "    inst.write(\"CALC:MARK2:FUNC:TRAC 1\")\n",
    "    check_error()"
   ]
  },
  {
   "cell_type": "code",
   "execution_count": null,
   "metadata": {},
   "outputs": [],
   "source": [
    "\n"
   ]
  },
  {
   "cell_type": "code",
   "execution_count": null,
   "metadata": {},
   "outputs": [],
   "source": []
  },
  {
   "cell_type": "code",
   "execution_count": null,
   "metadata": {},
   "outputs": [],
   "source": []
  },
  {
   "cell_type": "code",
   "execution_count": 15,
   "metadata": {},
   "outputs": [],
   "source": [
    "def get_markers_values(port):\n",
    "    inst.write(f\"CALC1:PAR{port}:SEL\")\n",
    "    trace_1_max = inst.query_ascii_values(\"CALC:MARK1:Y?\")\n",
    "    trace_1_min = inst.query_ascii_values(\"CALC:MARK2:Y?\")\n",
    "    return(abs(round(trace_1_max[0],4)),abs(round(trace_1_min[0],4)))"
   ]
  },
  {
   "cell_type": "code",
   "execution_count": null,
   "metadata": {},
   "outputs": [],
   "source": [
    "    "
   ]
  },
  {
   "cell_type": "code",
   "execution_count": 17,
   "metadata": {},
   "outputs": [],
   "source": [
    "def get_max_dreif(data):\n",
    "    for key in data:        \n",
    "        data[key]=max(data[key])\n",
    "    return(data)"
   ]
  },
  {
   "cell_type": "code",
   "execution_count": null,
   "metadata": {},
   "outputs": [],
   "source": []
  },
  {
   "cell_type": "code",
   "execution_count": null,
   "metadata": {},
   "outputs": [],
   "source": []
  },
  {
   "cell_type": "code",
   "execution_count": 19,
   "metadata": {},
   "outputs": [],
   "source": [
    "def test_step(step_time):\n",
    "    start_time = time.time()\n",
    "    temp_start = float(inst.query(\"SYST:TEMP:SENSor?\").split('/')[0])\n",
    "    result = {}\n",
    "    start_scan()\n",
    "    for i in range (1,port_count+1):\n",
    "        normalizeited_graf(i)\n",
    "        setup_markers(i)\n",
    "        result[f's{i}{i}']=[]\n",
    "    while(time.time() - start_time < step_time*60):        \n",
    "    #for i in range (1,3):\n",
    "        start_scan()\n",
    "        for port in range(1,port_count+1):\n",
    "            result[f's{port}{port}'].append(max(get_markers_values(port)))\n",
    "    #print(result)\n",
    "    temp_stop = float(inst.query(\"SYST:TEMP:SENSor?\").split('/')[0])\n",
    "    max_dreif_dict=get_max_dreif(result)\n",
    "    temp_difference = temp_stop-temp_start\n",
    "    action_time=round((time.time() - start_time)/60 ,2)    \n",
    "    \n",
    "    return(action_time,temp_stop,max_dreif_dict,temp_difference)\n",
    "    "
   ]
  },
  {
   "cell_type": "code",
   "execution_count": 20,
   "metadata": {},
   "outputs": [
    {
     "data": {
      "application/vnd.jupyter.widget-view+json": {
       "model_id": "57bf05a099c24d3fb0e719072c0083a9",
       "version_major": 2,
       "version_minor": 0
      },
      "text/plain": [
       "HBox(children=(IntProgress(value=0, max=120), HTML(value='')))"
      ]
     },
     "metadata": {},
     "output_type": "display_data"
    }
   ],
   "source": [
    "start_time = time.time()\n",
    "result_table = []\n",
    "pbar = tqdm_notebook(total=test_time*60)\n",
    "oldprogress=(time.time()-start_time)\n",
    "\n",
    "while(time.time() - start_time < test_time*60):\n",
    "    result_table.append(test_step(step_time))\n",
    "    progress=(time.time()-start_time)    \n",
    "    pbar.update(progress-oldprogress)\n",
    "    oldprogress=progress\n",
    "    for port in range (1,port_count+1):\n",
    "        normalizeited_graf(port)"
   ]
  },
  {
   "cell_type": "code",
   "execution_count": null,
   "metadata": {},
   "outputs": [],
   "source": [
    "\n"
   ]
  },
  {
   "cell_type": "code",
   "execution_count": null,
   "metadata": {},
   "outputs": [],
   "source": []
  },
  {
   "cell_type": "code",
   "execution_count": null,
   "metadata": {},
   "outputs": [],
   "source": []
  },
  {
   "cell_type": "code",
   "execution_count": null,
   "metadata": {},
   "outputs": [],
   "source": []
  },
  {
   "cell_type": "code",
   "execution_count": null,
   "metadata": {},
   "outputs": [],
   "source": []
  },
  {
   "cell_type": "code",
   "execution_count": 21,
   "metadata": {},
   "outputs": [],
   "source": [
    "def table_generator(table):\n",
    "    colums_name=['Время','Температура']\n",
    "    for i in table[0][2].keys():\n",
    "        colums_name.append(f\"{i} Дрейф, дБ\")\n",
    "        colums_name.append(f\"{i} Температурная стабильность, дБ/град\")\n",
    "    html_table='<table style=\"display:inline;\"><tr>'\n",
    "    for i in colums_name:\n",
    "        html_table+=f\"\\\n",
    "        <td>{i}</td>\"           \n",
    "    html_table+=\"</tr>\"    \n",
    "    time=0\n",
    "    for i in range(len(result_table)):\n",
    "        time+=table[i][0]\n",
    "        html_table+=f\"<tr>\\\n",
    "        <td>{round(time,2)}</td>\\\n",
    "        <td>{table[i][1]}</td>\"\n",
    "        #print(i)\n",
    "        for r in range (1,len(table[i][2])+1):\n",
    "            #print(r)\n",
    "            dreif=table[i][2][f\"s{r}{r}\"]\n",
    "            try:\n",
    "                temp_stab=dreif/table[i][3]\n",
    "            except:\n",
    "                temp_stab=0\n",
    "            html_table+=\"<td>{}</td>\".format(dreif)\n",
    "            html_table+=\"<td>{}</td>\".format(temp_stab)            \n",
    "        html_table+=\"</tr>\"\n",
    "    html_table+=\"</table>\"\n",
    "        \n",
    "        \n",
    "    \n",
    "    return(html_table)"
   ]
  },
  {
   "cell_type": "code",
   "execution_count": null,
   "metadata": {},
   "outputs": [],
   "source": []
  },
  {
   "cell_type": "code",
   "execution_count": 22,
   "metadata": {},
   "outputs": [
    {
     "data": {
      "text/html": [
       "<table style=\"display:inline;\"><tr>        <td>Время</td>        <td>Температура</td>        <td>s11 Дрейф, дБ</td>        <td>s11 Температурная стабильность, дБ/град</td>        <td>s22 Дрейф, дБ</td>        <td>s22 Температурная стабильность, дБ/град</td>        <td>s33 Дрейф, дБ</td>        <td>s33 Температурная стабильность, дБ/град</td>        <td>s44 Дрейф, дБ</td>        <td>s44 Температурная стабильность, дБ/град</td>        <td>s55 Дрейф, дБ</td>        <td>s55 Температурная стабильность, дБ/град</td>        <td>s66 Дрейф, дБ</td>        <td>s66 Температурная стабильность, дБ/град</td>        <td>s77 Дрейф, дБ</td>        <td>s77 Температурная стабильность, дБ/град</td>        <td>s88 Дрейф, дБ</td>        <td>s88 Температурная стабильность, дБ/град</td>        <td>s99 Дрейф, дБ</td>        <td>s99 Температурная стабильность, дБ/град</td>        <td>s1010 Дрейф, дБ</td>        <td>s1010 Температурная стабильность, дБ/град</td>        <td>s1111 Дрейф, дБ</td>        <td>s1111 Температурная стабильность, дБ/град</td>        <td>s1212 Дрейф, дБ</td>        <td>s1212 Температурная стабильность, дБ/град</td>        <td>s1313 Дрейф, дБ</td>        <td>s1313 Температурная стабильность, дБ/град</td>        <td>s1414 Дрейф, дБ</td>        <td>s1414 Температурная стабильность, дБ/град</td>        <td>s1515 Дрейф, дБ</td>        <td>s1515 Температурная стабильность, дБ/град</td>        <td>s1616 Дрейф, дБ</td>        <td>s1616 Температурная стабильность, дБ/град</td></tr><tr>        <td>1.31</td>        <td>45.6</td><td>0.0027</td><td>0</td><td>0.0014</td><td>0</td><td>0.0056</td><td>0</td><td>0.0022</td><td>0</td><td>0.003</td><td>0</td><td>0.005</td><td>0</td><td>0.0085</td><td>0</td><td>0.0044</td><td>0</td><td>0.0038</td><td>0</td><td>0.0014</td><td>0</td><td>0.0033</td><td>0</td><td>0.0022</td><td>0</td><td>0.0024</td><td>0</td><td>0.0016</td><td>0</td><td>0.0026</td><td>0</td><td>0.0057</td><td>0</td></tr><tr>        <td>2.61</td>        <td>45.6</td><td>0.0014</td><td>0</td><td>0.0017</td><td>0</td><td>0.0032</td><td>0</td><td>0.0031</td><td>0</td><td>0.0018</td><td>0</td><td>0.0013</td><td>0</td><td>0.0029</td><td>0</td><td>0.0048</td><td>0</td><td>0.0075</td><td>0</td><td>0.0078</td><td>0</td><td>0.0052</td><td>0</td><td>0.0019</td><td>0</td><td>0.0065</td><td>0</td><td>0.0021</td><td>0</td><td>0.0049</td><td>0</td><td>0.0027</td><td>0</td></tr></table>"
      ],
      "text/plain": [
       "<IPython.core.display.HTML object>"
      ]
     },
     "metadata": {},
     "output_type": "display_data"
    }
   ],
   "source": [
    "from IPython.core.display import display, HTML\n",
    "\n",
    "display(HTML(table_generator(result_table)))\n"
   ]
  },
  {
   "cell_type": "code",
   "execution_count": null,
   "metadata": {},
   "outputs": [],
   "source": []
  }
 ],
 "metadata": {
  "hide_input": false,
  "kernelspec": {
   "display_name": "Python 3",
   "language": "python",
   "name": "python3"
  },
  "language_info": {
   "codemirror_mode": {
    "name": "ipython",
    "version": 3
   },
   "file_extension": ".py",
   "mimetype": "text/x-python",
   "name": "python",
   "nbconvert_exporter": "python",
   "pygments_lexer": "ipython3",
   "version": "3.6.12"
  },
  "toc": {
   "base_numbering": 1,
   "nav_menu": {
    "height": "129px",
    "width": "225px"
   },
   "number_sections": true,
   "sideBar": true,
   "skip_h1_title": false,
   "title_cell": "Table of Contents",
   "title_sidebar": "Содержимое",
   "toc_cell": false,
   "toc_position": {},
   "toc_section_display": true,
   "toc_window_display": true
  },
  "varInspector": {
   "cols": {
    "lenName": 16,
    "lenType": 16,
    "lenVar": 40
   },
   "kernels_config": {
    "python": {
     "delete_cmd_postfix": "",
     "delete_cmd_prefix": "del ",
     "library": "var_list.py",
     "varRefreshCmd": "print(var_dic_list())"
    },
    "r": {
     "delete_cmd_postfix": ") ",
     "delete_cmd_prefix": "rm(",
     "library": "var_list.r",
     "varRefreshCmd": "cat(var_dic_list()) "
    }
   },
   "position": {
    "height": "577.2px",
    "left": "1678px",
    "right": "20px",
    "top": "120px",
    "width": "350px"
   },
   "types_to_exclude": [
    "module",
    "function",
    "builtin_function_or_method",
    "instance",
    "_Feature"
   ],
   "window_display": false
  }
 },
 "nbformat": 4,
 "nbformat_minor": 2
}
