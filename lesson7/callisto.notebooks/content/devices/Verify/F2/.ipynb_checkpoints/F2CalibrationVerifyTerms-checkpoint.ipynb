{
 "cells": [
  {
   "cell_type": "code",
   "execution_count": 2,
   "metadata": {
    "code_folding": [
     14
    ]
   },
   "outputs": [
    {
     "data": {
      "text/markdown": [
       "### 💠 F2 Terms Verification"
      ],
      "text/plain": [
       "<IPython.core.display.Markdown object>"
      ]
     },
     "metadata": {},
     "output_type": "display_data"
    },
    {
     "data": {
      "application/vnd.jupyter.widget-view+json": {
       "model_id": "240807798bb04a949dbc50d3070ccfa6",
       "version_major": 2,
       "version_minor": 0
      },
      "text/plain": [
       "Button(button_style='success', description='Run', icon='play', style=ButtonStyle(), tooltip='Click me')"
      ]
     },
     "metadata": {},
     "output_type": "display_data"
    }
   ],
   "source": [
    "from IPython.display import display, Markdown, Latex, Javascript\n",
    "import emoji\n",
    "import time\n",
    "import ipywidgets as widgets\n",
    "import ipython_blocking\n",
    "\n",
    "\n",
    "display(Markdown('### 💠 F2 Terms Verification'))\n",
    "#display(Markdown('> *' + time.ctime() +\n",
    "#                 '* <br>Connect Power Meter to `Port 1` and press *Run* 💡 ![](gif/714.gif)'))\n",
    "\n",
    "button = widgets.Button(\n",
    "    description='Run',\n",
    "    disabled=False,\n",
    "    button_style='success',  # 'success', 'info', 'warning', 'danger' or ''\n",
    "    tooltip='Click me',\n",
    "    icon='play'\n",
    ")\n",
    "button"
   ]
  },
  {
   "cell_type": "code",
   "execution_count": null,
   "metadata": {},
   "outputs": [],
   "source": [
    "%blockrun button"
   ]
  },
  {
   "cell_type": "code",
   "execution_count": 6,
   "metadata": {},
   "outputs": [
    {
     "data": {
      "text/markdown": [
       "> *Thu Mar 24 10:44:43 2022* <br>🔌 Connecting to the device, please wating... ![](gif/714.gif)"
      ],
      "text/plain": [
       "<IPython.core.display.Markdown object>"
      ]
     },
     "metadata": {},
     "output_type": "display_data"
    },
    {
     "data": {
      "application/vnd.jupyter.widget-view+json": {
       "model_id": "a331f884df124e25940cb21b1f6f24f7",
       "version_major": 2,
       "version_minor": 0
      },
      "text/plain": [
       "HBox(children=(VBox(children=(Label(value='Legacy device', layout=Layout(width='auto')), Button(description='C…"
      ]
     },
     "metadata": {},
     "output_type": "display_data"
    }
   ],
   "source": [
    "#button.layout.visibility = 'hidden'\n",
    "display(Markdown('> *' + time.ctime() + '* <br>🔌 Connecting to the device, please wating... ![](gif/714.gif)'))\n",
    "\n",
    "import visa\n",
    "import matplotlib\n",
    "import matplotlib.pyplot as plt\n",
    "import numpy as np\n",
    "\n",
    "%run DeviceBundle.py\n",
    "   \n",
    "rm = visa.ResourceManager('@py')\n",
    "\n",
    "legacy = DeviceBundle('Legacy device', rm, '192.168.1.212:5025')\n",
    "ng = DeviceBundle('Nextgen device', rm, '192.168.1.85:5025')\n",
    "\n",
    "widgets.HBox([legacy.box(), ng.box()])"
   ]
  },
  {
   "cell_type": "code",
   "execution_count": 7,
   "metadata": {},
   "outputs": [
    {
     "data": {
      "text/markdown": [
       "### 💠 Connect to the devices and continue"
      ],
      "text/plain": [
       "<IPython.core.display.Markdown object>"
      ]
     },
     "metadata": {},
     "output_type": "display_data"
    },
    {
     "data": {
      "application/vnd.jupyter.widget-view+json": {
       "model_id": "1ff3d599cdf84f46ac82ca07e28a8048",
       "version_major": 2,
       "version_minor": 0
      },
      "text/plain": [
       "Button(button_style='success', description='Continue', icon='gear', style=ButtonStyle(), tooltip='Click me')"
      ]
     },
     "metadata": {},
     "output_type": "display_data"
    }
   ],
   "source": [
    "display(Markdown('### 💠 Connect to the devices and continue'))\n",
    "button2 = widgets.Button(\n",
    "    description='Continue',\n",
    "    disabled=False,\n",
    "    button_style='success',  # 'success', 'info', 'warning', 'danger' or ''\n",
    "    tooltip='Click me',\n",
    "    icon='gear'\n",
    ")\n",
    "button2"
   ]
  },
  {
   "cell_type": "code",
   "execution_count": null,
   "metadata": {},
   "outputs": [],
   "source": [
    "%blockrun button2"
   ]
  },
  {
   "cell_type": "code",
   "execution_count": null,
   "metadata": {
    "scrolled": true
   },
   "outputs": [],
   "source": [
    "from ipywidgets import interact, interactive, fixed, interact_manual\n",
    "import ipywidgets as widgets\n",
    "from ipywidgets import FloatSlider\n",
    "\n",
    "inst = legacy.instance()\n",
    "inst2 = ng.instance()\n",
    "# @interact(points=FloatSlider(min=2, max=1e3, step=1, continuous_update=False, value = 201))\n",
    "# def Points(points):\n",
    "#     inst.write(\"SENS:SWE:POIN \" + str(points))\n",
    "    "
   ]
  },
  {
   "cell_type": "code",
   "execution_count": null,
   "metadata": {},
   "outputs": [],
   "source": [
    "import numpy as np\n",
    "import time\n",
    "from tqdm import tqdm_notebook\n",
    "\n",
    "inst.write(\"SYST:PRES\")\n",
    "inst.write(\"*CLS\")\n",
    "inst.write(\"SENS:FREQ:STAR 1 MHz\")\n",
    "inst.write(\"SENS:CORR:CLE\")\n",
    "inst.write(\"SENS:CORR:COLL:CLE\")\n",
    "# inst.write(\"TRIG:SOUR INT\")\n",
    "# inst.write(\"TRIG:SOUR BUS\")\n",
    "# inst.query(\"TRIG:SOUR?\")\n",
    "\n",
    "inst.write(\"SENS:CORR:TRIG:FREE ON\")\n",
    "inst.query(\"SENS:CORR:TRIG:FREE?\")\n",
    "inst.query(\"SYST:ERR?\")"
   ]
  },
  {
   "cell_type": "code",
   "execution_count": null,
   "metadata": {},
   "outputs": [],
   "source": [
    "inst.write(\"SENS:FREQ:STAR 1 MHz\")\n",
    "inst.write(\"SENS:FREQ:STOP 4.8 GHz\")\n",
    "inst.write(\"SENS:CORR:COLL:METH:SOLT2 1,2\")\n",
    "\n",
    "inst2.write(\"SENS:FREQ:STAR 1 MHz\")\n",
    "inst2.write(\"SENS:FREQ:STOP 4.8 GHz\")\n",
    "inst2.write(\"SENS:CORR:COLL:METH:SOLT2 1,2\")"
   ]
  },
  {
   "cell_type": "code",
   "execution_count": null,
   "metadata": {},
   "outputs": [],
   "source": [
    "toggle = widgets.ToggleButtons(\n",
    "    options=['Select:', 'Yes', 'No'],\n",
    "    description='Collect data with standards?',\n",
    "    disabled=False,\n",
    "    button_style='', # 'success', 'info', 'warning', 'danger' or ''\n",
    "    tooltips=['Description of slow', 'Description of regular', 'Description of fast'],\n",
    "#     icons=['check'] * 3\n",
    ")\n",
    "toggle"
   ]
  },
  {
   "cell_type": "code",
   "execution_count": null,
   "metadata": {},
   "outputs": [],
   "source": [
    "%block toggle"
   ]
  },
  {
   "cell_type": "code",
   "execution_count": null,
   "metadata": {
    "code_folding": []
   },
   "outputs": [],
   "source": [
    "toggle.layout.visibility = 'hidden'\n",
    "if toggle.value == 'Yes':\n",
    "    COLLECT = True"
   ]
  },
  {
   "cell_type": "code",
   "execution_count": null,
   "metadata": {},
   "outputs": [],
   "source": [
    "#if COLLECT:\n",
    "inst.write(\"SENS:CORR:COLL:METH:SOLT2 1,2\")\n",
    "inst.query(\"SYST:ERR?\")\n",
    "\n",
    "%run StandardSteps.py\n",
    "\n",
    "p1 = ReflectionStandardSteps(inst, {'OPEN','SHORT','LOAD'}, 1, 'Port 1')\n",
    "p2 = ReflectionStandardSteps(inst, {'OPEN','SHORT','LOAD'}, 2, 'Port 2')\n",
    "p12 = TransitionStandardsSteps(inst, {'THRU'}, 1, 2,'Port 1 > Port 2')\n",
    "\n",
    "display(widgets.HBox((p1.box(), p2.box(), p12.box())))\n",
    "\n",
    "apply_button = widgets.Button(\n",
    "    description='Apply',\n",
    "    disabled=False,\n",
    "    button_style='info',  # 'success', 'info', 'warning', 'danger' or ''\n",
    "    tooltip='Click me',\n",
    "    icon='gear'\n",
    ")\n",
    "apply_button"
   ]
  },
  {
   "cell_type": "code",
   "execution_count": null,
   "metadata": {},
   "outputs": [],
   "source": [
    "#if COLLECT:\n",
    "%blockrun apply_button"
   ]
  },
  {
   "cell_type": "code",
   "execution_count": null,
   "metadata": {},
   "outputs": [],
   "source": [
    "# сохранить собранные данные по мерам в файлы и отобразить графики\n",
    "\n",
    "load_data = inst.query_ascii_values('SENS:CORR:COLL:DATA:LOAD? 1', container=np.array, converter='e')\n",
    "complex_load = load_data.astype(np.float32).view(np.complex64)\n",
    "\n",
    "open_data = inst.query_ascii_values('SENS:CORR:COLL:DATA:OPEN? 1', container=np.array, converter='e')\n",
    "complex_open = open_data.astype(np.float32).view(np.complex64)\n",
    "\n",
    "short_data = inst.query_ascii_values('SENS:CORR:COLL:DATA:SHOR? 1', container=np.array, converter='e')\n",
    "complex_short = short_data.astype(np.float32).view(np.complex64)\n",
    "\n",
    "np.savetxt('load.txt', complex_load.view(np.complex64))\n",
    "np.savetxt('open.txt', complex_open.view(np.complex64))\n",
    "np.savetxt('short.txt', complex_short.view(np.complex64))\n",
    "\n",
    "fig, axs = plt.subplots(1, 3)\n",
    "axs[0].plot(complex_load.real,complex_load.imag, '-')\n",
    "axs[0].set_aspect('equal')\n",
    "axs[0].set_title('load', fontsize=10)\n",
    "axs[1].plot(complex_open.real,complex_open.imag, '-')\n",
    "axs[1].set_aspect('equal', 'box')\n",
    "axs[1].set_title('open', fontsize=10)\n",
    "axs[2].plot(complex_short.real,complex_short.imag, '-')\n",
    "axs[2].set_aspect('equal', 'box')\n",
    "axs[2].set_title('short', fontsize=10)\n",
    "\n",
    "fig.tight_layout()\n",
    "\n",
    "plt.show()\n",
    "\n",
    "display(Markdown('### 💠 All data ready press apply'))\n"
   ]
  },
  {
   "cell_type": "code",
   "execution_count": null,
   "metadata": {},
   "outputs": [],
   "source": [
    "%blockrun apply_button"
   ]
  },
  {
   "cell_type": "code",
   "execution_count": null,
   "metadata": {},
   "outputs": [],
   "source": [
    "# применить калибровку и построить графики термов\n",
    "inst.write(\"SENS:CORR:COLL:SAVE\")\n",
    "\n",
    "er = inst.query_ascii_values('SENS:CORR:COEF? ER,1,1', container=np.array, converter='e')\n",
    "complex_er = er.astype(np.float32).view(np.complex64)\n",
    "\n",
    "ed = inst.query_ascii_values('SENS:CORR:COEF? ED,1,1', container=np.array, converter='e')\n",
    "complex_ed = ed.astype(np.float32).view(np.complex64)\n",
    "\n",
    "es = inst.query_ascii_values('SENS:CORR:COEF? ES,1,1', container=np.array, converter='e')\n",
    "complex_es = es.astype(np.float32).view(np.complex64)\n",
    "\n",
    "fig2, axs2 = plt.subplots(1, 3)\n",
    "axs2[0].plot(complex_er.real,complex_er.imag, '-')\n",
    "axs2[0].set_aspect('equal')\n",
    "axs2[0].set_title('ER\\nReflection Error', fontsize=10)\n",
    "axs2[1].plot(complex_ed.real,complex_ed.imag, '-')\n",
    "axs2[1].set_aspect('equal', 'box')\n",
    "axs2[1].set_title('ED\\nDirectivity Error', fontsize=10)\n",
    "axs2[2].plot(complex_es.real,complex_es.imag, '-')\n",
    "axs2[2].set_aspect('equal', 'box')\n",
    "axs2[2].set_title('ES\\nSource Match Error', fontsize=10)\n",
    "\n",
    "fig2.tight_layout()\n",
    "\n",
    "plt.show()"
   ]
  },
  {
   "cell_type": "code",
   "execution_count": null,
   "metadata": {},
   "outputs": [],
   "source": [
    "# read data from file\n",
    "load1_r = np.loadtxt('LOAD1.txt', dtype=complex, converters={0: lambda s: complex(s.decode().replace('+-', '-'))})#.view(np.complex64)\n",
    "open1_r = np.loadtxt('OPEN1.txt', dtype=complex, converters={0: lambda s: complex(s.decode().replace('+-', '-'))})#.view(np.complex64)\n",
    "short1_r = np.loadtxt('SHORT1.txt', dtype=complex, converters={0: lambda s: complex(s.decode().replace('+-', '-'))})#.view(np.complex64)\n",
    "load2_r = np.loadtxt('LOAD1.txt', dtype=complex, converters={0: lambda s: complex(s.decode().replace('+-', '-'))})#.view(np.complex64)\n",
    "open2_r = np.loadtxt('OPEN1.txt', dtype=complex, converters={0: lambda s: complex(s.decode().replace('+-', '-'))})#.view(np.complex64)\n",
    "short2_r = np.loadtxt('SHORT1.txt', dtype=complex, converters={0: lambda s: complex(s.decode().replace('+-', '-'))})#.view(np.complex64)\n",
    "thru11_r = np.loadtxt('THRU1_1.txt', dtype=complex, converters={0: lambda s: complex(s.decode().replace('+-', '-'))})#.view(np.complex64)\n",
    "thru22_r = np.loadtxt('THRU2_2.txt', dtype=complex, converters={0: lambda s: complex(s.decode().replace('+-', '-'))})#.view(np.complex64)\n",
    "thru12_r = np.loadtxt('THRU1_2.txt', dtype=complex, converters={0: lambda s: complex(s.decode().replace('+-', '-'))})#.view(np.complex64)\n",
    "thru21_r = np.loadtxt('THRU2_1.txt', dtype=complex, converters={0: lambda s: complex(s.decode().replace('+-', '-'))})#.view(np.complex64)\n",
    "\n",
    "fig3, axs3 = plt.subplots(2, 3)\n",
    "axs3[0,0].plot(load1_r.real,load1_r.imag, '-')\n",
    "axs3[0,0].plot(load2_r.real,load2_r.imag, '-')\n",
    "axs3[0,0].set_aspect('equal')\n",
    "axs3[0,0].set_title('LOAD from file', fontsize=10)\n",
    "axs3[0,1].plot(open1_r.real,open1_r.imag, '-')\n",
    "axs3[0,1].plot(open2_r.real,open2_r.imag, '-')\n",
    "axs3[0,1].set_aspect('equal', 'box')\n",
    "axs3[0,1].set_title('OPEN from file', fontsize=10)\n",
    "axs3[0,2].plot(short1_r.real,short1_r.imag, '-')\n",
    "axs3[0,2].plot(short2_r.real,short2_r.imag, '-')\n",
    "axs3[0,2].set_aspect('equal', 'box')\n",
    "axs3[0,2].set_title('SHORT from file', fontsize=10)\n",
    "\n",
    "axs3[1,0].plot(thru11_r.real,thru11_r.imag, '-')\n",
    "axs3[1,0].set_aspect('equal')\n",
    "axs3[1,0].set_title('THRU S11 from file', fontsize=10)\n",
    "axs3[1,1].plot(thru21_r.real,thru21_r.imag, '-')\n",
    "axs3[1,1].plot(thru12_r.real,thru12_r.imag, '-')\n",
    "axs3[1,1].set_aspect('equal', 'box')\n",
    "axs3[1,1].set_title('THRU S21, S12 from file', fontsize=10)\n",
    "axs3[1,2].plot(thru22_r.real,thru22_r.imag, '-')\n",
    "axs3[1,2].set_aspect('equal', 'box')\n",
    "axs3[1,2].set_title('THRU S22 from file', fontsize=10)\n",
    "\n",
    "fig3.tight_layout()\n",
    "\n",
    "plt.show()\n"
   ]
  },
  {
   "cell_type": "code",
   "execution_count": null,
   "metadata": {
    "code_folding": [
     3
    ]
   },
   "outputs": [],
   "source": [
    "# загрузить данные мер в приложение и применить калибровку \n",
    "\n",
    "def push_to_device(inst, std_ports = [], open_data = [], short_data = [], load_data = [], thru_data = []):\n",
    "    def push_to_device_reflections(inst, std_port, open_data, short_data, load_data):\n",
    "        inst.write_ascii_values('SENS:CORR:COLL:DATA:LOAD '+ str(std_port) + ',', load_data.view(np.float64).tolist(), converter='e')\n",
    "        #inst2.query(\"*OPC?\")\n",
    "        inst.query(\"SYST:ERR?\")\n",
    "\n",
    "        inst.write_ascii_values('SENS:CORR:COLL:DATA:OPEN '+ str(std_port) + ',', open_data.view(np.float64).tolist(), converter='e')\n",
    "        #inst2.query(\"*OPC?\")\n",
    "        inst.query(\"SYST:ERR?\")\n",
    "\n",
    "        inst.write_ascii_values('SENS:CORR:COLL:DATA:SHOR '+ str(std_port) + ',', short_data.view(np.float64).tolist(), converter='e')\n",
    "        #inst2.query(\"*OPC?\")\n",
    "        inst.query(\"SYST:ERR?\")\n",
    "        # применить калибровку\n",
    "\n",
    "    def push_to_device_transitions(inst, std_ports = [], s = []):\n",
    "        inst.write_ascii_values('SENS:CORR:COLL:DATA:THRU:MATC '\\\n",
    "                                + str(std_ports[0]) + ',' + str(std_ports[1]) + ',',\\\n",
    "                                s[0][0].view(np.float64).tolist(), converter='e')\n",
    "        inst.write_ascii_values('SENS:CORR:COLL:DATA:THRU:TRAN '\\\n",
    "                                + str(std_ports[0]) + ',' + str(std_ports[1]) + ',',\\\n",
    "                                s[0][1].view(np.float64).tolist(), converter='e')\n",
    "        inst.write_ascii_values('SENS:CORR:COLL:DATA:THRU:MATC '\\\n",
    "                                + str(std_ports[1]) + ',' + str(std_ports[0]) + ',',\\\n",
    "                                s[1][0].view(np.float64).tolist(), converter='e')\n",
    "        inst.write_ascii_values('SENS:CORR:COLL:DATA:THRU:TRAN '\\\n",
    "                                + str(std_ports[1]) + ',' + str(std_ports[0]) + ',',\\\n",
    "                                s[1][1].view(np.float64).tolist(), converter='e')\n",
    "        #inst2.query(\"*OPC?\")\n",
    "        inst.query(\"SYST:ERR?\")\n",
    "            \n",
    "    push_to_device_reflections(inst, std_ports[0], open_data[0], short_data[0], load_data[0])\n",
    "    push_to_device_reflections(inst, std_ports[1], open_data[1], short_data[1], load_data[1])\n",
    "    push_to_device_transitions(inst, std_ports, thru_data)\n",
    "\n",
    "thru_data = [[thru11_r, thru21_r], [thru12_r, thru22_r]]\n",
    "#print(thru_data[0][0].view(np.float64).tolist())\n",
    "push_to_device(inst, [1,2], [open1_r, open2_r], [short1_r, short2_r], [load1_r, load2_r], thru_data)\n",
    "inst.write(\"SENS:CORR:COLL:METH:SOLT2 1,2\")\n",
    "inst.query(\"SYST:ERR?\")\n",
    "\n",
    "push_to_device(inst2, [1,2], [open1_r, open2_r], [short1_r, short2_r], [load1_r, load2_r], thru_data)\n",
    "inst2.write(\"SENS:CORR:COLL:METH:SOLT2 1,2\")\n",
    "inst2.query(\"SYST:ERR?\")"
   ]
  },
  {
   "cell_type": "code",
   "execution_count": null,
   "metadata": {},
   "outputs": [],
   "source": [
    "inst.write(\"SENS:CORR:COLL:SAVE\")\n",
    "#inst.query(\"*OPC?\")\n",
    "inst.query(\"SYST:ERR?\")"
   ]
  },
  {
   "cell_type": "code",
   "execution_count": null,
   "metadata": {},
   "outputs": [],
   "source": [
    "def pull_refl_terms(inst, port):\n",
    "    er = inst.query_ascii_values('SENS:CORR:COEF? ER,' + str(port) + ','+ str(port), container=np.array, converter='e')\n",
    "    complex_er = er.astype(np.float32).view(np.complex64)\n",
    "\n",
    "    ed = inst.query_ascii_values('SENS:CORR:COEF? ED,' + str(port) + ','+ str(port), container=np.array, converter='e')\n",
    "    complex_ed = ed.astype(np.float32).view(np.complex64)\n",
    "\n",
    "    es = inst.query_ascii_values('SENS:CORR:COEF? ES,' + str(port) + ','+ str(port), container=np.array, converter='e')\n",
    "    complex_es = es.astype(np.float32).view(np.complex64)\n",
    "    \n",
    "    return complex_er, complex_ed, complex_es\n",
    "\n",
    "def pull_tran_terms(inst, port1, port2):\n",
    "    et = inst.query_ascii_values('SENS:CORR:COEF? ET,' + str(port1) + ',' + str(port2), container=np.array, converter='e')\n",
    "    complex_et = et.astype(np.float32).view(np.complex64)\n",
    "\n",
    "    ex = inst.query_ascii_values('SENS:CORR:COEF? EX,' + str(port1) + ',' + str(port2), container=np.array, converter='e')\n",
    "    complex_ex = ex.astype(np.float32).view(np.complex64)\n",
    "\n",
    "    el = inst.query_ascii_values('SENS:CORR:COEF? EL,' + str(port1) + ',' + str(port2), container=np.array, converter='e')\n",
    "    complex_el = el.astype(np.float32).view(np.complex64)\n",
    "    \n",
    "    return complex_et, complex_ex, complex_el\n",
    "\n",
    "er1_1, ed1_1, es1_1 = pull_refl_terms(inst, 1)\n",
    "er1_2, ed1_2, es1_2 = pull_refl_terms(inst, 1)\n",
    "et1_12, ex1_12, el1_12 = pull_tran_terms(inst, 1, 2)\n",
    "et1_21, ex1_21, el1_21 = pull_tran_terms(inst, 2, 1)\n",
    "\n",
    "er2_1, ed2_1, es2_1 = pull_refl_terms(inst2, 1)\n",
    "er2_2, ed2_2, es2_2 = pull_refl_terms(inst2, 1)\n",
    "et2_12, ex2_12, el2_12 = pull_tran_terms(inst2, 1, 2)\n",
    "et2_21, ex2_21, el2_21 = pull_tran_terms(inst2, 2, 1)\n",
    "\n",
    "d_er1 = er1_1 - er2_1\n",
    "d_ed1 = ed1_1 - ed2_1\n",
    "d_es1 = es1_1 - es2_1\n",
    "d_er2 = er1_2 - er2_2\n",
    "d_ed2 = ed1_2 - ed2_2\n",
    "d_es2 = es1_2 - es2_2\n",
    "\n",
    "d_et12 = et1_12 - et2_12\n",
    "d_ex12 = ex1_12 - ex2_12\n",
    "d_el12 = el1_12 - el2_12\n",
    "d_et21 = et1_21 - et2_21\n",
    "d_ex21 = ex1_21 - ex2_21\n",
    "d_el21 = el1_21 - el2_21\n",
    "\n",
    "fig4, axs4 = plt.subplots(6, 4, figsize=(15,15))\n",
    "\n",
    "### ER 1\n",
    "axs4[0,0].plot(er1_1.real,er1_1.imag, '-')\n",
    "axs4[0,0].plot(er2_1.real,er2_1.imag, '-')\n",
    "axs4[0,0].set_aspect('equal')\n",
    "axs4[0,0].set_title('ER1', fontsize=10)\n",
    "axs4[0,1].plot(d_er1.real,d_er1.imag, '-')\n",
    "axs4[0,1].set_aspect('equal')\n",
    "axs4[0,1].set_title('ER1 Error', fontsize=10)\n",
    "\n",
    "### ER 2\n",
    "axs4[0,2].plot(er1_2.real,er1_2.imag, '-')\n",
    "axs4[0,2].plot(er2_2.real,er2_2.imag, '-')\n",
    "axs4[0,2].set_aspect('equal')\n",
    "axs4[0,2].set_title('ER2', fontsize=10)\n",
    "axs4[0,3].plot(d_er2.real,d_er2.imag, '-')\n",
    "axs4[0,3].set_aspect('equal')\n",
    "axs4[0,3].set_title('ER2 Error', fontsize=10)\n",
    "\n",
    "### ED 1\n",
    "axs4[1,0].plot(ed1_1.real,ed1_1.imag, '-')\n",
    "axs4[1,0].plot(ed2_1.real,ed2_1.imag, '-')\n",
    "axs4[1,0].set_aspect('equal')\n",
    "axs4[1,0].set_title('Ed1', fontsize=10)\n",
    "axs4[1,1].plot(d_ed1.real,d_ed1.imag, '-')\n",
    "axs4[1,1].set_aspect('equal')\n",
    "axs4[1,1].set_title('Ed1 Error', fontsize=10)\n",
    "\n",
    "### ED 2\n",
    "axs4[1,2].plot(ed1_2.real,ed1_2.imag, '-')\n",
    "axs4[1,2].plot(ed2_2.real,ed2_2.imag, '-')\n",
    "axs4[1,2].set_aspect('equal')\n",
    "axs4[1,2].set_title('Ed2', fontsize=10)\n",
    "axs4[1,3].plot(d_ed2.real,d_ed2.imag, '-')\n",
    "axs4[1,3].set_aspect('equal')\n",
    "axs4[1,3].set_title('Ed2 Error', fontsize=10)\n",
    "\n",
    "### ES 1\n",
    "axs4[2,0].plot(es1_1.real,es1_1.imag, '-')\n",
    "axs4[2,0].plot(es2_1.real,es2_1.imag, '-')\n",
    "axs4[2,0].set_aspect('equal')\n",
    "axs4[2,0].set_title('Es1', fontsize=10)\n",
    "axs4[2,1].plot(d_es1.real,d_es1.imag, '-')\n",
    "axs4[2,1].set_aspect('equal')\n",
    "axs4[2,1].set_title('Es1 Error', fontsize=10)\n",
    "\n",
    "### ES 2\n",
    "axs4[2,2].plot(es1_2.real,es1_2.imag, '-')\n",
    "axs4[2,2].plot(es2_2.real,es2_2.imag, '-')\n",
    "axs4[2,2].set_aspect('equal')\n",
    "axs4[2,2].set_title('Es2', fontsize=10)\n",
    "axs4[2,3].plot(d_es2.real,d_es2.imag, '-')\n",
    "axs4[2,3].set_aspect('equal')\n",
    "axs4[2,3].set_title('Es2 Error', fontsize=10)\n",
    "\n",
    "### ET 12\n",
    "axs4[3,0].plot(et1_12.real,et1_12.imag, '-')\n",
    "axs4[3,0].plot(et2_12.real,et2_12.imag, '-')\n",
    "axs4[3,0].set_aspect('equal')\n",
    "axs4[3,0].set_title('Et1', fontsize=10)\n",
    "axs4[3,1].plot(d_et12.real,d_et12.imag, '-')\n",
    "axs4[3,1].set_aspect('equal')\n",
    "axs4[3,1].set_title('Et1 Error', fontsize=10)\n",
    "\n",
    "### ET 21\n",
    "axs4[3,2].plot(et1_21.real,et1_21.imag, '-')\n",
    "axs4[3,2].plot(et2_21.real,et2_21.imag, '-')\n",
    "axs4[3,2].set_aspect('equal')\n",
    "axs4[3,2].set_title('Et2', fontsize=10)\n",
    "axs4[3,3].plot(d_et21.real,d_et21.imag, '-')\n",
    "axs4[3,3].set_aspect('equal')\n",
    "axs4[3,3].set_title('Et2 Error', fontsize=10)\n",
    "\n",
    "### EX 12\n",
    "axs4[4,0].plot(ex1_12.real,ex1_12.imag, '-')\n",
    "axs4[4,0].plot(ex2_12.real,ex2_12.imag, '-')\n",
    "axs4[4,0].set_aspect('equal')\n",
    "axs4[4,0].set_title('Ex1', fontsize=10)\n",
    "axs4[4,1].plot(d_ex12.real,d_ex12.imag, '-')\n",
    "axs4[4,1].set_aspect('equal')\n",
    "axs4[4,1].set_title('Ex1 Error', fontsize=10)\n",
    "\n",
    "### EX 21\n",
    "axs4[4,2].plot(ex1_21.real,ex1_21.imag, '-')\n",
    "axs4[4,2].plot(ex2_21.real,ex2_21.imag, '-')\n",
    "axs4[4,2].set_aspect('equal')\n",
    "axs4[4,2].set_title('Ex2', fontsize=10)\n",
    "axs4[4,3].plot(d_ex21.real,d_ex21.imag, '-')\n",
    "axs4[4,3].set_aspect('equal')\n",
    "axs4[4,3].set_title('Ex2 Error', fontsize=10)\n",
    "\n",
    "### EL 12\n",
    "axs4[5,0].plot(el1_12.real,el1_12.imag, '-')\n",
    "axs4[5,0].plot(el2_12.real,el2_12.imag, '-')\n",
    "axs4[5,0].set_aspect('equal')\n",
    "axs4[5,0].set_title('El1', fontsize=10)\n",
    "axs4[5,1].plot(d_el12.real,d_el12.imag, '-')\n",
    "axs4[5,1].set_aspect('equal')\n",
    "axs4[5,1].set_title('El1 Error', fontsize=10)\n",
    "\n",
    "### EL 21\n",
    "axs4[5,2].plot(el1_21.real,el1_21.imag, '-')\n",
    "axs4[5,2].plot(el2_21.real,el2_21.imag, '-')\n",
    "axs4[5,2].set_aspect('equal')\n",
    "axs4[5,2].set_title('El2', fontsize=10)\n",
    "axs4[5,3].plot(d_el21.real,d_el21.imag, '-')\n",
    "axs4[5,3].set_aspect('equal')\n",
    "axs4[5,3].set_title('El2 Error', fontsize=10)\n",
    "\n",
    "fig4.tight_layout()\n",
    "\n",
    "plt.show()"
   ]
  },
  {
   "cell_type": "code",
   "execution_count": null,
   "metadata": {
    "scrolled": true
   },
   "outputs": [],
   "source": [
    "#plt.plot(complex_er.real,complex_er.imag, '-')display(Markdown('> *' + time.ctime() + '* <br>🏃 Start calibration, please wating... ![](gif/808.gif)'))\n",
    "\n",
    "#button2.layout.visibility = 'hidden'\n",
    "\n",
    "#import qgrid\n",
    "# qgrid.nbinstall(overwrite=True)\n",
    "\n",
    "inst.query(\"*IDN?\")\n",
    "inst.query(\"SYST:ERR?\")\n",
    "inst.write(\"SENS:SWE:POIN 201\")\n",
    "inst.query(\"SENS:SWE:POIN?\")\n",
    "inst.write(\"SENS:SWE:TYPE LIN\")\n",
    "inst.query(\"SENS:SWE:TYPE?\")\n",
    "inst.query(\"SERV:SWE:FREQ:MAX?\")\n",
    "inst.query(\"SERV:SWE:FREQ:MIN?\")\n",
    "inst.write(\"TRIG:SOUR BUS\")\n",
    "inst.query(\"TRIG:SOUR?\")\n",
    "inst.write(\"TRIG:SING\")\n",
    "resp = eval('[' + inst.query(\"CALC:TRAC:DATA:FDAT?\") + ']')\n",
    "\n",
    "from tqdm import tqdm_notebook\n",
    "import numpy as np\n",
    "#from IPython import display\n",
    "from array import *\n",
    "\n",
    "#T = np.random.randint(10, size=(201, 100))\n",
    "sweep = 500\n",
    "T = np.empty([sweep, 201])\n",
    "\n",
    "plt.subplot(2, 1, 1)\n",
    "for i in tqdm_notebook(range(sweep)):\n",
    "    inst.write(\"TRIG:SING\")\n",
    "    resp = eval('[' + inst.query(\"CALC:TRAC:DATA:FDAT?\") + ']')\n",
    "    deinterleaved = [resp[idx::2] for idx in range(2)]\n",
    "    T[i] = deinterleaved[0]\n",
    "    length = deinterleaved[0].__len__()\n",
    "    x = np.linspace(0, 1, length)\n",
    "    plt.plot(x, deinterleaved[0])\n",
    "\n",
    "plt.subplot(2, 1, 2)\n",
    "# plt.imshow(T, cmap='hot', interpolation='nearest')\n",
    "plt.imshow(T, cmap='viridis', interpolation='nearest', aspect='auto')\n",
    "plt.show()"
   ]
  },
  {
   "cell_type": "code",
   "execution_count": null,
   "metadata": {
    "scrolled": true
   },
   "outputs": [],
   "source": []
  },
  {
   "cell_type": "code",
   "execution_count": null,
   "metadata": {},
   "outputs": [],
   "source": [
    "from nbconvert import get_export_names, export, get_exporter\n",
    "from nbconvert.writers import FilesWriter\n",
    "from nbformat import read, NO_CONVERT\n",
    "from nbconvert.utils.exceptions import ConversionException\n",
    "\n",
    "import ipywidgets as widgets\n",
    "from IPython.display import display, clear_output, Javascript\n",
    "from traitlets import Unicode\n",
    "\n",
    "notebook_name = widgets.Text()\n",
    "\n",
    "js = \"\"\"IPython.notebook.kernel.widget_manager.get_model('%s').then(function(model) {\n",
    "    model.set('value', IPython.notebook.notebook_name);\n",
    "    model.save();\n",
    "});\n",
    "\"\"\" % notebook_name.model_id\n",
    "display(Javascript(data=js))\n",
    "\n",
    "filename = notebook_name.value\n",
    "filename\n",
    "\n",
    "display(Markdown('> *' + time.ctime() + '* <br>✔️ Calibration is done... ![](gif/386.gif)'))\n",
    "\n",
    "save_button = widgets.Button(\n",
    "    description='Save',\n",
    "    disabled=False,\n",
    "    button_style='info',  # 'success', 'info', 'warning', 'danger' or ''\n",
    "    tooltip='Click me',\n",
    "    icon='save'\n",
    ")\n",
    "print_button = widgets.Button(\n",
    "    description='Print',\n",
    "    disabled=False,\n",
    "    button_style='',  # 'success', 'info', 'warning', 'danger' or ''\n",
    "    tooltip='Click me',\n",
    "    icon='print'\n",
    ")\n",
    "share_button = widgets.Button(\n",
    "    description='Share',\n",
    "    disabled=False,\n",
    "    button_style='',  # 'success', 'info', 'warning', 'danger' or ''\n",
    "    tooltip='Click me',\n",
    "    icon='share'\n",
    ")\n",
    "download_link = widgets.HTML(visible=False)\n",
    "\n",
    "widgets.HBox([save_button, print_button, share_button, download_link])\n",
    "\n",
    "# file_writer = FilesWriter()\n",
    "\n",
    "# def export_nb(name, nb):\n",
    "#     # Get a unique key for the notebook and set it in the resources object.\n",
    "#     notebook_name = name[:name.rfind('.')]\n",
    "#     resources = {}\n",
    "#     resources['unique_key'] = notebook_name\n",
    "#     resources['output_files_dir'] = '%s_files' % notebook_name\n",
    "\n",
    "#     # Try to export\n",
    "#     try:\n",
    "#         output, resources = export(get_exporter('pdf'), nb)\n",
    "#     except ConversionException as e:\n",
    "#         download_link.value = \"<br>Could not export notebook!\"\n",
    "#     else:\n",
    "#         write_results = file_writer.write(output, resources, notebook_name=notebook_name)\n",
    "\n",
    "#         download_link.value = \"<br>Results: <a href='files/{filename}'><i>\\\"{filename}\\\"</i></a>\".format(filename=write_results)\n",
    "#         download_link.visible = True\n",
    "\n",
    "# def handle_export(widget):\n",
    "#     with open(filename, 'r') as f:\n",
    "#         export_nb(filename, read(f, NO_CONVERT))\n",
    "\n",
    "# share_button.on_click(handle_export)"
   ]
  },
  {
   "cell_type": "code",
   "execution_count": null,
   "metadata": {},
   "outputs": [],
   "source": []
  }
 ],
 "metadata": {
  "hide_input": false,
  "kernelspec": {
   "display_name": "Python 3",
   "language": "python",
   "name": "python3"
  },
  "language_info": {
   "codemirror_mode": {
    "name": "ipython",
    "version": 3
   },
   "file_extension": ".py",
   "mimetype": "text/x-python",
   "name": "python",
   "nbconvert_exporter": "python",
   "pygments_lexer": "ipython3",
   "version": "3.6.12"
  },
  "toc": {
   "base_numbering": 1,
   "nav_menu": {
    "height": "129px",
    "width": "225px"
   },
   "number_sections": true,
   "sideBar": true,
   "skip_h1_title": false,
   "title_cell": "Table of Contents",
   "title_sidebar": "Содержимое",
   "toc_cell": false,
   "toc_position": {},
   "toc_section_display": true,
   "toc_window_display": true
  },
  "varInspector": {
   "cols": {
    "lenName": 16,
    "lenType": 16,
    "lenVar": 40
   },
   "kernels_config": {
    "python": {
     "delete_cmd_postfix": "",
     "delete_cmd_prefix": "del ",
     "library": "var_list.py",
     "varRefreshCmd": "print(var_dic_list())"
    },
    "r": {
     "delete_cmd_postfix": ") ",
     "delete_cmd_prefix": "rm(",
     "library": "var_list.r",
     "varRefreshCmd": "cat(var_dic_list()) "
    }
   },
   "position": {
    "height": "577.2px",
    "left": "1678px",
    "right": "20px",
    "top": "120px",
    "width": "350px"
   },
   "types_to_exclude": [
    "module",
    "function",
    "builtin_function_or_method",
    "instance",
    "_Feature"
   ],
   "window_display": true
  }
 },
 "nbformat": 4,
 "nbformat_minor": 2
}
