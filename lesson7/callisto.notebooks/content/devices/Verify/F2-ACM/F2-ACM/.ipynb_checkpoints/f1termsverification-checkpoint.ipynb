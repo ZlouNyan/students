{
 "cells": [
  {
   "cell_type": "code",
   "execution_count": 14,
   "metadata": {
    "code_folding": [
     14
    ]
   },
   "outputs": [],
   "source": [
    "from IPython.display import display, Markdown, Latex, Javascript\n",
    "import emoji\n",
    "import time\n",
    "import ipywidgets as widgets\n",
    "import ipython_blocking\n",
    "from nport import touchstone as ts\n",
    "import numpy as np\n",
    "import time\n",
    "from tqdm import tqdm_notebook"
   ]
  },
  {
   "cell_type": "code",
   "execution_count": null,
   "metadata": {},
   "outputs": [],
   "source": [
    "def kill(widget):\n",
    "    widget.layout.visibility = 'hidden'\n",
    "    widget.close()\n",
    "    del widget"
   ]
  },
  {
   "cell_type": "code",
   "execution_count": 15,
   "metadata": {},
   "outputs": [
    {
     "data": {
      "text/markdown": [
       "### 💠 Acm F2 Terms Verification"
      ],
      "text/plain": [
       "<IPython.core.display.Markdown object>"
      ]
     },
     "metadata": {},
     "output_type": "display_data"
    },
    {
     "data": {
      "text/markdown": [
       "#### ⚠️ Activate DEMO mode in Legacy Application if running"
      ],
      "text/plain": [
       "<IPython.core.display.Markdown object>"
      ]
     },
     "metadata": {},
     "output_type": "display_data"
    },
    {
     "data": {
      "text/markdown": [
       "#### ⚠️ Activate DEMO mode in SNVNA Application if running"
      ],
      "text/plain": [
       "<IPython.core.display.Markdown object>"
      ]
     },
     "metadata": {},
     "output_type": "display_data"
    },
    {
     "data": {
      "application/vnd.jupyter.widget-view+json": {
       "model_id": "2dc06272c13a44958083317df3a43a3f",
       "version_major": 2,
       "version_minor": 0
      },
      "text/plain": [
       "Button(button_style='success', description='Run', icon='play', style=ButtonStyle(), tooltip='Click me')"
      ]
     },
     "metadata": {},
     "output_type": "display_data"
    }
   ],
   "source": [
    "display(Markdown('### 💠 Acm F2 Terms Verification'))\n",
    "\n",
    "display(Markdown('#### ⚠️ Activate DEMO mode in Legacy Application if running'))\n",
    "display(Markdown('#### ⚠️ Activate DEMO mode in SNVNA Application if running'))\n",
    "button_start = widgets.Button(\n",
    "    description='Run',\n",
    "    disabled=False,\n",
    "    button_style='success',  # 'success', 'info', 'warning', 'danger' or ''\n",
    "    tooltip='Click me',\n",
    "    icon='play'\n",
    ")\n",
    "\n",
    "button_start"
   ]
  },
  {
   "cell_type": "code",
   "execution_count": null,
   "metadata": {},
   "outputs": [],
   "source": [
    "%blockrun button_start"
   ]
  },
  {
   "cell_type": "code",
   "execution_count": 16,
   "metadata": {},
   "outputs": [
    {
     "data": {
      "text/markdown": [
       "#### 🔌 Power off the VNA-device before continue!"
      ],
      "text/plain": [
       "<IPython.core.display.Markdown object>"
      ]
     },
     "metadata": {},
     "output_type": "display_data"
    },
    {
     "data": {
      "application/vnd.jupyter.widget-view+json": {
       "model_id": "abf3592ea3f04dfda8c898ff0db3f4c9",
       "version_major": 2,
       "version_minor": 0
      },
      "text/plain": [
       "Button(button_style='warning', description='Done', icon='play', style=ButtonStyle(), tooltip='Click me')"
      ]
     },
     "metadata": {},
     "output_type": "display_data"
    }
   ],
   "source": [
    "kill(button_start)\n",
    "\n",
    "button_off = widgets.Button(\n",
    "    description='Done',\n",
    "    disabled=False,\n",
    "    button_style='warning',\n",
    "    tooltip='Click me',\n",
    "    icon='play'\n",
    ")\n",
    "\n",
    "display(Markdown('#### 🔌 Power off the VNA-device before continue!'))\n",
    "button_off"
   ]
  },
  {
   "cell_type": "code",
   "execution_count": 6,
   "metadata": {},
   "outputs": [],
   "source": [
    "%blockrun button_off"
   ]
  },
  {
   "cell_type": "code",
   "execution_count": 17,
   "metadata": {},
   "outputs": [
    {
     "data": {
      "text/markdown": [
       "### ⚙️ Select ACM Ports"
      ],
      "text/plain": [
       "<IPython.core.display.Markdown object>"
      ]
     },
     "metadata": {},
     "output_type": "display_data"
    }
   ],
   "source": [
    "kill(button_off)\n",
    "\n",
    "display(Markdown('### ⚙️ Select ACM Ports'))\n",
    "ports = ['1', '2', '3', '4']\n",
    "port_wgt_1 = widgets.Dropdown(options=ports, description='Port 1')\n",
    "ports.remove(port_wgt_1.value)\n",
    "port_wgt_2 = widgets.Dropdown(options=ports, description='Port 2')"
   ]
  },
  {
   "cell_type": "code",
   "execution_count": 18,
   "metadata": {},
   "outputs": [
    {
     "data": {
      "application/vnd.jupyter.widget-view+json": {
       "model_id": "720a370aa3e74bf09cbc49f92752cbde",
       "version_major": 2,
       "version_minor": 0
      },
      "text/plain": [
       "Dropdown(description='Port 1', options=('1', '2', '3', '4'), value='1')"
      ]
     },
     "metadata": {},
     "output_type": "display_data"
    }
   ],
   "source": [
    "port_wgt_1"
   ]
  },
  {
   "cell_type": "code",
   "execution_count": 19,
   "metadata": {},
   "outputs": [
    {
     "data": {
      "application/vnd.jupyter.widget-view+json": {
       "model_id": "",
       "version_major": 2,
       "version_minor": 0
      },
      "text/plain": [
       "Button(button_style='success', description='Select Port 1', icon='gear', style=ButtonStyle(), tooltip='Click m…"
      ]
     },
     "metadata": {},
     "output_type": "display_data"
    }
   ],
   "source": [
    "button_p1 = widgets.Button(\n",
    "    description='Select Port 1',\n",
    "    disabled=False,\n",
    "    button_style='success',  # 'success', 'info', 'warning', 'danger' or ''\n",
    "    tooltip='Click me',\n",
    "    icon='gear'\n",
    ")\n",
    "button_p1"
   ]
  },
  {
   "cell_type": "code",
   "execution_count": null,
   "metadata": {},
   "outputs": [],
   "source": [
    "%blockrun button_p1"
   ]
  },
  {
   "cell_type": "code",
   "execution_count": 20,
   "metadata": {},
   "outputs": [
    {
     "data": {
      "text/markdown": [
       "🔸 Port 1 selected: 1"
      ],
      "text/plain": [
       "<IPython.core.display.Markdown object>"
      ]
     },
     "metadata": {},
     "output_type": "display_data"
    }
   ],
   "source": [
    "kill(button_p1)\n",
    "port_wgt_1.disabled = True\n",
    "cal_port_1 = port_wgt_1.value\n",
    "display(Markdown('🔸 Port 1 selected: ' + cal_port_1))"
   ]
  },
  {
   "cell_type": "code",
   "execution_count": 7,
   "metadata": {},
   "outputs": [
    {
     "data": {
      "application/vnd.jupyter.widget-view+json": {
       "model_id": "42023c20bece452889270cb0011753cf",
       "version_major": 2,
       "version_minor": 0
      },
      "text/plain": [
       "Dropdown(description='Port 2', options=('2', '3', '4'), value='2')"
      ]
     },
     "metadata": {},
     "output_type": "display_data"
    }
   ],
   "source": [
    "port_wgt_2"
   ]
  },
  {
   "cell_type": "code",
   "execution_count": 8,
   "metadata": {},
   "outputs": [
    {
     "ename": "AttributeError",
     "evalue": "'Dropdown' object has no attribute 'on_click'",
     "output_type": "error",
     "traceback": [
      "\u001b[1;31m---------------------------------------------------------------------------\u001b[0m",
      "\u001b[1;31mAttributeError\u001b[0m                            Traceback (most recent call last)",
      "\u001b[1;32m<ipython-input-8-8349367da1ea>\u001b[0m in \u001b[0;36m<module>\u001b[1;34m\u001b[0m\n\u001b[1;32m----> 1\u001b[1;33m \u001b[0mget_ipython\u001b[0m\u001b[1;33m(\u001b[0m\u001b[1;33m)\u001b[0m\u001b[1;33m.\u001b[0m\u001b[0mrun_line_magic\u001b[0m\u001b[1;33m(\u001b[0m\u001b[1;34m'blockrun'\u001b[0m\u001b[1;33m,\u001b[0m \u001b[1;34m'port_wgt_2'\u001b[0m\u001b[1;33m)\u001b[0m\u001b[1;33m\u001b[0m\u001b[1;33m\u001b[0m\u001b[0m\n\u001b[0m",
      "\u001b[1;32mc:\\mydata\\myprogs\\callisto\\venv\\lib\\site-packages\\IPython\\core\\interactiveshell.py\u001b[0m in \u001b[0;36mrun_line_magic\u001b[1;34m(self, magic_name, line, _stack_depth)\u001b[0m\n\u001b[0;32m   2305\u001b[0m                 \u001b[0mkwargs\u001b[0m\u001b[1;33m[\u001b[0m\u001b[1;34m'local_ns'\u001b[0m\u001b[1;33m]\u001b[0m \u001b[1;33m=\u001b[0m \u001b[0msys\u001b[0m\u001b[1;33m.\u001b[0m\u001b[0m_getframe\u001b[0m\u001b[1;33m(\u001b[0m\u001b[0mstack_depth\u001b[0m\u001b[1;33m)\u001b[0m\u001b[1;33m.\u001b[0m\u001b[0mf_locals\u001b[0m\u001b[1;33m\u001b[0m\u001b[1;33m\u001b[0m\u001b[0m\n\u001b[0;32m   2306\u001b[0m             \u001b[1;32mwith\u001b[0m \u001b[0mself\u001b[0m\u001b[1;33m.\u001b[0m\u001b[0mbuiltin_trap\u001b[0m\u001b[1;33m:\u001b[0m\u001b[1;33m\u001b[0m\u001b[1;33m\u001b[0m\u001b[0m\n\u001b[1;32m-> 2307\u001b[1;33m                 \u001b[0mresult\u001b[0m \u001b[1;33m=\u001b[0m \u001b[0mfn\u001b[0m\u001b[1;33m(\u001b[0m\u001b[1;33m*\u001b[0m\u001b[0margs\u001b[0m\u001b[1;33m,\u001b[0m \u001b[1;33m**\u001b[0m\u001b[0mkwargs\u001b[0m\u001b[1;33m)\u001b[0m\u001b[1;33m\u001b[0m\u001b[1;33m\u001b[0m\u001b[0m\n\u001b[0m\u001b[0;32m   2308\u001b[0m             \u001b[1;32mreturn\u001b[0m \u001b[0mresult\u001b[0m\u001b[1;33m\u001b[0m\u001b[1;33m\u001b[0m\u001b[0m\n\u001b[0;32m   2309\u001b[0m \u001b[1;33m\u001b[0m\u001b[0m\n",
      "\u001b[1;32m<c:\\mydata\\myprogs\\callisto\\venv\\lib\\site-packages\\decorator.py:decorator-gen-130>\u001b[0m in \u001b[0;36mblockrun\u001b[1;34m(self, line)\u001b[0m\n",
      "\u001b[1;32mc:\\mydata\\myprogs\\callisto\\venv\\lib\\site-packages\\IPython\\core\\magic.py\u001b[0m in \u001b[0;36m<lambda>\u001b[1;34m(f, *a, **k)\u001b[0m\n\u001b[0;32m    185\u001b[0m     \u001b[1;31m# but it's overkill for just that one bit of state.\u001b[0m\u001b[1;33m\u001b[0m\u001b[1;33m\u001b[0m\u001b[1;33m\u001b[0m\u001b[0m\n\u001b[0;32m    186\u001b[0m     \u001b[1;32mdef\u001b[0m \u001b[0mmagic_deco\u001b[0m\u001b[1;33m(\u001b[0m\u001b[0marg\u001b[0m\u001b[1;33m)\u001b[0m\u001b[1;33m:\u001b[0m\u001b[1;33m\u001b[0m\u001b[1;33m\u001b[0m\u001b[0m\n\u001b[1;32m--> 187\u001b[1;33m         \u001b[0mcall\u001b[0m \u001b[1;33m=\u001b[0m \u001b[1;32mlambda\u001b[0m \u001b[0mf\u001b[0m\u001b[1;33m,\u001b[0m \u001b[1;33m*\u001b[0m\u001b[0ma\u001b[0m\u001b[1;33m,\u001b[0m \u001b[1;33m**\u001b[0m\u001b[0mk\u001b[0m\u001b[1;33m:\u001b[0m \u001b[0mf\u001b[0m\u001b[1;33m(\u001b[0m\u001b[1;33m*\u001b[0m\u001b[0ma\u001b[0m\u001b[1;33m,\u001b[0m \u001b[1;33m**\u001b[0m\u001b[0mk\u001b[0m\u001b[1;33m)\u001b[0m\u001b[1;33m\u001b[0m\u001b[1;33m\u001b[0m\u001b[0m\n\u001b[0m\u001b[0;32m    188\u001b[0m \u001b[1;33m\u001b[0m\u001b[0m\n\u001b[0;32m    189\u001b[0m         \u001b[1;32mif\u001b[0m \u001b[0mcallable\u001b[0m\u001b[1;33m(\u001b[0m\u001b[0marg\u001b[0m\u001b[1;33m)\u001b[0m\u001b[1;33m:\u001b[0m\u001b[1;33m\u001b[0m\u001b[1;33m\u001b[0m\u001b[0m\n",
      "\u001b[1;32mc:\\mydata\\myprogs\\callisto\\venv\\lib\\site-packages\\ipython_blocking\\ipython_magic.py\u001b[0m in \u001b[0;36mblockrun\u001b[1;34m(self, line)\u001b[0m\n\u001b[0;32m     80\u001b[0m                 \u001b[0mw\u001b[0m\u001b[1;33m.\u001b[0m\u001b[0m_has_been_clicked\u001b[0m \u001b[1;33m=\u001b[0m \u001b[1;32mTrue\u001b[0m\u001b[1;33m\u001b[0m\u001b[1;33m\u001b[0m\u001b[0m\n\u001b[0;32m     81\u001b[0m                 \u001b[0mrun_all_below\u001b[0m\u001b[1;33m(\u001b[0m\u001b[1;33m)\u001b[0m\u001b[1;33m\u001b[0m\u001b[1;33m\u001b[0m\u001b[0m\n\u001b[1;32m---> 82\u001b[1;33m             \u001b[0mobj\u001b[0m\u001b[1;33m.\u001b[0m\u001b[0mon_click\u001b[0m\u001b[1;33m(\u001b[0m\u001b[0mhandler\u001b[0m\u001b[1;33m)\u001b[0m\u001b[1;33m\u001b[0m\u001b[1;33m\u001b[0m\u001b[0m\n\u001b[0m\u001b[0;32m     83\u001b[0m \u001b[1;33m\u001b[0m\u001b[0m\n\u001b[0;32m     84\u001b[0m         \u001b[1;32mif\u001b[0m \u001b[1;32mnot\u001b[0m \u001b[0mgetattr\u001b[0m\u001b[1;33m(\u001b[0m\u001b[0mobj\u001b[0m\u001b[1;33m,\u001b[0m \u001b[1;34m'_has_been_clicked'\u001b[0m\u001b[1;33m)\u001b[0m\u001b[1;33m:\u001b[0m\u001b[1;33m\u001b[0m\u001b[1;33m\u001b[0m\u001b[0m\n",
      "\u001b[1;31mAttributeError\u001b[0m: 'Dropdown' object has no attribute 'on_click'"
     ]
    }
   ],
   "source": [
    "button_p2 = widgets.Button(\n",
    "    description='Select Port 2',\n",
    "    disabled=False,\n",
    "    button_style='success',  # 'success', 'info', 'warning', 'danger' or ''\n",
    "    tooltip='Click me',\n",
    "    icon='gear'\n",
    ")\n",
    "button_p2"
   ]
  },
  {
   "cell_type": "code",
   "execution_count": null,
   "metadata": {},
   "outputs": [],
   "source": [
    "%blockrun button_p2"
   ]
  },
  {
   "cell_type": "code",
   "execution_count": null,
   "metadata": {},
   "outputs": [],
   "source": [
    "cal_port_2 = port_wgt_2.value\n",
    "display(Markdown('🔸 Port 2 selected: ' + cal_port_2))"
   ]
  },
  {
   "cell_type": "code",
   "execution_count": 8,
   "metadata": {},
   "outputs": [
    {
     "ename": "NameError",
     "evalue": "name 'button_p2' is not defined",
     "output_type": "error",
     "traceback": [
      "\u001b[1;31m---------------------------------------------------------------------------\u001b[0m",
      "\u001b[1;31mNameError\u001b[0m                                 Traceback (most recent call last)",
      "\u001b[1;32m<ipython-input-8-1aeaa240cbad>\u001b[0m in \u001b[0;36m<module>\u001b[1;34m\u001b[0m\n\u001b[1;32m----> 1\u001b[1;33m \u001b[0mbutton_p2\u001b[0m\u001b[1;33m.\u001b[0m\u001b[0mlayout\u001b[0m\u001b[1;33m.\u001b[0m\u001b[0mvisibility\u001b[0m \u001b[1;33m=\u001b[0m \u001b[1;34m'hidden'\u001b[0m\u001b[1;33m\u001b[0m\u001b[1;33m\u001b[0m\u001b[0m\n\u001b[0m\u001b[0;32m      2\u001b[0m \u001b[0mport_wgt_2\u001b[0m\u001b[1;33m.\u001b[0m\u001b[0mlayout\u001b[0m\u001b[1;33m.\u001b[0m\u001b[0mvisibility\u001b[0m \u001b[1;33m=\u001b[0m \u001b[1;34m'hidden'\u001b[0m\u001b[1;33m\u001b[0m\u001b[1;33m\u001b[0m\u001b[0m\n\u001b[0;32m      3\u001b[0m \u001b[0mdisplay\u001b[0m\u001b[1;33m(\u001b[0m\u001b[0mMarkdown\u001b[0m\u001b[1;33m(\u001b[0m\u001b[1;34m'💠 Ports selected (F2): '\u001b[0m \u001b[1;33m+\u001b[0m \u001b[0mcal_port_1\u001b[0m \u001b[1;33m+\u001b[0m \u001b[1;34m' - '\u001b[0m \u001b[1;33m+\u001b[0m \u001b[0mcal_port_2\u001b[0m \u001b[1;33m)\u001b[0m\u001b[1;33m)\u001b[0m\u001b[1;33m\u001b[0m\u001b[1;33m\u001b[0m\u001b[0m\n",
      "\u001b[1;31mNameError\u001b[0m: name 'button_p2' is not defined"
     ]
    }
   ],
   "source": [
    "kill(button_p2)\n",
    "port_wgt_2.disabled = True"
   ]
  },
  {
   "cell_type": "code",
   "execution_count": 6,
   "metadata": {},
   "outputs": [
    {
     "data": {
      "application/vnd.jupyter.widget-view+json": {
       "model_id": "ad32444c5da94b38800fc93c6767ebef",
       "version_major": 2,
       "version_minor": 0
      },
      "text/plain": [
       "Button(button_style='success', description='Continue', icon='gear', style=ButtonStyle(), tooltip='Click me')"
      ]
     },
     "metadata": {},
     "output_type": "display_data"
    }
   ],
   "source": [
    "display(Markdown('### 💠 Now run Legacy Application'))\n",
    "display(Markdown('⚠️ Deactivate DEMO mode in Legacy Application'))\n",
    "display(Markdown('🔌 And then power on the VNA-device'))\n",
    "\n",
    "button_legacy_warn = widgets.Button(\n",
    "    description='Done, continue',\n",
    "    disabled=False,\n",
    "    button_style='warning',  # 'success', 'info', 'warning', 'danger' or ''\n",
    "    tooltip='Click me',\n",
    "    icon='play'\n",
    ")\n",
    "button_legacy_warn"
   ]
  },
  {
   "cell_type": "code",
   "execution_count": null,
   "metadata": {},
   "outputs": [],
   "source": [
    "%blockrun button_legacy_warn"
   ]
  },
  {
   "cell_type": "code",
   "execution_count": 8,
   "metadata": {
    "code_folding": [
     8
    ]
   },
   "outputs": [
    {
     "data": {
      "text/markdown": [
       "> *Wed Mar 30 14:17:28 2022* <br>🔌 Connecting to the device, please wating... ![](gif/714.gif)"
      ],
      "text/plain": [
       "<IPython.core.display.Markdown object>"
      ]
     },
     "metadata": {},
     "output_type": "display_data"
    }
   ],
   "source": [
    "kill(button_legacy_warn)\n",
    "display(Markdown('> *' + time.ctime() + '* <br>🔌 Connecting to the device, please wating... ![](gif/714.gif)'))\n",
    "\n",
    "import visa\n",
    "import matplotlib\n",
    "import numpy as np\n",
    "\n",
    "class DeviceBundle(object):\n",
    "    def __init__(self, name, rm, default_ip):    \n",
    "        self.name = name\n",
    "        self.rm = rm\n",
    "        self.default_ip = default_ip\n",
    "        self.inst = None\n",
    "        auto_layout = widgets.Layout( width='auto', layout='align_self:center', )\n",
    "        self.descr = widgets.Label(value=name, layout=auto_layout)\n",
    "        self.ip = widgets.Text(\n",
    "            value= default_ip,\n",
    "            description = 'IP Address',\n",
    "            disabled = False,\n",
    "        )\n",
    "        self.button = widgets.Button(\n",
    "            description='Connect',\n",
    "            disabled=False,\n",
    "            button_style='',  # 'success', 'info', 'warning', 'danger' or ''\n",
    "            tooltip='Click me',\n",
    "            icon='gear',\n",
    "            layout = auto_layout\n",
    "        )     \n",
    "        self.p = widgets.Text(\n",
    "            value='',\n",
    "            placeholder='<empty>',\n",
    "            description='Producer:',\n",
    "            disabled=True\n",
    "        )\n",
    "        self.m = widgets.Text(\n",
    "            value='',\n",
    "            placeholder='<empty>',\n",
    "            description='Model:',\n",
    "            disabled=True\n",
    "        )\n",
    "        self.s = widgets.Text(\n",
    "            value='',\n",
    "            placeholder='<empty>',\n",
    "            description='Serial:',\n",
    "            disabled=True\n",
    "        )\n",
    "        self.v = widgets.Text(\n",
    "            value='',\n",
    "            placeholder='<empty>',\n",
    "            description='Version:',\n",
    "            disabled=True\n",
    "        )\n",
    "        self.button.on_click(self.on_connect)\n",
    "        self.__box = widgets.VBox([self.descr, self.ip, self.p, self.m, self.s, self.v, self.button])\n",
    "    \n",
    "    def on_connect(self, b):\n",
    "        addr, port = self.ip.value.split(\":\", 2)\n",
    "        self.inst = self.rm.open_resource('TCPIP0::'+ addr + '::' + port + '::SOCKET')\n",
    "        self.inst.write_termination = '\\n'\n",
    "        self.inst.read_termination = '\\n'\n",
    "        self.inst.timeout = 5000\n",
    "        ans = self.inst.query(\"*IDN?\")\n",
    "        self.p.value, self.m.value, self.s.value, self.v.value = ans.split(', ', 3)\n",
    "        \n",
    "    def instance(self):\n",
    "        return self.inst\n",
    "    \n",
    "    def box(self):\n",
    "        return self.__box\n",
    "    \n",
    "rm = visa.ResourceManager('@py')"
   ]
  },
  {
   "cell_type": "code",
   "execution_count": 9,
   "metadata": {},
   "outputs": [
    {
     "data": {
      "text/markdown": [
       "### 💠 Connect to Legacy Device"
      ],
      "text/plain": [
       "<IPython.core.display.Markdown object>"
      ]
     },
     "metadata": {},
     "output_type": "display_data"
    },
    {
     "data": {
      "application/vnd.jupyter.widget-view+json": {
       "model_id": "9768ee93d9ac4fcc93042484f4b73675",
       "version_major": 2,
       "version_minor": 0
      },
      "text/plain": [
       "HBox(children=(VBox(children=(Label(value='Legacy device', layout=Layout(width='auto')), Text(value='127.0.0.1…"
      ]
     },
     "metadata": {},
     "output_type": "display_data"
    }
   ],
   "source": [
    "legacy = DeviceBundle('Legacy device', rm, '127.0.0.1:5024')\n",
    "display(Markdown('Connect to Legacy:'))\n",
    "widgets.HBox([legacy.box()])"
   ]
  },
  {
   "cell_type": "code",
   "execution_count": 10,
   "metadata": {},
   "outputs": [
    {
     "name": "stdout",
     "output_type": "stream",
     "text": [
      "TCPIPSocket at TCPIP0::127.0.0.1::5024::SOCKET\n"
     ]
    }
   ],
   "source": [
    "print(legacy.instance())\n",
    "legacy_good = bool(legacy.instance())"
   ]
  },
  {
   "cell_type": "code",
   "execution_count": 11,
   "metadata": {},
   "outputs": [
    {
     "data": {
      "text/markdown": [
       "### 💠 Connect to the LEGACY and continue"
      ],
      "text/plain": [
       "<IPython.core.display.Markdown object>"
      ]
     },
     "metadata": {},
     "output_type": "display_data"
    },
    {
     "data": {
      "application/vnd.jupyter.widget-view+json": {
       "model_id": "437d6ee2d9684efd88c85562cfd7c2ef",
       "version_major": 2,
       "version_minor": 0
      },
      "text/plain": [
       "Button(button_style='success', description='Continue', icon='gear', style=ButtonStyle(), tooltip='Click me')"
      ]
     },
     "metadata": {},
     "output_type": "display_data"
    }
   ],
   "source": [
    "display(Markdown('### 💠 Connect to the LEGACY and continue'))\n",
    "button_select_legacy = widgets.Button(\n",
    "    description='Continue',\n",
    "    disabled=legacy_good,\n",
    "    button_style='success',  # 'success', 'info', 'warning', 'danger' or ''\n",
    "    tooltip='Click me',\n",
    "    icon='play'\n",
    ")\n",
    "button_select_legacy"
   ]
  },
  {
   "cell_type": "code",
   "execution_count": 11,
   "metadata": {},
   "outputs": [],
   "source": [
    "%blockrun button_select_legacy"
   ]
  },
  {
   "cell_type": "code",
   "execution_count": 12,
   "metadata": {},
   "outputs": [],
   "source": [
    "kill(button_select_legacy)\n",
    "inst = legacy.instance()"
   ]
  },
  {
   "cell_type": "code",
   "execution_count": 13,
   "metadata": {},
   "outputs": [
    {
     "data": {
      "text/markdown": [
       "### 💠 Stimulus configuring..."
      ],
      "text/plain": [
       "<IPython.core.display.Markdown object>"
      ]
     },
     "metadata": {},
     "output_type": "display_data"
    },
    {
     "data": {
      "text/markdown": [
       "### 💠 Stimulus configured, press to continue"
      ],
      "text/plain": [
       "<IPython.core.display.Markdown object>"
      ]
     },
     "metadata": {},
     "output_type": "display_data"
    },
    {
     "data": {
      "application/vnd.jupyter.widget-view+json": {
       "model_id": "cd13ea34656c4095b505f14eb12388fb",
       "version_major": 2,
       "version_minor": 0
      },
      "text/plain": [
       "Button(button_style='success', description='Continue', icon='gear', style=ButtonStyle(), tooltip='Click me')"
      ]
     },
     "metadata": {},
     "output_type": "display_data"
    }
   ],
   "source": [
    "display(Markdown('#### ⚙️ Stimulus configuring...'))\n",
    "\n",
    "inst.write(\"SENS:FREQ:STAR 5 MHz\")\n",
    "inst.write(\"SENS:FREQ:STOP 9 GHz\")\n",
    "inst.write('SENSe:SWEep:POINts 201')\n",
    "inst.write('SENSe:BWIDth 10000')\n",
    "\n",
    "display(Markdown('#### ✅ Stimulus configured, press to continue'))\n"
   ]
  },
  {
   "cell_type": "code",
   "execution_count": 14,
   "metadata": {},
   "outputs": [
    {
     "data": {
      "text/markdown": [
       "### 💠 OK, Perfrom ACM Calibration in Legacy"
      ],
      "text/plain": [
       "<IPython.core.display.Markdown object>"
      ]
     },
     "metadata": {},
     "output_type": "display_data"
    },
    {
     "data": {
      "application/vnd.jupyter.widget-view+json": {
       "model_id": "395e464fc2444f7cac12d1d528f5b4b3",
       "version_major": 2,
       "version_minor": 0
      },
      "text/plain": [
       "Button(button_style='success', description='Continue', icon='gear', style=ButtonStyle(), tooltip='Click me')"
      ]
     },
     "metadata": {},
     "output_type": "display_data"
    }
   ],
   "source": [
    "display(Markdown('### 💠 Now perfrom ACM Calibration in Legacy'))\n",
    "button_legacy_done = widgets.Button(\n",
    "    description='Done',\n",
    "    disabled=False,\n",
    "    button_style='danger',  # 'success', 'info', 'warning', 'danger' or ''\n",
    "    tooltip='Click me',\n",
    "    icon='gear'\n",
    ")\n",
    "button_legacy_done"
   ]
  },
  {
   "cell_type": "code",
   "execution_count": null,
   "metadata": {},
   "outputs": [],
   "source": [
    "%blockrun button_legacy_done"
   ]
  },
  {
   "cell_type": "code",
   "execution_count": null,
   "metadata": {},
   "outputs": [],
   "source": [
    "kill(button_legacy_done)\n",
    "display(Markdown('💠 Pulling the terms...'))"
   ]
  },
  {
   "cell_type": "code",
   "execution_count": 15,
   "metadata": {},
   "outputs": [],
   "source": [
    "# применить калибровку и построить графики термов\n",
    "def pull_terms_1(inst, port):\n",
    "    er = inst.query_ascii_values('SENS:CORR:COEF? ER,' +  port + ',' + port, container=np.array, converter='e')\n",
    "    ed = inst.query_ascii_values('SENS:CORR:COEF? ED,' +  port + ',' + port, container=np.array, converter='e')\n",
    "    es = inst.query_ascii_values('SENS:CORR:COEF? ES,' +  port + ',' + port, container=np.array, converter='e')\n",
    "    \n",
    "    complex_es = es.astype(np.float32).view(np.complex64)\n",
    "    complex_er = er.astype(np.float32).view(np.complex64)\n",
    "    complex_ed = ed.astype(np.float32).view(np.complex64)\n",
    "    \n",
    "    return complex_er, complex_ed, complex_es\n",
    "\n",
    "def pull_terms_2(inst, port1, port2):\n",
    "    el = inst.query_ascii_values('SENS:CORR:COEF? EL,' +  port1 + ',' + port2, container=np.array, converter='e')\n",
    "    et = inst.query_ascii_values('SENS:CORR:COEF? ET,' +  port1 + ',' + port2, container=np.array, converter='e')\n",
    "    \n",
    "    complex_el = el.astype(np.float32).view(np.complex64)\n",
    "    complex_et = et.astype(np.float32).view(np.complex64)\n",
    "    \n",
    "    return complex_el, complex_et\n"
   ]
  },
  {
   "cell_type": "code",
   "execution_count": 16,
   "metadata": {},
   "outputs": [
    {
     "name": "stdout",
     "output_type": "stream",
     "text": [
      "Pull LEGACY terms...\n"
     ]
    }
   ],
   "source": [
    "legacy_er1, legacy_ed1, legacy_es1 = pull_terms_1(inst, cal_port_1)\n",
    "legacy_er2, legacy_ed2, legacy_es2 = pull_terms_1(inst, cal_port_2)\n",
    "legacy_el12, legacy_et12 = pull_terms_2(inst, cal_port_1, cal_port_2)\n",
    "display(Markdown('✅ Done'))"
   ]
  },
  {
   "cell_type": "code",
   "execution_count": 19,
   "metadata": {},
   "outputs": [
    {
     "data": {
      "text/markdown": [
       "### 💠 DONE"
      ],
      "text/plain": [
       "<IPython.core.display.Markdown object>"
      ]
     },
     "metadata": {},
     "output_type": "display_data"
    },
    {
     "data": {
      "text/markdown": [
       "### 💠 Please, activate DEMO mode in LEGACY"
      ],
      "text/plain": [
       "<IPython.core.display.Markdown object>"
      ]
     },
     "metadata": {},
     "output_type": "display_data"
    },
    {
     "data": {
      "application/vnd.jupyter.widget-view+json": {
       "model_id": "3ae7121f6ba74badb18f5ec335add85b",
       "version_major": 2,
       "version_minor": 0
      },
      "text/plain": [
       "Button(button_style='success', description='Continue', icon='gear', style=ButtonStyle(), tooltip='Click me')"
      ]
     },
     "metadata": {},
     "output_type": "display_data"
    }
   ],
   "source": [
    "display(Markdown('### ⚠️ Please, activate DEMO mode in LEGACY'))\n",
    "button_legacy_demo = widgets.Button(\n",
    "    description='Done',\n",
    "    disabled=False,\n",
    "    button_style='danger',  # 'success', 'info', 'warning', 'danger' or ''\n",
    "    tooltip='Click me',\n",
    "    icon='play'\n",
    ")\n",
    "button_legacy_demo"
   ]
  },
  {
   "cell_type": "code",
   "execution_count": null,
   "metadata": {},
   "outputs": [],
   "source": [
    "%blockrun button_legacy_demo"
   ]
  },
  {
   "cell_type": "code",
   "execution_count": 20,
   "metadata": {},
   "outputs": [
    {
     "data": {
      "text/markdown": [
       "### 💠 Connect to the SNVNA and continue"
      ],
      "text/plain": [
       "<IPython.core.display.Markdown object>"
      ]
     },
     "metadata": {},
     "output_type": "display_data"
    }
   ],
   "source": [
    "kill(button_legacy_demo)"
   ]
  },
  {
   "cell_type": "code",
   "execution_count": null,
   "metadata": {},
   "outputs": [],
   "source": [
    "display(Markdown('### 🔌 Make a power cycle upon VNA-device '))\n",
    "\n",
    "button_device_power_cycle = widgets.Button(\n",
    "    description='Done',\n",
    "    disabled=False,\n",
    "    button_style='danger',  # 'success', 'info', 'warning', 'danger' or ''\n",
    "    tooltip='Click me',\n",
    "    icon='play'\n",
    ")\n",
    "button_device_power_cycle"
   ]
  },
  {
   "cell_type": "code",
   "execution_count": null,
   "metadata": {},
   "outputs": [],
   "source": [
    "%blockrun button_device_power_cycle"
   ]
  },
  {
   "cell_type": "code",
   "execution_count": null,
   "metadata": {},
   "outputs": [],
   "source": [
    "kill(button_device_power_cycle)"
   ]
  },
  {
   "cell_type": "code",
   "execution_count": null,
   "metadata": {},
   "outputs": [],
   "source": [
    "display(Markdown('### 💠 Now run SNVNA Application and connect'))\n",
    "display(Markdown('#### ⚠️ Disable DEMO mode in SNVNA Application'))"
   ]
  },
  {
   "cell_type": "code",
   "execution_count": 21,
   "metadata": {},
   "outputs": [
    {
     "data": {
      "application/vnd.jupyter.widget-view+json": {
       "model_id": "23e647fea3a741c285fe57aef66cda4b",
       "version_major": 2,
       "version_minor": 0
      },
      "text/plain": [
       "HBox(children=(VBox(children=(Label(value='Nextgen device', layout=Layout(width='auto')), Text(value='127.0.0.…"
      ]
     },
     "metadata": {},
     "output_type": "display_data"
    }
   ],
   "source": [
    "ng = DeviceBundle('Nextgen device', rm, '127.0.0.1:5025')\n",
    "widgets.HBox([ng.box()])"
   ]
  },
  {
   "cell_type": "code",
   "execution_count": null,
   "metadata": {},
   "outputs": [],
   "source": [
    "button_select_ng = widgets.Button(\n",
    "    description='Continue',\n",
    "    disabled=legacy_good,\n",
    "    button_style='success',  # 'success', 'info', 'warning', 'danger' or ''\n",
    "    tooltip='Click me',\n",
    "    icon='play'\n",
    ")\n",
    "button_select_ng"
   ]
  },
  {
   "cell_type": "code",
   "execution_count": null,
   "metadata": {},
   "outputs": [],
   "source": [
    "%blockrun button_select_ng"
   ]
  },
  {
   "cell_type": "code",
   "execution_count": 22,
   "metadata": {},
   "outputs": [
    {
     "name": "stdout",
     "output_type": "stream",
     "text": [
      "TCPIPSocket at TCPIP0::127.0.0.1::5025::SOCKET\n"
     ]
    }
   ],
   "source": [
    "print(ng.instance())"
   ]
  },
  {
   "cell_type": "code",
   "execution_count": 1,
   "metadata": {},
   "outputs": [
    {
     "ename": "NameError",
     "evalue": "name 'Markdown' is not defined",
     "output_type": "error",
     "traceback": [
      "\u001b[1;31m---------------------------------------------------------------------------\u001b[0m",
      "\u001b[1;31mNameError\u001b[0m                                 Traceback (most recent call last)",
      "\u001b[1;32m<ipython-input-1-3f71f0542925>\u001b[0m in \u001b[0;36m<module>\u001b[1;34m\u001b[0m\n\u001b[1;32m----> 1\u001b[1;33m \u001b[0mdisplay\u001b[0m\u001b[1;33m(\u001b[0m\u001b[0mMarkdown\u001b[0m\u001b[1;33m(\u001b[0m\u001b[1;34m'💠 Setup stimulus...'\u001b[0m\u001b[1;33m)\u001b[0m\u001b[1;33m)\u001b[0m\u001b[1;33m\u001b[0m\u001b[1;33m\u001b[0m\u001b[0m\n\u001b[0m\u001b[0;32m      2\u001b[0m \u001b[0minst2\u001b[0m \u001b[1;33m=\u001b[0m \u001b[0mng\u001b[0m\u001b[1;33m.\u001b[0m\u001b[0minstance\u001b[0m\u001b[1;33m(\u001b[0m\u001b[1;33m)\u001b[0m\u001b[1;33m\u001b[0m\u001b[1;33m\u001b[0m\u001b[0m\n\u001b[0;32m      3\u001b[0m \u001b[0minst2\u001b[0m\u001b[1;33m.\u001b[0m\u001b[0mwrite\u001b[0m\u001b[1;33m(\u001b[0m\u001b[1;34m\"SENS:FREQ:STAR 5 MHz\"\u001b[0m\u001b[1;33m)\u001b[0m\u001b[1;33m\u001b[0m\u001b[1;33m\u001b[0m\u001b[0m\n\u001b[0;32m      4\u001b[0m \u001b[0minst2\u001b[0m\u001b[1;33m.\u001b[0m\u001b[0mwrite\u001b[0m\u001b[1;33m(\u001b[0m\u001b[1;34m\"SENS:FREQ:STOP 9 GHz\"\u001b[0m\u001b[1;33m)\u001b[0m\u001b[1;33m\u001b[0m\u001b[1;33m\u001b[0m\u001b[0m\n\u001b[0;32m      5\u001b[0m \u001b[0minst2\u001b[0m\u001b[1;33m.\u001b[0m\u001b[0mwrite\u001b[0m\u001b[1;33m(\u001b[0m\u001b[1;34m'SENSe:SWEep:POINts 201'\u001b[0m\u001b[1;33m)\u001b[0m\u001b[1;33m\u001b[0m\u001b[1;33m\u001b[0m\u001b[0m\n",
      "\u001b[1;31mNameError\u001b[0m: name 'Markdown' is not defined"
     ]
    }
   ],
   "source": [
    "display(Markdown('⚙️ Setup stimulus...'))\n",
    "inst2 = ng.instance()\n",
    "inst2.write(\"SENS:FREQ:STAR 5 MHz\")\n",
    "inst2.write(\"SENS:FREQ:STOP 9 GHz\")\n",
    "inst2.write('SENSe:SWEep:POINts 201')\n",
    "inst2.write('SENSe:BWIDth 10000')\n",
    "\n",
    "display(Markdown('#### ✅ Stimulus configured, press to continue'))"
   ]
  },
  {
   "cell_type": "code",
   "execution_count": 25,
   "metadata": {},
   "outputs": [
    {
     "data": {
      "text/markdown": [
       "### 💠 Perfrom ACM Calibration in SNVNA"
      ],
      "text/plain": [
       "<IPython.core.display.Markdown object>"
      ]
     },
     "metadata": {},
     "output_type": "display_data"
    },
    {
     "data": {
      "application/vnd.jupyter.widget-view+json": {
       "model_id": "86fde609a2ac40a499862f42f64801b4",
       "version_major": 2,
       "version_minor": 0
      },
      "text/plain": [
       "Button(button_style='success', description='Continue', icon='gear', style=ButtonStyle(), tooltip='Click me')"
      ]
     },
     "metadata": {},
     "output_type": "display_data"
    }
   ],
   "source": [
    "display(Markdown('### 💠 Now perfrom ACM Calibration in SNVNA'))\n",
    "button_ng_done = widgets.Button(\n",
    "    description='Done',\n",
    "    disabled=False,\n",
    "    button_style='danger',  # 'success', 'info', 'warning', 'danger' or ''\n",
    "    tooltip='Click me',\n",
    "    icon='gear'\n",
    ")\n",
    "button_ng_done"
   ]
  },
  {
   "cell_type": "code",
   "execution_count": null,
   "metadata": {},
   "outputs": [],
   "source": [
    "%blockrun button_ng_done"
   ]
  },
  {
   "cell_type": "code",
   "execution_count": 27,
   "metadata": {},
   "outputs": [],
   "source": [
    "kill(button_ng_done)\n",
    "\n",
    "ng_er1, ng_ed1, ng_es1 = pull_terms_1(inst2, cal_port_1)\n",
    "ng_er2, ng_ed2, ng_es2 = pull_terms_1(inst2, cal_port_2)\n",
    "ng_el12, ng_et12 = pull_terms_2(inst2, cal_port_1, cal_port_2)"
   ]
  },
  {
   "cell_type": "code",
   "execution_count": 28,
   "metadata": {},
   "outputs": [
    {
     "data": {
      "text/markdown": [
       "### 💠 DONE"
      ],
      "text/plain": [
       "<IPython.core.display.Markdown object>"
      ]
     },
     "metadata": {},
     "output_type": "display_data"
    },
    {
     "data": {
      "application/vnd.jupyter.widget-view+json": {
       "model_id": "aa9d2966a23d4ed5b842b52be35fe6b3",
       "version_major": 2,
       "version_minor": 0
      },
      "text/plain": [
       "Button(button_style='success', description='Continue', icon='gear', style=ButtonStyle(), tooltip='Click me')"
      ]
     },
     "metadata": {},
     "output_type": "display_data"
    }
   ],
   "source": [
    "display(Markdown('✅ DONE'))\n",
    "button9 = widgets.Button(\n",
    "    description='Continue',\n",
    "    disabled=False,\n",
    "    button_style='success',  # 'success', 'info', 'warning', 'danger' or ''\n",
    "    tooltip='Click me',\n",
    "    icon='gear'\n",
    ")\n",
    "button9"
   ]
  },
  {
   "cell_type": "code",
   "execution_count": null,
   "metadata": {},
   "outputs": [],
   "source": [
    "%blockrun button9"
   ]
  },
  {
   "cell_type": "code",
   "execution_count": 29,
   "metadata": {},
   "outputs": [],
   "source": [
    "d_er1 = legacy_er1 - ng_er1\n",
    "d_ed1 = legacy_ed1 - ng_ed1\n",
    "d_es1 = legacy_es1 - ng_es1\n",
    "\n",
    "d_er2 = legacy_er2 - ng_er2\n",
    "d_ed2 = legacy_ed2 - ng_ed2\n",
    "d_es2 = legacy_es2 - ng_es2\n",
    "\n",
    "d_el = legacy_el12 - ng_el12\n",
    "d_et = legacy_et12 - ng_et12"
   ]
  },
  {
   "cell_type": "code",
   "execution_count": 56,
   "metadata": {},
   "outputs": [
    {
     "data": {
      "image/png": "[encoded data removed]",
      "text/plain": [
       "<Figure size 1080x1080 with 24 Axes>"
      ]
     },
     "metadata": {
      "needs_background": "light"
     },
     "output_type": "display_data"
    }
   ],
   "source": [
    "import matplotlib.pyplot as plt\n",
    "\n",
    "fig_legacy, axs_legacy = plt.subplots(8, 3, figsize=(15,15))"
   ]
  },
  {
   "cell_type": "code",
   "execution_count": 57,
   "metadata": {},
   "outputs": [
    {
     "data": {
      "text/plain": [
       "[<matplotlib.lines.Line2D at 0x17d38090>]"
      ]
     },
     "execution_count": 57,
     "metadata": {},
     "output_type": "execute_result"
    }
   ],
   "source": [
    "axs_legacy[0,0].set_aspect('equal')\n",
    "axs_legacy[0,0].set_title('Legacy ER P' + cal_port_1, fontsize=10)\n",
    "axs_legacy[0,0].plot(legacy_er1.real,legacy_er1.imag, '-')"
   ]
  },
  {
   "cell_type": "code",
   "execution_count": 58,
   "metadata": {},
   "outputs": [
    {
     "data": {
      "text/plain": [
       "[<matplotlib.lines.Line2D at 0x14a8c8d0>]"
      ]
     },
     "execution_count": 58,
     "metadata": {},
     "output_type": "execute_result"
    }
   ],
   "source": [
    "axs_legacy[0,1].set_aspect('equal')\n",
    "axs_legacy[0,1].set_title('Legacy ES P' + cal_port_1, fontsize=10)\n",
    "axs_legacy[0,1].plot(legacy_es1.real,legacy_es1.imag, '-')\n"
   ]
  },
  {
   "cell_type": "code",
   "execution_count": 59,
   "metadata": {},
   "outputs": [
    {
     "data": {
      "text/plain": [
       "[<matplotlib.lines.Line2D at 0x17cf6eb0>]"
      ]
     },
     "execution_count": 59,
     "metadata": {},
     "output_type": "execute_result"
    }
   ],
   "source": [
    "axs_legacy[0,2].set_aspect('equal')\n",
    "axs_legacy[0,2].set_title('Legacy ED P' + cal_port_1, fontsize=10)\n",
    "axs_legacy[0,2].plot(legacy_ed1.real,legacy_ed1.imag, '-')"
   ]
  },
  {
   "cell_type": "code",
   "execution_count": 60,
   "metadata": {},
   "outputs": [
    {
     "data": {
      "text/plain": [
       "[<matplotlib.lines.Line2D at 0x14ac8a90>]"
      ]
     },
     "execution_count": 60,
     "metadata": {},
     "output_type": "execute_result"
    }
   ],
   "source": [
    "axs_legacy[1,0].set_aspect('equal')\n",
    "axs_legacy[1,0].set_title('SNVNA ER P' + cal_port_1, fontsize=10)\n",
    "axs_legacy[1,0].plot(ng_er1.real,ng_er1.imag, '-')"
   ]
  },
  {
   "cell_type": "code",
   "execution_count": 61,
   "metadata": {},
   "outputs": [
    {
     "data": {
      "text/plain": [
       "[<matplotlib.lines.Line2D at 0x17cee890>]"
      ]
     },
     "execution_count": 61,
     "metadata": {},
     "output_type": "execute_result"
    }
   ],
   "source": [
    "axs_legacy[1,1].set_aspect('equal')\n",
    "axs_legacy[1,1].set_title('SNVNA ES P' + cal_port_1, fontsize=10)\n",
    "axs_legacy[1,1].plot(ng_es1.real,ng_es1.imag, '-')"
   ]
  },
  {
   "cell_type": "code",
   "execution_count": 62,
   "metadata": {},
   "outputs": [
    {
     "data": {
      "text/plain": [
       "[<matplotlib.lines.Line2D at 0x17c749b0>]"
      ]
     },
     "execution_count": 62,
     "metadata": {},
     "output_type": "execute_result"
    }
   ],
   "source": [
    "axs_legacy[1,2].set_aspect('equal')\n",
    "axs_legacy[1,2].set_title('SNVNA ED P' + cal_port_1, fontsize=10)\n",
    "axs_legacy[1,2].plot(ng_ed1.real,ng_ed1.imag, '-')"
   ]
  },
  {
   "cell_type": "code",
   "execution_count": 63,
   "metadata": {},
   "outputs": [
    {
     "data": {
      "text/plain": [
       "[<matplotlib.lines.Line2D at 0x17cb50d0>]"
      ]
     },
     "execution_count": 63,
     "metadata": {},
     "output_type": "execute_result"
    }
   ],
   "source": [
    "axs_legacy[2,0].set_aspect('equal')\n",
    "axs_legacy[2,0].set_title('Legacy ER P' + cal_port_2, fontsize=10)\n",
    "axs_legacy[2,0].plot(legacy_er2.real,legacy_er2.imag, '-')"
   ]
  },
  {
   "cell_type": "code",
   "execution_count": 64,
   "metadata": {},
   "outputs": [
    {
     "data": {
      "text/plain": [
       "[<matplotlib.lines.Line2D at 0x17ca3650>]"
      ]
     },
     "execution_count": 64,
     "metadata": {},
     "output_type": "execute_result"
    }
   ],
   "source": [
    "axs_legacy[2,1].set_aspect('equal')\n",
    "axs_legacy[2,1].set_title('Legacy ES P' + cal_port_2, fontsize=10)\n",
    "axs_legacy[2,1].plot(legacy_es2.real,legacy_es2.imag, '-')\n"
   ]
  },
  {
   "cell_type": "code",
   "execution_count": 65,
   "metadata": {},
   "outputs": [
    {
     "data": {
      "text/plain": [
       "[<matplotlib.lines.Line2D at 0x17bed930>]"
      ]
     },
     "execution_count": 65,
     "metadata": {},
     "output_type": "execute_result"
    }
   ],
   "source": [
    "axs_legacy[2,2].set_aspect('equal')\n",
    "axs_legacy[2,2].set_title('Legacy ED P' + cal_port_2, fontsize=10)\n",
    "axs_legacy[2,2].plot(legacy_ed2.real,legacy_ed2.imag, '-')"
   ]
  },
  {
   "cell_type": "code",
   "execution_count": 66,
   "metadata": {},
   "outputs": [
    {
     "data": {
      "text/plain": [
       "[<matplotlib.lines.Line2D at 0x17d2d330>]"
      ]
     },
     "execution_count": 66,
     "metadata": {},
     "output_type": "execute_result"
    }
   ],
   "source": [
    "axs_legacy[3,0].set_aspect('equal')\n",
    "axs_legacy[3,0].set_title('SNVNA ER P' + cal_port_2, fontsize=10)\n",
    "axs_legacy[3,0].plot(ng_er2.real,ng_er2.imag, '-')"
   ]
  },
  {
   "cell_type": "code",
   "execution_count": 67,
   "metadata": {},
   "outputs": [
    {
     "data": {
      "text/plain": [
       "[<matplotlib.lines.Line2D at 0x17d2d190>]"
      ]
     },
     "execution_count": 67,
     "metadata": {},
     "output_type": "execute_result"
    }
   ],
   "source": [
    "axs_legacy[3,1].set_aspect('equal')\n",
    "axs_legacy[3,1].set_title('SNVNA ES P' + cal_port_2, fontsize=10)\n",
    "axs_legacy[3,1].plot(ng_es2.real,ng_es2.imag, '-')\n"
   ]
  },
  {
   "cell_type": "code",
   "execution_count": 68,
   "metadata": {},
   "outputs": [
    {
     "data": {
      "text/plain": [
       "[<matplotlib.lines.Line2D at 0x17d2db50>]"
      ]
     },
     "execution_count": 68,
     "metadata": {},
     "output_type": "execute_result"
    }
   ],
   "source": [
    "axs_legacy[3,2].set_aspect('equal')\n",
    "axs_legacy[3,2].set_title('SNVNA ED P' + cal_port_2, fontsize=10)\n",
    "axs_legacy[3,2].plot(ng_ed2.real,ng_ed2.imag, '-')"
   ]
  },
  {
   "cell_type": "code",
   "execution_count": 69,
   "metadata": {},
   "outputs": [
    {
     "data": {
      "text/plain": [
       "[<matplotlib.lines.Line2D at 0x17d26ad0>]"
      ]
     },
     "execution_count": 69,
     "metadata": {},
     "output_type": "execute_result"
    }
   ],
   "source": [
    "axs_legacy[4,0].set_aspect('equal')\n",
    "axs_legacy[4,0].set_title('Legacy EL P' + cal_port_1 + '-P' + cal_port_2, fontsize=10)\n",
    "axs_legacy[4,0].plot(legacy_el12.real,legacy_el12.imag, '-')"
   ]
  },
  {
   "cell_type": "code",
   "execution_count": 70,
   "metadata": {},
   "outputs": [
    {
     "data": {
      "text/plain": [
       "[<matplotlib.lines.Line2D at 0x17d26df0>]"
      ]
     },
     "execution_count": 70,
     "metadata": {},
     "output_type": "execute_result"
    }
   ],
   "source": [
    "axs_legacy[4,1].set_aspect('equal')\n",
    "axs_legacy[4,1].set_title('Legacy ET P' + cal_port_1 + '-P' + cal_port_2, fontsize=10)\n",
    "axs_legacy[4,1].plot(legacy_et12.real,legacy_et12.imag, '-')"
   ]
  },
  {
   "cell_type": "code",
   "execution_count": 71,
   "metadata": {},
   "outputs": [
    {
     "data": {
      "text/plain": [
       "[<matplotlib.lines.Line2D at 0x17d26f90>]"
      ]
     },
     "execution_count": 71,
     "metadata": {},
     "output_type": "execute_result"
    }
   ],
   "source": [
    "axs_legacy[5,0].set_aspect('equal')\n",
    "axs_legacy[5,0].set_title('SNVNA EL P' + cal_port_1 + '-P' + cal_port_2, fontsize=10)\n",
    "axs_legacy[5,0].plot(ng_el12.real,ng_el12.imag, '-')"
   ]
  },
  {
   "cell_type": "code",
   "execution_count": 72,
   "metadata": {},
   "outputs": [
    {
     "data": {
      "text/plain": [
       "[<matplotlib.lines.Line2D at 0x17655490>]"
      ]
     },
     "execution_count": 72,
     "metadata": {},
     "output_type": "execute_result"
    }
   ],
   "source": [
    "axs_legacy[5,1].set_aspect('equal')\n",
    "axs_legacy[5,1].set_title('SNVNA ET P' + cal_port_1 + '-P' + cal_port_2, fontsize=10)\n",
    "axs_legacy[5,1].plot(ng_et12.real,ng_et12.imag, '-')"
   ]
  },
  {
   "cell_type": "code",
   "execution_count": 73,
   "metadata": {},
   "outputs": [
    {
     "data": {
      "text/plain": [
       "[<matplotlib.lines.Line2D at 0x17698650>]"
      ]
     },
     "execution_count": 73,
     "metadata": {},
     "output_type": "execute_result"
    }
   ],
   "source": [
    "axs_legacy[6,0].set_aspect('equal', 'box')\n",
    "axs_legacy[6,0].set_title('Delta ER P' + cal_port_1, fontsize=10)\n",
    "axs_legacy[6,0].plot(d_er1.real,d_er1.imag, '-')"
   ]
  },
  {
   "cell_type": "code",
   "execution_count": 74,
   "metadata": {},
   "outputs": [
    {
     "data": {
      "text/plain": [
       "[<matplotlib.lines.Line2D at 0x17d268b0>]"
      ]
     },
     "execution_count": 74,
     "metadata": {},
     "output_type": "execute_result"
    }
   ],
   "source": [
    "axs_legacy[6,1].set_aspect('equal', 'box')\n",
    "axs_legacy[6,1].set_title('Delta ES P' + cal_port_1, fontsize=10)\n",
    "axs_legacy[6,1].plot(d_es1.real,d_es1.imag, '-')"
   ]
  },
  {
   "cell_type": "code",
   "execution_count": 75,
   "metadata": {},
   "outputs": [
    {
     "data": {
      "text/plain": [
       "[<matplotlib.lines.Line2D at 0x17d26210>]"
      ]
     },
     "execution_count": 75,
     "metadata": {},
     "output_type": "execute_result"
    }
   ],
   "source": [
    "axs_legacy[6,2].set_aspect('equal', 'box')\n",
    "axs_legacy[6,2].set_title('Delta ED P' + cal_port_1, fontsize=10)\n",
    "axs_legacy[6,2].plot(d_ed1.real,d_ed1.imag, '-')"
   ]
  },
  {
   "cell_type": "code",
   "execution_count": 76,
   "metadata": {},
   "outputs": [
    {
     "data": {
      "text/plain": [
       "[<matplotlib.lines.Line2D at 0x17d0a8d0>]"
      ]
     },
     "execution_count": 76,
     "metadata": {},
     "output_type": "execute_result"
    }
   ],
   "source": [
    "axs_legacy[7,0].set_aspect('equal', 'box')\n",
    "axs_legacy[7,0].set_title('Delta ER P' + cal_port_2, fontsize=10)\n",
    "axs_legacy[7,0].plot(d_er2.real,d_er2.imag, '-')"
   ]
  },
  {
   "cell_type": "code",
   "execution_count": 77,
   "metadata": {},
   "outputs": [
    {
     "data": {
      "text/plain": [
       "[<matplotlib.lines.Line2D at 0x17d0a5d0>]"
      ]
     },
     "execution_count": 77,
     "metadata": {},
     "output_type": "execute_result"
    }
   ],
   "source": [
    "axs_legacy[7,1].set_aspect('equal', 'box')\n",
    "axs_legacy[7,1].set_title('Delta ES P' + cal_port_2, fontsize=10)\n",
    "axs_legacy[7,1].plot(d_es2.real,d_es2.imag, '-')"
   ]
  },
  {
   "cell_type": "code",
   "execution_count": 78,
   "metadata": {},
   "outputs": [
    {
     "data": {
      "text/plain": [
       "[<matplotlib.lines.Line2D at 0x17d46230>]"
      ]
     },
     "execution_count": 78,
     "metadata": {},
     "output_type": "execute_result"
    }
   ],
   "source": [
    "axs_legacy[7,2].set_aspect('equal', 'box')\n",
    "axs_legacy[7,2].set_title('Delta ED P' + cal_port_2, fontsize=10)\n",
    "axs_legacy[7,2].plot(d_ed2.real,d_ed2.imag, '-')"
   ]
  },
  {
   "cell_type": "code",
   "execution_count": 79,
   "metadata": {},
   "outputs": [],
   "source": [
    "fig_legacy.tight_layout()"
   ]
  },
  {
   "cell_type": "code",
   "execution_count": 80,
   "metadata": {
    "scrolled": false
   },
   "outputs": [],
   "source": [
    "# # create array of all unique x values\n",
    "# x_all = er.real + er2.real\n",
    "# x_all = np.unique(np.array(x_all))\n",
    "\n",
    "# # interpolate y values on new xarray\n",
    "# y_all = np.empty((len(x_all), 2))\n",
    "# for i,x,y in zip(range(2), [er.real,er2.real], [er.imag, er2.imag]):\n",
    "#     y_all[:,i] = np.interp(x_all, x, y)\n",
    "\n",
    "# # find out min and max values    \n",
    "# ymin = y_all.min(axis=1)\n",
    "# ymax = y_all.max(axis=1)\n",
    "\n",
    "#axs4[0,0].plot(er2.real,er2.imag, '-')\n",
    "#axs4[0,0].fill_between(x_all, ymin, ymax, alpha=0.6)axs4[1,0].plot(er2.real,er2.imag, '-')\n",
    "\n",
    "plt.show()"
   ]
  },
  {
   "cell_type": "code",
   "execution_count": null,
   "metadata": {},
   "outputs": [],
   "source": [
    "def scif(v):\n",
    "    return \"{:+.11e}\".format(v)"
   ]
  },
  {
   "cell_type": "code",
   "execution_count": null,
   "metadata": {},
   "outputs": [],
   "source": [
    "with open('D_ER.s1p', 'w') as file:\n",
    "    f = 0\n",
    "    file.write(f'# Hz S RI R 50\\n')\n",
    "    for i in d_er:\n",
    "        file.write(f'{str(scif(loada_ts.freqs[f]))}')\n",
    "        file.write(f'\\t')\n",
    "        file.write(f'{str(scif(i.real))}')\n",
    "        file.write(f'\\t')\n",
    "        file.write(f'{str(scif(i.imag))}')\n",
    "        file.write(f'\\n')\n",
    "        f = f + 1"
   ]
  },
  {
   "cell_type": "code",
   "execution_count": null,
   "metadata": {},
   "outputs": [],
   "source": [
    "with open('D_ED.s1p', 'w') as file: \n",
    "    f = 0\n",
    "    file.write(f'# Hz S RI R 50\\n')\n",
    "    for i in d_ed:\n",
    "        file.write(f'{str(scif(loada_ts.freqs[f]))}')\n",
    "        file.write(f'\\t')\n",
    "        file.write(f'{str(scif(i.real))}')\n",
    "        file.write(f'\\t')\n",
    "        file.write(f'{str(scif(i.imag))}')\n",
    "        file.write(f'\\n')\n",
    "        f = f + 1"
   ]
  },
  {
   "cell_type": "code",
   "execution_count": null,
   "metadata": {},
   "outputs": [],
   "source": [
    "with open('D_ES.s1p', 'w') as file:   \n",
    "    f = 0\n",
    "    file.write(f'# Hz S RI R 50\\n')\n",
    "    for i in d_es:\n",
    "        file.write(f'{str(scif(loada_ts.freqs[f]))}')\n",
    "        file.write(f'\\t')\n",
    "        file.write(f'{str(scif(i.real))}')\n",
    "        file.write(f'\\t')\n",
    "        file.write(f'{str(scif(i.imag))}')\n",
    "        file.write(f'\\n')\n",
    "        f = f + 1"
   ]
  },
  {
   "cell_type": "code",
   "execution_count": null,
   "metadata": {},
   "outputs": [],
   "source": [
    "with open('ER_LEGACY.s1p', 'w') as file:\n",
    "    f = 0\n",
    "    file.write(f'# Hz S RI R 50\\n')\n",
    "    for i in er:\n",
    "        file.write(f'{str(scif(loada_ts.freqs[f]))}')\n",
    "        file.write(f'\\t')\n",
    "        file.write(f'{str(scif(i.real))}')\n",
    "        file.write(f'\\t')\n",
    "        file.write(f'{str(scif(i.imag))}')\n",
    "        file.write(f'\\n')\n",
    "        f = f + 1"
   ]
  },
  {
   "cell_type": "code",
   "execution_count": null,
   "metadata": {},
   "outputs": [],
   "source": [
    "with open('ES_LEGACY.s1p', 'w') as file:\n",
    "    f = 0\n",
    "    file.write(f'# Hz S RI R 50\\n')\n",
    "    for i in es:\n",
    "        file.write(f'{str(scif(loada_ts.freqs[f]))}')\n",
    "        file.write(f'\\t')\n",
    "        file.write(f'{str(scif(i.real))}')\n",
    "        file.write(f'\\t')\n",
    "        file.write(f'{str(scif(i.imag))}')\n",
    "        file.write(f'\\n')\n",
    "        f = f + 1"
   ]
  },
  {
   "cell_type": "code",
   "execution_count": null,
   "metadata": {},
   "outputs": [],
   "source": [
    "with open('ED_LEGACY.s1p', 'w') as file:\n",
    "    f = 0\n",
    "    file.write(f'# Hz S RI R 50\\n')\n",
    "    for i in ed:\n",
    "        file.write(f'{str(scif(loada_ts.freqs[f]))}')\n",
    "        file.write(f'\\t')\n",
    "        file.write(f'{str(scif(i.real))}')\n",
    "        file.write(f'\\t')\n",
    "        file.write(f'{str(scif(i.imag))}')\n",
    "        file.write(f'\\n')\n",
    "        f = f + 1"
   ]
  },
  {
   "cell_type": "code",
   "execution_count": null,
   "metadata": {},
   "outputs": [],
   "source": [
    "with open('ER_SN.s1p', 'w') as file:\n",
    "    f = 0\n",
    "    file.write(f'# Hz S RI R 50\\n')\n",
    "    for i in er2:\n",
    "        file.write(f'{str(scif(loada_ts.freqs[f]))}')\n",
    "        file.write(f'\\t')\n",
    "        file.write(f'{str(scif(i.real))}')\n",
    "        file.write(f'\\t')\n",
    "        file.write(f'{str(scif(i.imag))}')\n",
    "        file.write(f'\\n')\n",
    "        f = f + 1"
   ]
  },
  {
   "cell_type": "code",
   "execution_count": null,
   "metadata": {},
   "outputs": [],
   "source": [
    "with open('ES_SN.s1p', 'w') as file:\n",
    "    f = 0\n",
    "    file.write(f'# Hz S RI R 50\\n')\n",
    "    for i in es2:\n",
    "        file.write(f'{str(scif(loada_ts.freqs[f]))}')\n",
    "        file.write(f'\\t')\n",
    "        file.write(f'{str(scif(i.real))}')\n",
    "        file.write(f'\\t')\n",
    "        file.write(f'{str(scif(i.imag))}')\n",
    "        file.write(f'\\n')\n",
    "        f = f + 1"
   ]
  },
  {
   "cell_type": "code",
   "execution_count": null,
   "metadata": {},
   "outputs": [],
   "source": [
    "with open('ED_SN.s1p', 'w') as file:\n",
    "    f = 0\n",
    "    file.write(f'# Hz S RI R 50\\n')\n",
    "    for i in ed2:\n",
    "        file.write(f'{str(scif(loada_ts.freqs[f]))}')\n",
    "        file.write(f'\\t')\n",
    "        file.write(f'{str(scif(i.real))}')\n",
    "        file.write(f'\\t')\n",
    "        file.write(f'{str(scif(i.imag))}')\n",
    "        file.write(f'\\n')\n",
    "        f = f + 1"
   ]
  },
  {
   "cell_type": "code",
   "execution_count": null,
   "metadata": {},
   "outputs": [],
   "source": []
  }
 ],
 "metadata": {
  "hide_input": false,
  "kernelspec": {
   "display_name": "Python 3",
   "language": "python",
   "name": "python3"
  },
  "language_info": {
   "codemirror_mode": {
    "name": "ipython",
    "version": 3
   },
   "file_extension": ".py",
   "mimetype": "text/x-python",
   "name": "python",
   "nbconvert_exporter": "python",
   "pygments_lexer": "ipython3",
   "version": "3.7.3"
  },
  "toc": {
   "base_numbering": 1,
   "nav_menu": {
    "height": "129px",
    "width": "225px"
   },
   "number_sections": true,
   "sideBar": true,
   "skip_h1_title": false,
   "title_cell": "Table of Contents",
   "title_sidebar": "Содержимое",
   "toc_cell": false,
   "toc_position": {},
   "toc_section_display": true,
   "toc_window_display": true
  },
  "varInspector": {
   "cols": {
    "lenName": 16,
    "lenType": 16,
    "lenVar": 40
   },
   "kernels_config": {
    "python": {
     "delete_cmd_postfix": "",
     "delete_cmd_prefix": "del ",
     "library": "var_list.py",
     "varRefreshCmd": "print(var_dic_list())"
    },
    "r": {
     "delete_cmd_postfix": ") ",
     "delete_cmd_prefix": "rm(",
     "library": "var_list.r",
     "varRefreshCmd": "cat(var_dic_list()) "
    }
   },
   "position": {
    "height": "577.2px",
    "left": "1678px",
    "right": "20px",
    "top": "120px",
    "width": "350px"
   },
   "types_to_exclude": [
    "module",
    "function",
    "builtin_function_or_method",
    "instance",
    "_Feature"
   ],
   "window_display": false
  }
 },
 "nbformat": 4,
 "nbformat_minor": 2
}
